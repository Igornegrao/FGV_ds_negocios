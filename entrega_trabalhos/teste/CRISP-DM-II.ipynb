{
 "cells": [
  {
   "cell_type": "markdown",
   "metadata": {
    "toc": true
   },
   "source": [
    "<h1>Table of Contents<span class=\"tocSkip\"></span></h1>\n",
    "<div class=\"toc\"><ul class=\"toc-item\"><li><span><a href=\"#Agenda\" data-toc-modified-id=\"Agenda-1\"><span class=\"toc-item-num\">1&nbsp;&nbsp;</span>Agenda</a></span></li><li><span><a href=\"#O-que-é-a-primeira-coisa-que-deve-ser-feita-quando-inicia-se-um-projeto-de-Ciência-de-Dados?\" data-toc-modified-id=\"O-que-é-a-primeira-coisa-que-deve-ser-feita-quando-inicia-se-um-projeto-de-Ciência-de-Dados?-2\"><span class=\"toc-item-num\">2&nbsp;&nbsp;</span>O que é a primeira coisa que deve ser feita quando inicia-se um projeto de Ciência de Dados?</a></span></li><li><span><a href=\"#Metodologia-de-Trabalho\" data-toc-modified-id=\"Metodologia-de-Trabalho-3\"><span class=\"toc-item-num\">3&nbsp;&nbsp;</span>Metodologia de Trabalho</a></span><ul class=\"toc-item\"><li><span><a href=\"#Problemas-na-falta-de-uma-metodologia-estruturada\" data-toc-modified-id=\"Problemas-na-falta-de-uma-metodologia-estruturada-3.1\"><span class=\"toc-item-num\">3.1&nbsp;&nbsp;</span>Problemas na falta de uma metodologia estruturada</a></span></li></ul></li><li><span><a href=\"#CRISP-DM\" data-toc-modified-id=\"CRISP-DM-4\"><span class=\"toc-item-num\">4&nbsp;&nbsp;</span>CRISP-DM</a></span></li><li><span><a href=\"#Entendimento-do-Negócio\" data-toc-modified-id=\"Entendimento-do-Negócio-5\"><span class=\"toc-item-num\">5&nbsp;&nbsp;</span>Entendimento do Negócio</a></span><ul class=\"toc-item\"><li><span><a href=\"#Determinar-os-objetivos-de-negócio\" data-toc-modified-id=\"Determinar-os-objetivos-de-negócio-5.1\"><span class=\"toc-item-num\">5.1&nbsp;&nbsp;</span>Determinar os objetivos de negócio</a></span><ul class=\"toc-item\"><li><span><a href=\"#Exemplo:-Colaboradores-que-mudarão-de-área\" data-toc-modified-id=\"Exemplo:-Colaboradores-que-mudarão-de-área-5.1.1\"><span class=\"toc-item-num\">5.1.1&nbsp;&nbsp;</span>Exemplo: Colaboradores que mudarão de área</a></span></li><li><span><a href=\"#Critério-de-sucesso-para-o-negócio\" data-toc-modified-id=\"Critério-de-sucesso-para-o-negócio-5.1.2\"><span class=\"toc-item-num\">5.1.2&nbsp;&nbsp;</span>Critério de sucesso para o negócio</a></span></li></ul></li><li><span><a href=\"#Panorama-da-situação\" data-toc-modified-id=\"Panorama-da-situação-5.2\"><span class=\"toc-item-num\">5.2&nbsp;&nbsp;</span>Panorama da situação</a></span></li><li><span><a href=\"#Objetivos-do-Projeto-de-Ciência-de-Dados\" data-toc-modified-id=\"Objetivos-do-Projeto-de-Ciência-de-Dados-5.3\"><span class=\"toc-item-num\">5.3&nbsp;&nbsp;</span>Objetivos do Projeto de Ciência de Dados</a></span></li><li><span><a href=\"#Resumo\" data-toc-modified-id=\"Resumo-5.4\"><span class=\"toc-item-num\">5.4&nbsp;&nbsp;</span>Resumo</a></span></li></ul></li><li><span><a href=\"#Entendimento-dos-Dados\" data-toc-modified-id=\"Entendimento-dos-Dados-6\"><span class=\"toc-item-num\">6&nbsp;&nbsp;</span>Entendimento dos Dados</a></span><ul class=\"toc-item\"><li><span><a href=\"#Resumo\" data-toc-modified-id=\"Resumo-6.1\"><span class=\"toc-item-num\">6.1&nbsp;&nbsp;</span>Resumo</a></span></li></ul></li><li><span><a href=\"#Preparaçao-dos-Dados\" data-toc-modified-id=\"Preparaçao-dos-Dados-7\"><span class=\"toc-item-num\">7&nbsp;&nbsp;</span>Preparaçao dos Dados</a></span><ul class=\"toc-item\"><li><span><a href=\"#Resumo:\" data-toc-modified-id=\"Resumo:-7.1\"><span class=\"toc-item-num\">7.1&nbsp;&nbsp;</span>Resumo:</a></span></li></ul></li><li><span><a href=\"#Modelagem\" data-toc-modified-id=\"Modelagem-8\"><span class=\"toc-item-num\">8&nbsp;&nbsp;</span>Modelagem</a></span><ul class=\"toc-item\"><li><span><a href=\"#Escolha-da-técnica\" data-toc-modified-id=\"Escolha-da-técnica-8.1\"><span class=\"toc-item-num\">8.1&nbsp;&nbsp;</span>Escolha da técnica</a></span><ul class=\"toc-item\"><li><span><a href=\"#Técnicas:\" data-toc-modified-id=\"Técnicas:-8.1.1\"><span class=\"toc-item-num\">8.1.1&nbsp;&nbsp;</span>Técnicas:</a></span></li></ul></li></ul></li><li><span><a href=\"#Avaliação-dos-resultados\" data-toc-modified-id=\"Avaliação-dos-resultados-9\"><span class=\"toc-item-num\">9&nbsp;&nbsp;</span>Avaliação dos resultados</a></span><ul class=\"toc-item\"><li><ul class=\"toc-item\"><li><span><a href=\"#E-sobre-as-variáveis?\" data-toc-modified-id=\"E-sobre-as-variáveis?-9.0.1\"><span class=\"toc-item-num\">9.0.1&nbsp;&nbsp;</span>E sobre as variáveis?</a></span></li><li><span><a href=\"#Revisão\" data-toc-modified-id=\"Revisão-9.0.2\"><span class=\"toc-item-num\">9.0.2&nbsp;&nbsp;</span>Revisão</a></span></li><li><span><a href=\"#Proximos-Passos:\" data-toc-modified-id=\"Proximos-Passos:-9.0.3\"><span class=\"toc-item-num\">9.0.3&nbsp;&nbsp;</span>Proximos Passos:</a></span></li></ul></li></ul></li><li><span><a href=\"#Deployment\" data-toc-modified-id=\"Deployment-10\"><span class=\"toc-item-num\">10&nbsp;&nbsp;</span>Deployment</a></span></li><li><span><a href=\"#Referências\" data-toc-modified-id=\"Referências-11\"><span class=\"toc-item-num\">11&nbsp;&nbsp;</span>Referências</a></span></li><li><span><a href=\"#Resumo\" data-toc-modified-id=\"Resumo-12\"><span class=\"toc-item-num\">12&nbsp;&nbsp;</span>Resumo</a></span></li></ul></div>"
   ]
  },
  {
   "cell_type": "markdown",
   "metadata": {},
   "source": [
    "# Agenda\n",
    "\n",
    "<font size=\"4\">* Apresentação</font>\\\n",
    "<font size=\"4\">* Dinâmica</font>\\\n",
    "<font size=\"4\">* Problemas na falta de metodologia de trabalho</font>\\\n",
    "<font size=\"4\">* Crisp-dm e suas etapas</font>\\\n",
    "<font size=\"4\">* Referências</font>\n"
   ]
  },
  {
   "cell_type": "markdown",
   "metadata": {},
   "source": [
    "# O que é a primeira coisa que deve ser feita quando inicia-se um projeto de Ciência de Dados?"
   ]
  },
  {
   "cell_type": "code",
   "execution_count": null,
   "metadata": {},
   "outputs": [],
   "source": [
    "# mentimeter"
   ]
  },
  {
   "cell_type": "markdown",
   "metadata": {},
   "source": [
    "# Metodologia de Trabalho"
   ]
  },
  {
   "cell_type": "markdown",
   "metadata": {},
   "source": [
    "<img src='figures/go_horse.gif'>"
   ]
  },
  {
   "cell_type": "markdown",
   "metadata": {},
   "source": [
    "## Problemas na falta de uma metodologia estruturada\n",
    "\n",
    "* Dependência da experiência de um analista sênior\n",
    "* Ineficiência\n",
    "* Problemas no compartilhamento de informação\n",
    "* Entregar algo diferente do que foi solicitado\n",
    "* Projeto irreprodutíveis \n",
    "* Escopo deficiente\n"
   ]
  },
  {
   "cell_type": "markdown",
   "metadata": {},
   "source": [
    "# CRISP-DM \n",
    "\n",
    "Cross-Industry Standart Process for Data Mining \n",
    "\n",
    "Desenvolvido em 1996 por algumas grandes empresas de análises de dados: SPSS, Teradata, Daimler, OCHRA, NCR"
   ]
  },
  {
   "cell_type": "markdown",
   "metadata": {},
   "source": [
    "<img src='figures/crisp-dm-nutshell-v3.png' width = 800>"
   ]
  },
  {
   "cell_type": "markdown",
   "metadata": {},
   "source": [
    "Uma dica: \n",
    "\n",
    "    * lean \n",
    "    * mescle com uma metodologia ágil, por exemplo: faça ciclos de 15 em 15 dias \n",
    "    * sempre faça reuniões (cerimônias), daylies, reuniões semanais, plannings\n",
    "    * faça rituais de entrega claros"
   ]
  },
  {
   "cell_type": "markdown",
   "metadata": {},
   "source": [
    "Vamos entender um pouco mais na prática! "
   ]
  },
  {
   "cell_type": "markdown",
   "metadata": {},
   "source": [
    "A empresa em que você trabalha irá fornecer um treinamento para posteriormente contratar cientistas de dados.  No entanto, sabe-se que muitos deles tem a intenção de participar do treinamento e posteriormente trocar de empresa. Então a demanda é:\n",
    "\n",
    "**Dado um conjunto de observações passadas é possível identificar se o colaborador pretende trocar de emprego?**\n"
   ]
  },
  {
   "cell_type": "markdown",
   "metadata": {},
   "source": [
    "<img src='figures/answers.jpeg'>"
   ]
  },
  {
   "cell_type": "markdown",
   "metadata": {},
   "source": [
    "Vamos entender um pouco mais! \n",
    "\n",
    "https://www.kdnuggets.com/2015/09/how-long-data-scientists-stay-jobs.html\n",
    "\n",
    "<img src='figures/poll-job-stay-prev-current.jpg'>"
   ]
  },
  {
   "cell_type": "markdown",
   "metadata": {},
   "source": [
    "# Entendimento do Negócio\n",
    "\n",
    "* Objetivos do Negócio\n",
    "* Panorama da Situação\n",
    "* Objetivos do Projeto de Ciência de Dados\n",
    "* Produzir um plano de projeto"
   ]
  },
  {
   "cell_type": "markdown",
   "metadata": {},
   "source": [
    "**Atenção** \n",
    "\n",
    "* Ciência de Dados ou Automação?\n",
    "* É preciso entender se esse é realmente um problema de ciência de dados!\n"
   ]
  },
  {
   "cell_type": "markdown",
   "metadata": {},
   "source": [
    "<img src='figures/diagrama-data-science.png' alt=\"drawing\" width=\"400\">"
   ]
  },
  {
   "cell_type": "markdown",
   "metadata": {},
   "source": [
    "## Determinar os objetivos de negócio\n",
    "\n",
    "Nessa etapa, é importante entender a situação da área de negócios antes do inicio do projeto. Essa etapa é importante para identificar mais de perto os objetivos de negócios mas também os recursos disponíveis, tanto humanos quanto materiais.\n",
    "\n",
    "As principais atividades são:\n",
    "\n",
    "(Em relação a Organização)\n",
    "\n",
    "* Gráfico organizacional: ajuda a identificar áreas e responsáveis (pessoas chaves no negócio e seus papeis)\n",
    "* Quem é o sponsor (financeiro e usuário principal)\n",
    "* Existe um comitê dirigente? Quem são?\n",
    "* Quais unidades de negócio serão afetadas pelo projeto (Marketing, Finanças)? \n",
    "\n",
    "(Em relação a Area do Problema)\n",
    "\n",
    "* Qual área do problema?\n",
    "* Em termos gerais, qual é o problema a ser resolvido?\n",
    "* A area afetada já está ciente do projeto?\n",
    "* Qual é a motivação do projeto?\n",
    "* As pessoas envolvidas conhecem os termos principais de ciência de dados?\n",
    "* Quais as necessidades e expectativas do cliente?\n",
    "\n"
   ]
  },
  {
   "cell_type": "markdown",
   "metadata": {},
   "source": [
    "**Resumindo**\n",
    "\n",
    "* Pessoas \n",
    "* Demanda"
   ]
  },
  {
   "cell_type": "markdown",
   "metadata": {},
   "source": [
    "Agora que já temos uma visão geral, vamos entender um pouco mais sobre o problema a ser resolvido:\n",
    "\n",
    "* Qual é o problema? \n",
    "* Qual é o objetivo?\n",
    "* Quais são as restrições?\n"
   ]
  },
  {
   "cell_type": "markdown",
   "metadata": {},
   "source": [
    "> Uma dica é usar a dinâmica dos 5 porques\n",
    "\n",
    "<img src='figures/fluxo_5pq.jpg' width=600>"
   ]
  },
  {
   "cell_type": "markdown",
   "metadata": {},
   "source": [
    "### Exemplo: Colaboradores que mudarão de área \n",
    " ----\n",
    "\n",
    ">**Objetivo relatado pela área de negócio:***\n",
    ">\n",
    "> <i>\"Queremos identificar pessoas que irão deixar a empresa e então não priorizá-las em um treinamento\"</i>\n",
    ">\n",
    ">\n",
    ">Soou genérico? É assim que os desafios de ciência de dados chegam. Após as primeiras reuniões, >começamos a identificar de fato os objetivos! \n",
    ">\n",
    "\n",
    ">**1ª reunião**\n",
    ">\n",
    "><i>\"Hoje, investimos em muitos colaboradores que posteriormente deixam a empresa. Isso ajudará a reduzir custos e tempo, bem como ter uma maior qualidade nos treinamentos e planejar os cursos de acordo com os perfis de candidatos\"</i>\n",
    ">\n",
    ">Daqui já tiramos algumas informações importantes: \n",
    ">\n",
    ">* Um erro não será um grande problema. Ou seja, um FN não será um desastre\n",
    ">* Existem duas tarefas aqui: Predizer se o colaborador irá sair E clusterizar os perfis de candidatos\n",
    ">* Benchmark: Já existem exames previamente rotulados e estudos do mercado mostrando que esse turnover é alto\n",
    ">\n",
    ">\n",
    ">Mas surgem outras perguntas: \n",
    ">\n",
    ">* Qual é o público rotulado? \n",
    ">* Qual é a taxa de turnover dessa empresa?\n",
    ">* Qual é o tamanho ideal de turmas para o treinamento? **ordenação**\n",
    ">\n",
    "\n",
    ">**2ª reunião**\n",
    ">\n",
    "> <i>\"Somos uma grande empresa de Tecnologia. Analisamos todos os colaboradores, aproximadamente 20 mil e desses 25% acabam deixando a empresa. O ideal é termos uma turma de 50 alunos, mas esse número pode ser flexibilizado\" </i>\n",
    ">\n",
    "> Observe que, nesse caso, estamos tratando com um problema desbalanceado! E outras perguntas vão surgir!\n",
    "\n",
    "https://www.kaggle.com/arashnic/hr-analytics-job-change-of-data-scientists"
   ]
  },
  {
   "cell_type": "markdown",
   "metadata": {},
   "source": [
    "### Critério de sucesso para o negócio\n",
    "\n",
    "* O que é um critério de sucesso? \n",
    "\n",
    "* Quem avalia os critérios de sucesso?"
   ]
  },
  {
   "cell_type": "markdown",
   "metadata": {},
   "source": [
    "## Panorama da situação \n",
    "\n",
    "* Inventário de recursos: hardware disponível, bases de dados, pessoas envolvidas\n",
    "* Faça um glossário de termos\n",
    "* Compare os custos com os potenciais benéficios"
   ]
  },
  {
   "cell_type": "markdown",
   "metadata": {},
   "source": [
    "## Objetivos do Projeto de Ciência de Dados\n",
    "\n",
    "* Traduzir as questões do negócio para as questões de ciência de dados: qual é o tipo do problema a ser resolvido (classificação, agrupamento, regressão)\n",
    "* Critérios de sucesso: métricas a serem utilizadas (AUC, precisão, sensibilidade)\n",
    "* Existe algum benchmark?\n",
    "* Existe algum critério subjetivo de sucesso ou restrição: modelo precisa ser interpretável\n",
    "* Dica de ferramenta: ML Canvas\n",
    "\n"
   ]
  },
  {
   "cell_type": "markdown",
   "metadata": {},
   "source": [
    "<img src='figures/ml_canvas.jpeg' width = 700>"
   ]
  },
  {
   "cell_type": "markdown",
   "metadata": {},
   "source": [
    "## Resumo \n",
    "\n",
    "Ao final, precisamos ter algumas coisas bem claras:\n",
    "\n",
    "- Quais os Objetivos Gerais e Especificos?\n",
    "- Qual é o problema que você está tentando resolver?\n",
    "- Porque ele é importante?\n",
    "- A partir de uma solução hipótetica, como esta solução afeta a empresa?\n",
    "- Como vamos medir o sucesso da solução?\n",
    "- Quem são as pessoas chave? \n",
    "\n",
    "**Essa é uma etapa desafiadora: Você precisará explicar conceitos de ciência de dados para áreas não tecnicas\"**\n",
    "\n",
    "<font color='red'>\n",
    "    \n",
    "* Não, a performance não será 100%\n",
    "    \n",
    "* O computador faz o que vc manda!\n",
    "    \n",
    "* Precisamos de mais dados para um modelo acurado\n",
    "\n",
    "* Para amanhã é impossível! </font>\n"
   ]
  },
  {
   "cell_type": "markdown",
   "metadata": {},
   "source": [
    "**E aí galera? Parece fácil essa etapa?**"
   ]
  },
  {
   "cell_type": "markdown",
   "metadata": {},
   "source": [
    "**Dicas**\n",
    "\n",
    "* Comece explicando como você trabalha, qual metodologia você está utlizando, por exemplo\n",
    "* Leve no inicio do projeto, uma breve explicação de como os modelos funcionam"
   ]
  },
  {
   "cell_type": "markdown",
   "metadata": {},
   "source": [
    "# Entendimento dos Dados\n",
    "\n",
    "* Coleta inicial dos dados\n",
    "* Descrição dos dados\n",
    "* Exploração dos dados\n",
    "* Verificar a qualidade dos dados"
   ]
  },
  {
   "cell_type": "markdown",
   "metadata": {},
   "source": [
    "<img src='figures/garbage.jpeg'>"
   ]
  },
  {
   "cell_type": "markdown",
   "metadata": {},
   "source": [
    "Algumas dicas do que pode ser feito aqui: \n",
    "\n",
    "* Análise descritiva: média, mediana, variância, desvio padrão, curtose\n",
    "* Análise gráfica univariada: \n",
    "    * boxplot, box e whisker plot: para identificar outliers e o shape da distribuição\n",
    "    * Histograma: identificar o shape da distribuição e também outliers\n",
    "    * Q-qplot: identificar se a distribuição é normal ou não\n",
    "* Análise bivariada:\n",
    "     * scatter plot\n",
    "* Análise multivariada\n",
    "    * regressão \n",
    "* Análise de qualidade:\n",
    "    * identificar erros potenciais\n",
    "    * outliers\n",
    "    * missings\n",
    "    * diferentes níveis de granularidade\n",
    "    * dados inconsistentes\n",
    "    * informações erradas\n",
    "    * metadados errados"
   ]
  },
  {
   "cell_type": "code",
   "execution_count": null,
   "metadata": {},
   "outputs": [],
   "source": [
    "# ! pip install -U seaborn"
   ]
  },
  {
   "cell_type": "code",
   "execution_count": 1,
   "metadata": {},
   "outputs": [],
   "source": [
    "import pandas as pd\n",
    "import numpy as np\n",
    "import matplotlib.pyplot as plt\n",
    "import seaborn as sns\n",
    "import missingno as msno\n",
    "\n",
    "from sklearn import preprocessing\n",
    "\n",
    "\n",
    "from sklearn.model_selection import train_test_split\n",
    "from sklearn.datasets import load_breast_cancer\n",
    "from sklearn.tree import DecisionTreeClassifier"
   ]
  },
  {
   "cell_type": "code",
   "execution_count": 2,
   "metadata": {
    "scrolled": true
   },
   "outputs": [
    {
     "data": {
      "text/plain": [
       "(19158, 14)"
      ]
     },
     "execution_count": 2,
     "metadata": {},
     "output_type": "execute_result"
    }
   ],
   "source": [
    "df_job_change = pd.read_csv(\"data/job_change/aug_train.csv\")\n",
    "df_job_change.shape"
   ]
  },
  {
   "cell_type": "markdown",
   "metadata": {},
   "source": [
    "Vamos dar uma olhada nos dados e identificar se eles são suficientes nesse momento. É importante saber quem é o responsável pelos dados e se ele pode nos fornecer outras informações."
   ]
  },
  {
   "cell_type": "code",
   "execution_count": 4,
   "metadata": {
    "scrolled": false
   },
   "outputs": [
    {
     "data": {
      "text/html": [
       "<div>\n",
       "<style scoped>\n",
       "    .dataframe tbody tr th:only-of-type {\n",
       "        vertical-align: middle;\n",
       "    }\n",
       "\n",
       "    .dataframe tbody tr th {\n",
       "        vertical-align: top;\n",
       "    }\n",
       "\n",
       "    .dataframe thead th {\n",
       "        text-align: right;\n",
       "    }\n",
       "</style>\n",
       "<table border=\"1\" class=\"dataframe\">\n",
       "  <thead>\n",
       "    <tr style=\"text-align: right;\">\n",
       "      <th></th>\n",
       "      <th>enrollee_id</th>\n",
       "      <th>city</th>\n",
       "      <th>city_development_index</th>\n",
       "      <th>gender</th>\n",
       "      <th>relevent_experience</th>\n",
       "      <th>enrolled_university</th>\n",
       "      <th>education_level</th>\n",
       "      <th>major_discipline</th>\n",
       "      <th>experience</th>\n",
       "      <th>company_size</th>\n",
       "      <th>company_type</th>\n",
       "      <th>last_new_job</th>\n",
       "      <th>training_hours</th>\n",
       "      <th>target</th>\n",
       "    </tr>\n",
       "  </thead>\n",
       "  <tbody>\n",
       "    <tr>\n",
       "      <th>0</th>\n",
       "      <td>8949</td>\n",
       "      <td>city_103</td>\n",
       "      <td>0.920</td>\n",
       "      <td>Male</td>\n",
       "      <td>Has relevent experience</td>\n",
       "      <td>no_enrollment</td>\n",
       "      <td>Graduate</td>\n",
       "      <td>STEM</td>\n",
       "      <td>&gt;20</td>\n",
       "      <td>NaN</td>\n",
       "      <td>NaN</td>\n",
       "      <td>1</td>\n",
       "      <td>36</td>\n",
       "      <td>1.0</td>\n",
       "    </tr>\n",
       "    <tr>\n",
       "      <th>1</th>\n",
       "      <td>29725</td>\n",
       "      <td>city_40</td>\n",
       "      <td>0.776</td>\n",
       "      <td>Male</td>\n",
       "      <td>No relevent experience</td>\n",
       "      <td>no_enrollment</td>\n",
       "      <td>Graduate</td>\n",
       "      <td>STEM</td>\n",
       "      <td>15</td>\n",
       "      <td>50-99</td>\n",
       "      <td>Pvt Ltd</td>\n",
       "      <td>&gt;4</td>\n",
       "      <td>47</td>\n",
       "      <td>0.0</td>\n",
       "    </tr>\n",
       "  </tbody>\n",
       "</table>\n",
       "</div>"
      ],
      "text/plain": [
       "   enrollee_id      city  city_development_index gender  \\\n",
       "0         8949  city_103                   0.920   Male   \n",
       "1        29725   city_40                   0.776   Male   \n",
       "\n",
       "       relevent_experience enrolled_university education_level  \\\n",
       "0  Has relevent experience       no_enrollment        Graduate   \n",
       "1   No relevent experience       no_enrollment        Graduate   \n",
       "\n",
       "  major_discipline experience company_size company_type last_new_job  \\\n",
       "0             STEM        >20          NaN          NaN            1   \n",
       "1             STEM         15        50-99      Pvt Ltd           >4   \n",
       "\n",
       "   training_hours  target  \n",
       "0              36     1.0  \n",
       "1              47     0.0  "
      ]
     },
     "execution_count": 4,
     "metadata": {},
     "output_type": "execute_result"
    }
   ],
   "source": [
    "df_job_change.head(2)"
   ]
  },
  {
   "cell_type": "markdown",
   "metadata": {},
   "source": [
    "1) enrolee_ID\n",
    "2) target (0 ou 1)\n",
    "\n",
    "* enrollee_id : Unique ID for candidate\n",
    "\n",
    "* city: City code\n",
    "\n",
    "* city_ development _index : Developement index of the city (scaled)\n",
    "\n",
    "* gender: Gender of candidate\n",
    "\n",
    "* relevent_experience: Relevant experience of candidate\n",
    "\n",
    "* enrolled_university: Type of University course enrolled if any\n",
    "\n",
    "* education_level: Education level of candidate\n",
    "\n",
    "* major_discipline :Education major discipline of candidate\n",
    "\n",
    "* experience: Candidate total experience in years\n",
    "\n",
    "* company_size: No of employees in current employer's company\n",
    "\n",
    "* company_type : Type of current employer\n",
    "\n",
    "* lastnewjob: Difference in years between previous job and current job\n",
    "\n",
    "* training_hours: training hours completed\n",
    "\n",
    "* target: 0 – Not looking for job change, 1 – Looking for a job change"
   ]
  },
  {
   "cell_type": "markdown",
   "metadata": {},
   "source": [
    "Vamos explorar um pouco os dados. Nessa etapa é interessante usar muitos plots."
   ]
  },
  {
   "cell_type": "code",
   "execution_count": 5,
   "metadata": {
    "scrolled": true
   },
   "outputs": [
    {
     "name": "stdout",
     "output_type": "stream",
     "text": [
      "<class 'pandas.core.frame.DataFrame'>\n",
      "RangeIndex: 19158 entries, 0 to 19157\n",
      "Data columns (total 14 columns):\n",
      " #   Column                  Non-Null Count  Dtype  \n",
      "---  ------                  --------------  -----  \n",
      " 0   enrollee_id             19158 non-null  int64  \n",
      " 1   city                    19158 non-null  object \n",
      " 2   city_development_index  19158 non-null  float64\n",
      " 3   gender                  14650 non-null  object \n",
      " 4   relevent_experience     19158 non-null  object \n",
      " 5   enrolled_university     18772 non-null  object \n",
      " 6   education_level         18698 non-null  object \n",
      " 7   major_discipline        16345 non-null  object \n",
      " 8   experience              19093 non-null  object \n",
      " 9   company_size            13220 non-null  object \n",
      " 10  company_type            13018 non-null  object \n",
      " 11  last_new_job            18735 non-null  object \n",
      " 12  training_hours          19158 non-null  int64  \n",
      " 13  target                  19158 non-null  float64\n",
      "dtypes: float64(2), int64(2), object(10)\n",
      "memory usage: 2.0+ MB\n"
     ]
    }
   ],
   "source": [
    "df_job_change.info()"
   ]
  },
  {
   "cell_type": "markdown",
   "metadata": {},
   "source": [
    "Algumas coisas que podemos notar, a maioria as das variáveis são str, temos algumas colunas com valores nulos"
   ]
  },
  {
   "cell_type": "markdown",
   "metadata": {},
   "source": [
    "**Para algumas análises exploratórias, será necessário tratar os missings. Neste estágio, vamos apenas fazer um fillna com um valor constante**"
   ]
  },
  {
   "cell_type": "code",
   "execution_count": 6,
   "metadata": {
    "scrolled": true
   },
   "outputs": [
    {
     "data": {
      "text/plain": [
       "<AxesSubplot:>"
      ]
     },
     "execution_count": 6,
     "metadata": {},
     "output_type": "execute_result"
    },
    {
     "data": {
      "image/png": "[encoded data removed]",
      "text/plain": [
       "<Figure size 1800x720 with 3 Axes>"
      ]
     },
     "metadata": {
      "needs_background": "light"
     },
     "output_type": "display_data"
    }
   ],
   "source": [
    "msno.bar(df_job_change)"
   ]
  },
  {
   "cell_type": "markdown",
   "metadata": {},
   "source": [
    "**Algumas colunas estão com preenchimento 100%, no entanto, isso não quer dizer que não temos valores 'NULOS'. Vamos analisar:** \n",
    "\n",
    "* city\n",
    "* city_development_index\n",
    "* relevant_experience\n",
    "* training_hours"
   ]
  },
  {
   "cell_type": "code",
   "execution_count": 7,
   "metadata": {},
   "outputs": [
    {
     "data": {
      "text/plain": [
       "array(['city_103', 'city_40', 'city_21', 'city_115', 'city_162',\n",
       "       'city_176', 'city_160', 'city_46', 'city_61', 'city_114',\n",
       "       'city_13', 'city_159', 'city_102', 'city_67', 'city_100',\n",
       "       'city_16', 'city_71', 'city_104', 'city_64', 'city_101', 'city_83',\n",
       "       'city_105', 'city_73', 'city_75', 'city_41', 'city_11', 'city_93',\n",
       "       'city_90', 'city_36', 'city_20', 'city_57', 'city_152', 'city_19',\n",
       "       'city_65', 'city_74', 'city_173', 'city_136', 'city_98', 'city_97',\n",
       "       'city_50', 'city_138', 'city_82', 'city_157', 'city_89',\n",
       "       'city_150', 'city_70', 'city_175', 'city_94', 'city_28', 'city_59',\n",
       "       'city_165', 'city_145', 'city_142', 'city_26', 'city_12',\n",
       "       'city_37', 'city_43', 'city_116', 'city_23', 'city_99', 'city_149',\n",
       "       'city_10', 'city_45', 'city_80', 'city_128', 'city_158',\n",
       "       'city_123', 'city_7', 'city_72', 'city_106', 'city_143', 'city_78',\n",
       "       'city_109', 'city_24', 'city_134', 'city_48', 'city_144',\n",
       "       'city_91', 'city_146', 'city_133', 'city_126', 'city_118',\n",
       "       'city_9', 'city_167', 'city_27', 'city_84', 'city_54', 'city_39',\n",
       "       'city_79', 'city_76', 'city_77', 'city_81', 'city_131', 'city_44',\n",
       "       'city_117', 'city_155', 'city_33', 'city_141', 'city_127',\n",
       "       'city_62', 'city_53', 'city_25', 'city_2', 'city_69', 'city_120',\n",
       "       'city_111', 'city_30', 'city_1', 'city_140', 'city_179', 'city_55',\n",
       "       'city_14', 'city_42', 'city_107', 'city_18', 'city_139',\n",
       "       'city_180', 'city_166', 'city_121', 'city_129', 'city_8',\n",
       "       'city_31', 'city_171'], dtype=object)"
      ]
     },
     "execution_count": 7,
     "metadata": {},
     "output_type": "execute_result"
    }
   ],
   "source": [
    "df_job_change.city.unique()"
   ]
  },
  {
   "cell_type": "code",
   "execution_count": 8,
   "metadata": {
    "scrolled": true
   },
   "outputs": [
    {
     "data": {
      "text/plain": [
       "array([0.92 , 0.776, 0.624, 0.789, 0.767, 0.764, 0.762, 0.913, 0.926,\n",
       "       0.827, 0.843, 0.804, 0.855, 0.887, 0.91 , 0.884, 0.924, 0.666,\n",
       "       0.558, 0.923, 0.794, 0.754, 0.939, 0.55 , 0.865, 0.698, 0.893,\n",
       "       0.796, 0.866, 0.682, 0.802, 0.579, 0.878, 0.897, 0.949, 0.925,\n",
       "       0.896, 0.836, 0.693, 0.769, 0.775, 0.903, 0.555, 0.727, 0.64 ,\n",
       "       0.516, 0.743, 0.899, 0.915, 0.689, 0.895, 0.89 , 0.847, 0.527,\n",
       "       0.766, 0.738, 0.647, 0.795, 0.74 , 0.701, 0.493, 0.84 , 0.691,\n",
       "       0.735, 0.742, 0.479, 0.722, 0.921, 0.848, 0.856, 0.898, 0.83 ,\n",
       "       0.73 , 0.68 , 0.725, 0.556, 0.448, 0.763, 0.745, 0.645, 0.788,\n",
       "       0.78 , 0.512, 0.739, 0.563, 0.518, 0.824, 0.487, 0.649, 0.781,\n",
       "       0.625, 0.807, 0.664])"
      ]
     },
     "execution_count": 8,
     "metadata": {},
     "output_type": "execute_result"
    }
   ],
   "source": [
    "df_job_change.city_development_index.unique()"
   ]
  },
  {
   "cell_type": "code",
   "execution_count": 9,
   "metadata": {},
   "outputs": [
    {
     "data": {
      "text/plain": [
       "array(['Has relevent experience', 'No relevent experience'], dtype=object)"
      ]
     },
     "execution_count": 9,
     "metadata": {},
     "output_type": "execute_result"
    }
   ],
   "source": [
    "df_job_change.relevent_experience.unique()"
   ]
  },
  {
   "cell_type": "code",
   "execution_count": 10,
   "metadata": {},
   "outputs": [
    {
     "data": {
      "text/plain": [
       "array([ 36,  47,  83,  52,   8,  24,  18,  46, 123,  32, 108,  23,  26,\n",
       "       106,   7, 132,  68,  50,  48,  65,  13,  22, 148,  72,  40, 141,\n",
       "        82, 145, 206, 152,  42,  14, 112,  87,  20,  21,  92, 102,  43,\n",
       "        45,  19,  90,  25,  15,  98, 142,  28, 228,  29,  12,  17,  35,\n",
       "         4, 136,  27,  74,  86,  75, 332, 140, 182, 172,  33,  34, 150,\n",
       "       160,   3,   2, 210, 101,  59, 260, 131, 109,  70,  51,  60, 164,\n",
       "       290, 133,  76, 156, 120, 100,  39,  55,  49,   6, 125, 326, 198,\n",
       "        11,  41, 114, 246,  81,  31,  84, 105,  38, 178, 104, 202,  88,\n",
       "       218,  62,  10,  80,  77,  37, 162, 190,  30,  16,   5,  54,  44,\n",
       "       110, 262, 107, 134, 103,  96,  57, 240,  94, 113,  56,  64, 320,\n",
       "         9, 129,  58, 126, 166,  95,  97, 204, 116, 161, 146, 302,  53,\n",
       "       143, 124, 214, 288, 306, 322,  67,  61, 130, 220,  78, 314, 226,\n",
       "       280,  91, 234, 163, 151,  85, 256, 168, 144,  66, 128,  73, 122,\n",
       "       154,  63, 292, 188,  71, 135, 138, 184,  89, 157, 118, 111, 192,\n",
       "       127, 216, 139, 196,  99, 167, 276, 121,  69, 155, 316, 242, 304,\n",
       "       284, 278, 310, 222, 212, 250, 180, 258, 330, 158, 149, 165,  79,\n",
       "       194, 176, 174, 312, 200, 328, 300, 153, 232, 336, 308, 147, 298,\n",
       "       224, 254, 248, 236, 170, 264, 119, 117, 334, 324,   1, 238, 266,\n",
       "       282, 268, 244, 272, 294, 270, 286])"
      ]
     },
     "execution_count": 10,
     "metadata": {},
     "output_type": "execute_result"
    }
   ],
   "source": [
    "df_job_change.training_hours.unique()"
   ]
  },
  {
   "cell_type": "code",
   "execution_count": 11,
   "metadata": {},
   "outputs": [
    {
     "data": {
      "text/plain": [
       "array(['Male', nan, 'Female', 'Other'], dtype=object)"
      ]
     },
     "execution_count": 11,
     "metadata": {},
     "output_type": "execute_result"
    }
   ],
   "source": [
    "df_job_change.gender.unique()"
   ]
  },
  {
   "cell_type": "markdown",
   "metadata": {},
   "source": [
    "Existem variáveis de texto livre? "
   ]
  },
  {
   "cell_type": "code",
   "execution_count": 12,
   "metadata": {
    "scrolled": false
   },
   "outputs": [
    {
     "data": {
      "text/html": [
       "<div>\n",
       "<style scoped>\n",
       "    .dataframe tbody tr th:only-of-type {\n",
       "        vertical-align: middle;\n",
       "    }\n",
       "\n",
       "    .dataframe tbody tr th {\n",
       "        vertical-align: top;\n",
       "    }\n",
       "\n",
       "    .dataframe thead th {\n",
       "        text-align: right;\n",
       "    }\n",
       "</style>\n",
       "<table border=\"1\" class=\"dataframe\">\n",
       "  <thead>\n",
       "    <tr style=\"text-align: right;\">\n",
       "      <th></th>\n",
       "      <th>city</th>\n",
       "      <th>gender</th>\n",
       "      <th>relevent_experience</th>\n",
       "      <th>enrolled_university</th>\n",
       "      <th>education_level</th>\n",
       "      <th>major_discipline</th>\n",
       "      <th>experience</th>\n",
       "      <th>company_size</th>\n",
       "      <th>company_type</th>\n",
       "      <th>last_new_job</th>\n",
       "    </tr>\n",
       "  </thead>\n",
       "  <tbody>\n",
       "    <tr>\n",
       "      <th>0</th>\n",
       "      <td>city_103</td>\n",
       "      <td>Male</td>\n",
       "      <td>Has relevent experience</td>\n",
       "      <td>no_enrollment</td>\n",
       "      <td>Graduate</td>\n",
       "      <td>STEM</td>\n",
       "      <td>&gt;20</td>\n",
       "      <td>NaN</td>\n",
       "      <td>NaN</td>\n",
       "      <td>1</td>\n",
       "    </tr>\n",
       "    <tr>\n",
       "      <th>1</th>\n",
       "      <td>city_40</td>\n",
       "      <td>Male</td>\n",
       "      <td>No relevent experience</td>\n",
       "      <td>no_enrollment</td>\n",
       "      <td>Graduate</td>\n",
       "      <td>STEM</td>\n",
       "      <td>15</td>\n",
       "      <td>50-99</td>\n",
       "      <td>Pvt Ltd</td>\n",
       "      <td>&gt;4</td>\n",
       "    </tr>\n",
       "    <tr>\n",
       "      <th>2</th>\n",
       "      <td>city_21</td>\n",
       "      <td>NaN</td>\n",
       "      <td>No relevent experience</td>\n",
       "      <td>Full time course</td>\n",
       "      <td>Graduate</td>\n",
       "      <td>STEM</td>\n",
       "      <td>5</td>\n",
       "      <td>NaN</td>\n",
       "      <td>NaN</td>\n",
       "      <td>never</td>\n",
       "    </tr>\n",
       "    <tr>\n",
       "      <th>3</th>\n",
       "      <td>city_115</td>\n",
       "      <td>NaN</td>\n",
       "      <td>No relevent experience</td>\n",
       "      <td>NaN</td>\n",
       "      <td>Graduate</td>\n",
       "      <td>Business Degree</td>\n",
       "      <td>&lt;1</td>\n",
       "      <td>NaN</td>\n",
       "      <td>Pvt Ltd</td>\n",
       "      <td>never</td>\n",
       "    </tr>\n",
       "    <tr>\n",
       "      <th>4</th>\n",
       "      <td>city_162</td>\n",
       "      <td>Male</td>\n",
       "      <td>Has relevent experience</td>\n",
       "      <td>no_enrollment</td>\n",
       "      <td>Masters</td>\n",
       "      <td>STEM</td>\n",
       "      <td>&gt;20</td>\n",
       "      <td>50-99</td>\n",
       "      <td>Funded Startup</td>\n",
       "      <td>4</td>\n",
       "    </tr>\n",
       "  </tbody>\n",
       "</table>\n",
       "</div>"
      ],
      "text/plain": [
       "       city gender      relevent_experience enrolled_university  \\\n",
       "0  city_103   Male  Has relevent experience       no_enrollment   \n",
       "1   city_40   Male   No relevent experience       no_enrollment   \n",
       "2   city_21    NaN   No relevent experience    Full time course   \n",
       "3  city_115    NaN   No relevent experience                 NaN   \n",
       "4  city_162   Male  Has relevent experience       no_enrollment   \n",
       "\n",
       "  education_level major_discipline experience company_size    company_type  \\\n",
       "0        Graduate             STEM        >20          NaN             NaN   \n",
       "1        Graduate             STEM         15        50-99         Pvt Ltd   \n",
       "2        Graduate             STEM          5          NaN             NaN   \n",
       "3        Graduate  Business Degree         <1          NaN         Pvt Ltd   \n",
       "4         Masters             STEM        >20        50-99  Funded Startup   \n",
       "\n",
       "  last_new_job  \n",
       "0            1  \n",
       "1           >4  \n",
       "2        never  \n",
       "3        never  \n",
       "4            4  "
      ]
     },
     "execution_count": 12,
     "metadata": {},
     "output_type": "execute_result"
    }
   ],
   "source": [
    "# verifique se alguma coluna é instancia de str e veja se é texto livre ou se está padronizado\n",
    "df_subset = df_job_change.select_dtypes(exclude=[np.number])\n",
    "df_subset.head()"
   ]
  },
  {
   "cell_type": "code",
   "execution_count": 13,
   "metadata": {},
   "outputs": [],
   "source": [
    "# observe que NAN nesse caso é string\n",
    "df_subset = df_subset.replace({'NaN': 'VAZIO'})"
   ]
  },
  {
   "cell_type": "code",
   "execution_count": 14,
   "metadata": {},
   "outputs": [],
   "source": [
    "df_subset = df_subset.fillna('VAZIO')"
   ]
  },
  {
   "cell_type": "code",
   "execution_count": 15,
   "metadata": {},
   "outputs": [],
   "source": [
    "df_subset['target'] = df_job_change['target']"
   ]
  },
  {
   "cell_type": "markdown",
   "metadata": {},
   "source": [
    "Será necessário transformar esses dados em númericos, pois mesmo os algoritmos de árvore do scikt-learn precisam de dados 'numericos'\n",
    "\n",
    "É interessante fazer alguns tratamentos, do tipo transformar todos de maisc para mins, remover espaços e acentos, etc em casos que os campos são de texto livre"
   ]
  },
  {
   "cell_type": "markdown",
   "metadata": {},
   "source": [
    "**Vamos dar uma olhada na distribuição desses dados**"
   ]
  },
  {
   "cell_type": "code",
   "execution_count": 16,
   "metadata": {
    "scrolled": true
   },
   "outputs": [
    {
     "data": {
      "text/plain": [
       "<seaborn.axisgrid.FacetGrid at 0x7eff3c64e400>"
      ]
     },
     "execution_count": 16,
     "metadata": {},
     "output_type": "execute_result"
    },
    {
     "data": {
      "image/png": "[encoded data removed]",
      "text/plain": [
       "<Figure size 412x360 with 1 Axes>"
      ]
     },
     "metadata": {
      "needs_background": "light"
     },
     "output_type": "display_data"
    }
   ],
   "source": [
    "sns.displot(df_subset, x=\"gender\", hue=\"target\")"
   ]
  },
  {
   "cell_type": "code",
   "execution_count": 36,
   "metadata": {},
   "outputs": [],
   "source": [
    "sns.set(rc={'figure.figsize':(8,6)})"
   ]
  },
  {
   "cell_type": "code",
   "execution_count": 37,
   "metadata": {},
   "outputs": [
    {
     "data": {
      "text/plain": [
       "<AxesSubplot:xlabel='gender', ylabel='Percent'>"
      ]
     },
     "execution_count": 37,
     "metadata": {},
     "output_type": "execute_result"
    },
    {
     "data": {
      "image/png": "[encoded data removed]",
      "text/plain": [
       "<Figure size 576x432 with 1 Axes>"
      ]
     },
     "metadata": {},
     "output_type": "display_data"
    }
   ],
   "source": [
    "sns.histplot(data=df_subset, x=\"gender\", stat=\"percent\",\\\n",
    "             hue='target', multiple=\"dodge\", discrete=True)\n"
   ]
  },
  {
   "cell_type": "code",
   "execution_count": 38,
   "metadata": {
    "scrolled": false
   },
   "outputs": [
    {
     "data": {
      "text/plain": [
       "<AxesSubplot:xlabel='relevent_experience', ylabel='Percent'>"
      ]
     },
     "execution_count": 38,
     "metadata": {},
     "output_type": "execute_result"
    },
    {
     "data": {
      "image/png": "[encoded data removed]",
      "text/plain": [
       "<Figure size 576x432 with 1 Axes>"
      ]
     },
     "metadata": {},
     "output_type": "display_data"
    }
   ],
   "source": [
    "sns.histplot(data=df_subset, x=\"relevent_experience\", stat=\"percent\",\\\n",
    "             hue='target', multiple=\"dodge\", discrete=True)"
   ]
  },
  {
   "cell_type": "code",
   "execution_count": null,
   "metadata": {},
   "outputs": [],
   "source": []
  },
  {
   "cell_type": "markdown",
   "metadata": {},
   "source": [
    "Agora vamos analisar os dados númericos! "
   ]
  },
  {
   "cell_type": "code",
   "execution_count": null,
   "metadata": {},
   "outputs": [],
   "source": [
    "# ax = sns.pairplot(df_job_change.drop('target',axis=1),palette=\"hus1\", height=2 )"
   ]
  },
  {
   "cell_type": "markdown",
   "metadata": {},
   "source": [
    "* Quais os ranges dos valores? \n",
    "* Os atributos fazem sentido?\n",
    "* Existe alguma variável que vai contra o senso comum? (ex.: criança menores de 5 anos com renda acima de 10 mil)\n",
    "* Quais as estatísticas básicas para cada atributo?"
   ]
  },
  {
   "cell_type": "code",
   "execution_count": 39,
   "metadata": {
    "scrolled": true
   },
   "outputs": [
    {
     "data": {
      "text/html": [
       "<div>\n",
       "<style scoped>\n",
       "    .dataframe tbody tr th:only-of-type {\n",
       "        vertical-align: middle;\n",
       "    }\n",
       "\n",
       "    .dataframe tbody tr th {\n",
       "        vertical-align: top;\n",
       "    }\n",
       "\n",
       "    .dataframe thead th {\n",
       "        text-align: right;\n",
       "    }\n",
       "</style>\n",
       "<table border=\"1\" class=\"dataframe\">\n",
       "  <thead>\n",
       "    <tr style=\"text-align: right;\">\n",
       "      <th></th>\n",
       "      <th>enrollee_id</th>\n",
       "      <th>city_development_index</th>\n",
       "      <th>training_hours</th>\n",
       "      <th>target</th>\n",
       "    </tr>\n",
       "  </thead>\n",
       "  <tbody>\n",
       "    <tr>\n",
       "      <th>count</th>\n",
       "      <td>19158.000000</td>\n",
       "      <td>19158.000000</td>\n",
       "      <td>19158.000000</td>\n",
       "      <td>19158.000000</td>\n",
       "    </tr>\n",
       "    <tr>\n",
       "      <th>mean</th>\n",
       "      <td>16875.358179</td>\n",
       "      <td>0.828848</td>\n",
       "      <td>65.366896</td>\n",
       "      <td>0.249348</td>\n",
       "    </tr>\n",
       "    <tr>\n",
       "      <th>std</th>\n",
       "      <td>9616.292592</td>\n",
       "      <td>0.123362</td>\n",
       "      <td>60.058462</td>\n",
       "      <td>0.432647</td>\n",
       "    </tr>\n",
       "    <tr>\n",
       "      <th>min</th>\n",
       "      <td>1.000000</td>\n",
       "      <td>0.448000</td>\n",
       "      <td>1.000000</td>\n",
       "      <td>0.000000</td>\n",
       "    </tr>\n",
       "    <tr>\n",
       "      <th>25%</th>\n",
       "      <td>8554.250000</td>\n",
       "      <td>0.740000</td>\n",
       "      <td>23.000000</td>\n",
       "      <td>0.000000</td>\n",
       "    </tr>\n",
       "    <tr>\n",
       "      <th>50%</th>\n",
       "      <td>16982.500000</td>\n",
       "      <td>0.903000</td>\n",
       "      <td>47.000000</td>\n",
       "      <td>0.000000</td>\n",
       "    </tr>\n",
       "    <tr>\n",
       "      <th>75%</th>\n",
       "      <td>25169.750000</td>\n",
       "      <td>0.920000</td>\n",
       "      <td>88.000000</td>\n",
       "      <td>0.000000</td>\n",
       "    </tr>\n",
       "    <tr>\n",
       "      <th>max</th>\n",
       "      <td>33380.000000</td>\n",
       "      <td>0.949000</td>\n",
       "      <td>336.000000</td>\n",
       "      <td>1.000000</td>\n",
       "    </tr>\n",
       "  </tbody>\n",
       "</table>\n",
       "</div>"
      ],
      "text/plain": [
       "        enrollee_id  city_development_index  training_hours        target\n",
       "count  19158.000000            19158.000000    19158.000000  19158.000000\n",
       "mean   16875.358179                0.828848       65.366896      0.249348\n",
       "std     9616.292592                0.123362       60.058462      0.432647\n",
       "min        1.000000                0.448000        1.000000      0.000000\n",
       "25%     8554.250000                0.740000       23.000000      0.000000\n",
       "50%    16982.500000                0.903000       47.000000      0.000000\n",
       "75%    25169.750000                0.920000       88.000000      0.000000\n",
       "max    33380.000000                0.949000      336.000000      1.000000"
      ]
     },
     "execution_count": 39,
     "metadata": {},
     "output_type": "execute_result"
    }
   ],
   "source": [
    "df_job_change.describe()"
   ]
  },
  {
   "cell_type": "markdown",
   "metadata": {},
   "source": [
    "**Conclusão:** Observamos valores entre  0 e 1 em algumas variáveis e outras que podem ultrapassar a casa dos milhares"
   ]
  },
  {
   "cell_type": "markdown",
   "metadata": {},
   "source": [
    "Existem outliers?\n",
    "\n",
    "*Lembrando: um outlier é um ponto em um data set que é distante de todas as outras observações. A ponto que está fora da distribuição geral dos dados.*"
   ]
  },
  {
   "cell_type": "code",
   "execution_count": 40,
   "metadata": {},
   "outputs": [
    {
     "data": {
      "text/plain": [
       "Index(['enrollee_id', 'city', 'city_development_index', 'gender',\n",
       "       'relevent_experience', 'enrolled_university', 'education_level',\n",
       "       'major_discipline', 'experience', 'company_size', 'company_type',\n",
       "       'last_new_job', 'training_hours', 'target'],\n",
       "      dtype='object')"
      ]
     },
     "execution_count": 40,
     "metadata": {},
     "output_type": "execute_result"
    }
   ],
   "source": [
    "df_job_change.columns"
   ]
  },
  {
   "cell_type": "code",
   "execution_count": 41,
   "metadata": {
    "scrolled": true
   },
   "outputs": [
    {
     "data": {
      "image/png": "[encoded data removed]",
      "text/plain": [
       "<Figure size 576x720 with 4 Axes>"
      ]
     },
     "metadata": {},
     "output_type": "display_data"
    }
   ],
   "source": [
    "# boxplot\n",
    "fig, axes = plt.subplots(2, 2, figsize=(8, 10))\n",
    "                         \n",
    "axes[0,0].set_title('Boxplot')\n",
    "ax1 = sns.boxplot(ax=axes[0,0], y='city_development_index', palette='husl', data=df_job_change)\n",
    "axes[0,1].set_title('')\n",
    "ax2 = sns.boxplot(ax=axes[0,1], y='training_hours', palette='husl', data=df_job_change)"
   ]
  },
  {
   "cell_type": "code",
   "execution_count": null,
   "metadata": {
    "scrolled": true
   },
   "outputs": [],
   "source": [
    "# podemos analisar alguma variavel especifica:\n",
    "\n",
    "# ax = sns.boxplot(y='training_hours', palette='husl', data=df_job_change)\n",
    "# ax.set_ylim([100, 350])"
   ]
  },
  {
   "cell_type": "markdown",
   "metadata": {},
   "source": [
    "\n",
    "Usando o IQR: "
   ]
  },
  {
   "cell_type": "code",
   "execution_count": 42,
   "metadata": {},
   "outputs": [],
   "source": [
    "q1, q3= np.percentile(df_job_change['training_hours'],[25,75])\n",
    "iqr = q3 - q1\n",
    "\n",
    "lower_bound = q1 -(1.5 * iqr) \n",
    "upper_bound = q3 +(1.5 * iqr) "
   ]
  },
  {
   "cell_type": "code",
   "execution_count": 43,
   "metadata": {
    "scrolled": true
   },
   "outputs": [
    {
     "name": "stdout",
     "output_type": "stream",
     "text": [
      "lower bound -74.5\n",
      "upper bound 185.5\n"
     ]
    }
   ],
   "source": [
    "print('lower bound', lower_bound)\n",
    "print('upper bound', upper_bound)"
   ]
  },
  {
   "cell_type": "markdown",
   "metadata": {},
   "source": [
    "*Vamos pensar um pouco sobre a remoção de outliers. Sempre devemos removê-los?*"
   ]
  },
  {
   "cell_type": "markdown",
   "metadata": {},
   "source": [
    "* Existem atributos correlacionados? O que isso significa?"
   ]
  },
  {
   "cell_type": "code",
   "execution_count": 44,
   "metadata": {},
   "outputs": [
    {
     "data": {
      "image/png": "[encoded data removed]",
      "text/plain": [
       "<Figure size 1080x576 with 2 Axes>"
      ]
     },
     "metadata": {},
     "output_type": "display_data"
    }
   ],
   "source": [
    "df = df_job_change.drop('enrollee_id', axis=1)\n",
    "plt.figure(figsize=(15,8))\n",
    "ax = sns.heatmap(df.corr(method='pearson'), annot=True, cmap='YlGnBu', fmt='.1g')\n",
    "plt.show()"
   ]
  },
  {
   "cell_type": "markdown",
   "metadata": {},
   "source": [
    "**Conclusão**  As variáveis numericas não tem correlação com o target. \n",
    "\n",
    "Podemos testar outros metodos; "
   ]
  },
  {
   "cell_type": "code",
   "execution_count": null,
   "metadata": {
    "scrolled": false
   },
   "outputs": [],
   "source": [
    "# plota para quando temos muitas variaveis - triangular\n",
    "# plt.figure(figsize=(15,8))\n",
    "\n",
    "# matrix = np.triu(df.corr())\n",
    "# sns.heatmap(df.corr(), annot=True, mask=matrix, cmap='YlGnBu', fmt='.1g')"
   ]
  },
  {
   "cell_type": "code",
   "execution_count": null,
   "metadata": {},
   "outputs": [],
   "source": [
    "# corr = df.corr(method='pearson')\n",
    "\n",
    "# plt.figure(figsize=(15,8))\n",
    "# kot1 = corr[(corr>= 0.8) | (corr<= -0.8)]\n",
    "\n",
    "\n",
    "# matrix = np.triu(kot1)\n",
    "# sns.heatmap(kot1, annot=True, mask=matrix, cmap='YlGnBu', fmt='.1g', linewidths=3, linecolor='black')\n",
    "\n"
   ]
  },
  {
   "cell_type": "markdown",
   "metadata": {},
   "source": [
    "* Os dados precisam ser balanceados? \n",
    "\n",
    "- Lembrando, que a literatura considera um dado desbalanceado quando uma classe represante menos de 30%. "
   ]
  },
  {
   "cell_type": "code",
   "execution_count": 45,
   "metadata": {
    "scrolled": true
   },
   "outputs": [
    {
     "data": {
      "text/plain": [
       "0.0    0.750652\n",
       "1.0    0.249348\n",
       "Name: target, dtype: float64"
      ]
     },
     "execution_count": 45,
     "metadata": {},
     "output_type": "execute_result"
    }
   ],
   "source": [
    "df_job_change.target.value_counts(normalize=True)"
   ]
  },
  {
   "cell_type": "markdown",
   "metadata": {},
   "source": [
    "**Conclusão** Nesse caso, é interessante pensarmos em algum metódo de balanceamento"
   ]
  },
  {
   "cell_type": "markdown",
   "metadata": {},
   "source": [
    "* Existem chaves duplicadas? "
   ]
  },
  {
   "cell_type": "code",
   "execution_count": 46,
   "metadata": {},
   "outputs": [
    {
     "data": {
      "text/html": [
       "<div>\n",
       "<style scoped>\n",
       "    .dataframe tbody tr th:only-of-type {\n",
       "        vertical-align: middle;\n",
       "    }\n",
       "\n",
       "    .dataframe tbody tr th {\n",
       "        vertical-align: top;\n",
       "    }\n",
       "\n",
       "    .dataframe thead th {\n",
       "        text-align: right;\n",
       "    }\n",
       "</style>\n",
       "<table border=\"1\" class=\"dataframe\">\n",
       "  <thead>\n",
       "    <tr style=\"text-align: right;\">\n",
       "      <th></th>\n",
       "      <th>enrollee_id</th>\n",
       "      <th>city</th>\n",
       "      <th>city_development_index</th>\n",
       "      <th>gender</th>\n",
       "      <th>relevent_experience</th>\n",
       "      <th>enrolled_university</th>\n",
       "      <th>education_level</th>\n",
       "      <th>major_discipline</th>\n",
       "      <th>experience</th>\n",
       "      <th>company_size</th>\n",
       "      <th>company_type</th>\n",
       "      <th>last_new_job</th>\n",
       "      <th>training_hours</th>\n",
       "      <th>target</th>\n",
       "    </tr>\n",
       "  </thead>\n",
       "  <tbody>\n",
       "  </tbody>\n",
       "</table>\n",
       "</div>"
      ],
      "text/plain": [
       "Empty DataFrame\n",
       "Columns: [enrollee_id, city, city_development_index, gender, relevent_experience, enrolled_university, education_level, major_discipline, experience, company_size, company_type, last_new_job, training_hours, target]\n",
       "Index: []"
      ]
     },
     "execution_count": 46,
     "metadata": {},
     "output_type": "execute_result"
    }
   ],
   "source": [
    "ids = df_job_change[\"enrollee_id\"]\n",
    "df_job_change[ids.isin(ids[ids.duplicated()])].sort_values(by=\"enrollee_id\")"
   ]
  },
  {
   "cell_type": "markdown",
   "metadata": {},
   "source": [
    "* Existem dados faltantes?"
   ]
  },
  {
   "cell_type": "code",
   "execution_count": 47,
   "metadata": {
    "scrolled": true
   },
   "outputs": [
    {
     "data": {
      "text/plain": [
       "enrollee_id                  0\n",
       "city                         0\n",
       "city_development_index       0\n",
       "gender                    4508\n",
       "relevent_experience          0\n",
       "enrolled_university        386\n",
       "education_level            460\n",
       "major_discipline          2813\n",
       "experience                  65\n",
       "company_size              5938\n",
       "company_type              6140\n",
       "last_new_job               423\n",
       "training_hours               0\n",
       "target                       0\n",
       "dtype: int64"
      ]
     },
     "execution_count": 47,
     "metadata": {},
     "output_type": "execute_result"
    }
   ],
   "source": [
    "df_job_change.isnull().sum()"
   ]
  },
  {
   "cell_type": "code",
   "execution_count": 48,
   "metadata": {},
   "outputs": [],
   "source": [
    "# ou uma saída mais formatada\n",
    "def missing_values_table(df):\n",
    "    mis_val = df.isnull().sum()\n",
    "    mis_val_percent = 100 * df.isnull().sum() / len(df)\n",
    "    mis_val_table = pd.concat([mis_val, mis_val_percent], axis=1)\n",
    "    mis_val_table_ren_columns = mis_val_table.rename(\n",
    "    columns = {0 : 'Missing Values', 1 : '% of Total Values'})\n",
    "    mis_val_table_ren_columns = mis_val_table_ren_columns[\n",
    "        mis_val_table_ren_columns.iloc[:,1] != 0].sort_values(\n",
    "    '% of Total Values', ascending=False).round(1)\n",
    "    print (\"Your selected dataframe has \" + str(df.shape[1]) + \" columns.\\n\"      \n",
    "        \"There are \" + str(mis_val_table_ren_columns.shape[0]) +\n",
    "            \" columns that have missing values.\")\n",
    "    return mis_val_table_ren_columns"
   ]
  },
  {
   "cell_type": "code",
   "execution_count": 49,
   "metadata": {
    "scrolled": false
   },
   "outputs": [
    {
     "name": "stdout",
     "output_type": "stream",
     "text": [
      "Your selected dataframe has 14 columns.\n",
      "There are 8 columns that have missing values.\n"
     ]
    },
    {
     "data": {
      "text/html": [
       "<div>\n",
       "<style scoped>\n",
       "    .dataframe tbody tr th:only-of-type {\n",
       "        vertical-align: middle;\n",
       "    }\n",
       "\n",
       "    .dataframe tbody tr th {\n",
       "        vertical-align: top;\n",
       "    }\n",
       "\n",
       "    .dataframe thead th {\n",
       "        text-align: right;\n",
       "    }\n",
       "</style>\n",
       "<table border=\"1\" class=\"dataframe\">\n",
       "  <thead>\n",
       "    <tr style=\"text-align: right;\">\n",
       "      <th></th>\n",
       "      <th>Missing Values</th>\n",
       "      <th>% of Total Values</th>\n",
       "    </tr>\n",
       "  </thead>\n",
       "  <tbody>\n",
       "    <tr>\n",
       "      <th>company_type</th>\n",
       "      <td>6140</td>\n",
       "      <td>32.0</td>\n",
       "    </tr>\n",
       "    <tr>\n",
       "      <th>company_size</th>\n",
       "      <td>5938</td>\n",
       "      <td>31.0</td>\n",
       "    </tr>\n",
       "    <tr>\n",
       "      <th>gender</th>\n",
       "      <td>4508</td>\n",
       "      <td>23.5</td>\n",
       "    </tr>\n",
       "    <tr>\n",
       "      <th>major_discipline</th>\n",
       "      <td>2813</td>\n",
       "      <td>14.7</td>\n",
       "    </tr>\n",
       "    <tr>\n",
       "      <th>education_level</th>\n",
       "      <td>460</td>\n",
       "      <td>2.4</td>\n",
       "    </tr>\n",
       "    <tr>\n",
       "      <th>last_new_job</th>\n",
       "      <td>423</td>\n",
       "      <td>2.2</td>\n",
       "    </tr>\n",
       "    <tr>\n",
       "      <th>enrolled_university</th>\n",
       "      <td>386</td>\n",
       "      <td>2.0</td>\n",
       "    </tr>\n",
       "    <tr>\n",
       "      <th>experience</th>\n",
       "      <td>65</td>\n",
       "      <td>0.3</td>\n",
       "    </tr>\n",
       "  </tbody>\n",
       "</table>\n",
       "</div>"
      ],
      "text/plain": [
       "                     Missing Values  % of Total Values\n",
       "company_type                   6140               32.0\n",
       "company_size                   5938               31.0\n",
       "gender                         4508               23.5\n",
       "major_discipline               2813               14.7\n",
       "education_level                 460                2.4\n",
       "last_new_job                    423                2.2\n",
       "enrolled_university             386                2.0\n",
       "experience                       65                0.3"
      ]
     },
     "execution_count": 49,
     "metadata": {},
     "output_type": "execute_result"
    }
   ],
   "source": [
    "missing_values_table(df_job_change)"
   ]
  },
  {
   "cell_type": "markdown",
   "metadata": {},
   "source": [
    "* Alguma variável pode estar vazando a variável resposta? "
   ]
  },
  {
   "cell_type": "markdown",
   "metadata": {},
   "source": [
    "Essa informação pode ser observada na matriz de correlação e principalmente, do entendimento dos dados. Se por exemplo, nos dados tivermos uma coluna com a informação de fez cirurgia para remoção de tumor, essa é uma variável que vaza a variável reposta."
   ]
  },
  {
   "cell_type": "markdown",
   "metadata": {},
   "source": [
    "## Resumo\n",
    "\n",
    "* Existem ruídos?  O que faremos?\n",
    "* Existe redundância? \n",
    "* Existem outliers? \n",
    "* Quais os principais insights?"
   ]
  },
  {
   "cell_type": "markdown",
   "metadata": {},
   "source": [
    "**Conclusões**\n",
    "\n",
    "* Variáveis com outliers\n",
    "* Variáveis com ranges diferentes\n",
    "* Variáveis com valores faltantes"
   ]
  },
  {
   "cell_type": "markdown",
   "metadata": {},
   "source": [
    "**Pergunta rápida: Essas perguntas vão se aplicar para todos os projetos?**"
   ]
  },
  {
   "cell_type": "markdown",
   "metadata": {},
   "source": [
    "# Preparaçao dos Dados\n",
    "\n",
    "* Selecionar os dados\n",
    "* Limpar os dados\n",
    "* Construir variáveis\n",
    "* Integrar: appending ou merging\n",
    "* Formatar para o modelo"
   ]
  },
  {
   "cell_type": "markdown",
   "metadata": {},
   "source": [
    "<img src='figures/dirty_data.jpeg'>"
   ]
  },
  {
   "cell_type": "markdown",
   "metadata": {},
   "source": [
    "* Como vamos tratar os valores faltantes? "
   ]
  },
  {
   "cell_type": "code",
   "execution_count": null,
   "metadata": {},
   "outputs": [],
   "source": [
    "# para um primeiro teste podemos fazer um fillna(0),a no entanto,\n",
    "# é interessante entender se existem outras metodologias mais eficazes, inclusive remove a amos\n",
    "\n",
    "# str_cols = ['Name','City']\n",
    "str_cols = df_job_change.columns[df_job_change.dtypes==object]\n",
    "df_job_change[str_cols] = df_job_change[str_cols].fillna('.')\n",
    "df_job_change = df_job_change.fillna(0)\n",
    "\n",
    "# df_job_change = df_job_change.fillna(0)"
   ]
  },
  {
   "cell_type": "code",
   "execution_count": null,
   "metadata": {},
   "outputs": [],
   "source": [
    "df_job_change"
   ]
  },
  {
   "cell_type": "markdown",
   "metadata": {},
   "source": [
    "* Vamos usar todos os dados que estão disponíveis?  (essa é a reposta, por exemplo, da análise de correlação)"
   ]
  },
  {
   "cell_type": "markdown",
   "metadata": {},
   "source": [
    "* Vamos integrar dados de fontes diferentes? "
   ]
  },
  {
   "cell_type": "markdown",
   "metadata": {},
   "source": [
    "* Precisamos remover algum ruído? ou outlier?"
   ]
  },
  {
   "cell_type": "markdown",
   "metadata": {},
   "source": [
    "* Algum atributo percisa ser normalizado? (geralmente isso influencia no algoritmo de ML que escolhemos)"
   ]
  },
  {
   "cell_type": "code",
   "execution_count": null,
   "metadata": {},
   "outputs": [],
   "source": [
    "# from sklearn.preprocessing import StandardScaler\n",
    "# sc = StandardScaler()  \n",
    "# X_train = sc.fit_transform(X_train)  \n",
    "# X_test = sc.transform(X_test)"
   ]
  },
  {
   "cell_type": "markdown",
   "metadata": {},
   "source": [
    "* A variável resposta foi dada ou precisa ser construída? "
   ]
  },
  {
   "cell_type": "markdown",
   "metadata": {},
   "source": [
    "* Precisamos transformar variáveis? "
   ]
  },
  {
   "cell_type": "code",
   "execution_count": null,
   "metadata": {},
   "outputs": [],
   "source": [
    "int_cols = df_job_change.columns[df_job_change.dtypes!=object]\n",
    "int_cols"
   ]
  },
  {
   "cell_type": "code",
   "execution_count": null,
   "metadata": {},
   "outputs": [],
   "source": [
    "str_cols = df_job_change.columns[df_job_change.dtypes==object]\n",
    "df_subset = df_job_change[str_cols] "
   ]
  },
  {
   "cell_type": "code",
   "execution_count": null,
   "metadata": {},
   "outputs": [],
   "source": [
    "df_subset.head()"
   ]
  },
  {
   "cell_type": "markdown",
   "metadata": {},
   "source": [
    "https://contrib.scikit-learn.org/category_encoders/"
   ]
  },
  {
   "cell_type": "code",
   "execution_count": null,
   "metadata": {},
   "outputs": [],
   "source": [
    "# Encode Categorical Columns\n",
    "le = preprocessing.LabelEncoder()\n",
    "df_subset = df_subset.apply(le.fit_transform)\n",
    "df_subset.shape"
   ]
  },
  {
   "cell_type": "code",
   "execution_count": null,
   "metadata": {},
   "outputs": [],
   "source": [
    "df_subset.head()"
   ]
  },
  {
   "cell_type": "code",
   "execution_count": null,
   "metadata": {
    "scrolled": true
   },
   "outputs": [],
   "source": [
    "# concatsear com o restante do dataset\n",
    "df_transformed = pd.concat([df_job_change[int_cols] , df_subset], axis=1)\n",
    "df_transformed.shape"
   ]
  },
  {
   "cell_type": "code",
   "execution_count": null,
   "metadata": {},
   "outputs": [],
   "source": [
    "df_transformed.head()"
   ]
  },
  {
   "cell_type": "markdown",
   "metadata": {},
   "source": [
    "* Podemos usar algum metódo para selecionar variáveis? "
   ]
  },
  {
   "cell_type": "code",
   "execution_count": null,
   "metadata": {},
   "outputs": [],
   "source": [
    "# X = df.drop('target', axis=1)\n",
    "# y = df.target"
   ]
  },
  {
   "cell_type": "code",
   "execution_count": null,
   "metadata": {},
   "outputs": [],
   "source": [
    "# X.shape"
   ]
  },
  {
   "cell_type": "code",
   "execution_count": null,
   "metadata": {},
   "outputs": [],
   "source": [
    "# from sklearn.svm import SVC\n",
    "# from sklearn.feature_selection import RFE, RFECV\n",
    "\n",
    "# estimator= SVC(kernel='linear')\n",
    "# selector = RFE(estimator, step=100)\n",
    "# selector = selector.fit(X, y)\n",
    "# f = selector.get_support(1)\n",
    "# X_sel = X[X.columns[f]]"
   ]
  },
  {
   "cell_type": "code",
   "execution_count": null,
   "metadata": {},
   "outputs": [],
   "source": [
    "# X[X.columns[f]].columns"
   ]
  },
  {
   "cell_type": "code",
   "execution_count": null,
   "metadata": {},
   "outputs": [],
   "source": [
    "# X_sel.shape"
   ]
  },
  {
   "cell_type": "code",
   "execution_count": null,
   "metadata": {},
   "outputs": [],
   "source": []
  },
  {
   "cell_type": "markdown",
   "metadata": {},
   "source": [
    "## Resumo:\n",
    "\n",
    "* Descreva quais foram os tratamentos feitos\n",
    "* Qual a volumetria antes e depois dos tratamentos"
   ]
  },
  {
   "cell_type": "markdown",
   "metadata": {},
   "source": [
    "# Modelagem \n",
    "\n",
    "* Selecionar a técnica de modelagem\n",
    "* Escolher o design de testes\n",
    "* Construir o modelo\n",
    "* Verificar o modelo"
   ]
  },
  {
   "cell_type": "markdown",
   "metadata": {},
   "source": [
    "<img src='figures/ml.jpeg'>"
   ]
  },
  {
   "cell_type": "markdown",
   "metadata": {},
   "source": [
    "## Escolha da técnica \n",
    "\n",
    "* Deve existir uma técnica baseline? Qual? \n",
    " - já existe algum modelo sendo utilizado? "
   ]
  },
  {
   "cell_type": "markdown",
   "metadata": {},
   "source": [
    "### Técnicas:\n",
    "- Supervisionadas: classificação, predição, recomendação\n",
    "- Não supervisionadas\n",
    "- Reforço\n"
   ]
  },
  {
   "cell_type": "markdown",
   "metadata": {},
   "source": [
    "<img src='figures/ml_map.png'>"
   ]
  },
  {
   "cell_type": "code",
   "execution_count": null,
   "metadata": {},
   "outputs": [],
   "source": [
    "from sklearn.ensemble import RandomForestClassifier\n",
    "\n",
    "# CUIDADO chamar qualquer metódo baseado em arvores sem parametros fará um modelo overfitado!\n",
    "clf = RandomForestClassifier()"
   ]
  },
  {
   "cell_type": "markdown",
   "metadata": {},
   "source": [
    "Discussão: esse modelo permite interpretabilidade, além disso alguns modelos possuem pressupostos especifios sobre os dados, por exemplo, distribuição uniforme. "
   ]
  },
  {
   "cell_type": "code",
   "execution_count": null,
   "metadata": {},
   "outputs": [],
   "source": [
    "clf = RandomForestClassifier(random_state=42, n_estimators=500, max_leaf_nodes=30, min_samples_split=5)"
   ]
  },
  {
   "cell_type": "code",
   "execution_count": null,
   "metadata": {},
   "outputs": [],
   "source": [
    "X =  df_transformed.drop('target', axis=1)\n",
    "y = df_transformed.target"
   ]
  },
  {
   "cell_type": "code",
   "execution_count": null,
   "metadata": {},
   "outputs": [],
   "source": [
    "# train and test\n",
    "X_train, X_test, y_train, y_test = train_test_split(\n",
    "    X, y, test_size=0.33, random_state=42)"
   ]
  },
  {
   "cell_type": "code",
   "execution_count": null,
   "metadata": {},
   "outputs": [],
   "source": [
    "# modelo \n",
    "clf = clf.fit(X_train, y_train)\n",
    "pred = clf.predict_proba(X_test)[:,1]   # atencao aqui!!! "
   ]
  },
  {
   "cell_type": "code",
   "execution_count": null,
   "metadata": {
    "scrolled": true
   },
   "outputs": [],
   "source": [
    "from sklearn import metrics\n",
    "\n",
    "fpr, tpr, thresholds = metrics.roc_curve(y_test, pred)\n",
    "metrics.auc(fpr, tpr)"
   ]
  },
  {
   "cell_type": "code",
   "execution_count": null,
   "metadata": {
    "scrolled": true
   },
   "outputs": [],
   "source": [
    "# Grid search \n",
    "\n",
    "from sklearn.model_selection import GridSearchCV\n",
    "\n",
    "params = {'max_leaf_nodes': [2,4,8,16,32,64,128], 'min_samples_split':[2,3,4]}\n",
    "# no RF quanto mais estimadores melhor o modelo\n",
    "grid_search_cv = GridSearchCV(RandomForestClassifier(n_estimators=500, random_state=42), params, verbose=1, cv=3, scoring='roc_auc')\n",
    "grid_search_cv.fit(X_train, y_train)"
   ]
  },
  {
   "cell_type": "code",
   "execution_count": null,
   "metadata": {},
   "outputs": [],
   "source": [
    "grid_search_cv.best_params_"
   ]
  },
  {
   "cell_type": "code",
   "execution_count": null,
   "metadata": {},
   "outputs": [],
   "source": [
    "clf = RandomForestClassifier(random_state=42, n_estimators=500,**grid_search_cv.best_params_)\n",
    "clf = clf.fit(X_train, y_train)\n",
    "pred = clf.predict_proba(X_test)[:,1]"
   ]
  },
  {
   "cell_type": "code",
   "execution_count": null,
   "metadata": {},
   "outputs": [],
   "source": [
    "fpr, tpr, thresholds = metrics.roc_curve(y_test, pred)\n",
    "metrics.auc(fpr, tpr)"
   ]
  },
  {
   "cell_type": "code",
   "execution_count": null,
   "metadata": {},
   "outputs": [],
   "source": []
  },
  {
   "cell_type": "markdown",
   "metadata": {},
   "source": [
    "# Avaliação dos resultados "
   ]
  },
  {
   "cell_type": "code",
   "execution_count": null,
   "metadata": {
    "scrolled": true
   },
   "outputs": [],
   "source": [
    "from sklearn.metrics import precision_recall_curve, roc_auc_score, roc_curve, auc\n",
    "\n",
    "plt.figure()\n",
    "lw= 2\n",
    "y_pred_proba = clf.predict_proba(X_test)[:,1]\n",
    "fpr, tpr, _  = roc_curve(y_test, y_pred_proba)\n",
    "auc_roc = roc_auc_score(y_test, y_pred_proba)\n",
    "plt.plot([0,1], [0, 1], color='navy', lw=lw, linestyle = '--')\n",
    "plt.plot(fpr, tpr, label='ROC curve (area = %0.2f)' %auc_roc, color='darkorange')\n",
    "plt.xlabel('FPR')\n",
    "plt.ylabel('TPR')\n",
    "plt.title('ROC')\n",
    "\n",
    "plt.show()\n"
   ]
  },
  {
   "cell_type": "code",
   "execution_count": null,
   "metadata": {},
   "outputs": [],
   "source": [
    "y_pred_df = pd.DataFrame(y_pred_proba, index=X_test.index, columns=['pred'])\n",
    "y_pred_df"
   ]
  },
  {
   "cell_type": "code",
   "execution_count": null,
   "metadata": {},
   "outputs": [],
   "source": [
    "y_pred_df.sort_values('pred', ascending=True)[0:50]"
   ]
  },
  {
   "cell_type": "code",
   "execution_count": null,
   "metadata": {
    "scrolled": true
   },
   "outputs": [],
   "source": [
    "from sklearn.metrics import confusion_matrix\n",
    "\n",
    "th = 0.08\n",
    "\n",
    "fig, axes = plt.subplots(ncols=2,  nrows = 2, figsize=(15, 15))\n",
    "\n",
    "precision, recall, thresholds = precision_recall_curve(y_test, y_pred_proba)\n",
    "loc =  np.argmin(np.abs(thresholds-th))\n",
    "print('PR AUC: ', auc(recall, precision))\n",
    "axes[0,0].plot(recall, precision)\n",
    "axes[0,0].plot(recall[loc], precision[loc], 'ko')\n",
    "axes[0,0].set_title('Curva de precisao recall')\n",
    "axes[0,0].set_xlabel('Recall')\n",
    "axes[0,0].set_title('Precisao')\n",
    "\n",
    "fpr, tpr, thresholds = roc_curve(y_test, y_pred_proba)\n",
    "loc = np.argmin(np.abs(thresholds-th))\n",
    "print('ROC AUC: ', auc(fpr, tpr)*100)\n",
    "axes[0,1].plot(fpr, tpr, color='blue', label='ROC')\n",
    "axes[0,1].plot(fpr[loc], tpr[loc], color='red',marker= 'o',  label='ROC')\n",
    "plt.plot([0,1], [0, 1], color='grey', lw=lw, linestyle = '--')\n",
    "axes[0,1].set_title('Taxa de FP')\n",
    "axes[0,1].set_xlabel('Taxa de VP')\n",
    "axes[0,1].set_title('Curva |ROC')\n",
    "\n",
    "limiar =th\n",
    "\n",
    "cm = confusion_matrix(y_test, (y_pred_proba>=th))\n",
    "print(cm/np.sum(cm))\n",
    "\n",
    "sns.heatmap(cm, vmax=np.max(cm), vmin=np.min(cm), annot=True, square=True, fmt='g', ax=axes[1,0])\n",
    "axes[1,0].set_title('Matriz de confusao (Limiar={})'.format(limiar))\n",
    "axes[1,0].set_xlabel('Previsao')\n",
    "axes[1,0].set_ylabel('Verdadeiro')\n",
    "\n",
    "lista_fn = []\n",
    "lista_fp = []\n",
    "x = []\n",
    "\n",
    "for i in np.arange(0,1, 0.01):\n",
    "    cm =confusion_matrix(y_test, (y_pred_proba>=i))\n",
    "    lista_fn.append(cm[1,0]/(cm[1,0]+cm[1,1]))\n",
    "    lista_fp.append(cm[0,1]/(cm[0,1]+cm[0,0]))\n",
    "    x.append(i)\n",
    "\n",
    "axes[1,1].axvline(th, color='k', linestyle=':')\n",
    "axes[1,1].plot(x, lista_fn, label='FN')\n",
    "axes[1,1].plot(x, lista_fp, label='FP')\n",
    "axes[1,1].set_title('FP/FN limiar de decisao')\n",
    "axes[1,1].legend()"
   ]
  },
  {
   "cell_type": "code",
   "execution_count": null,
   "metadata": {},
   "outputs": [],
   "source": [
    "y_test_df = y_test.to_frame()\n",
    "y_test_df.loc[:,'pred'] =  y_pred_proba\n",
    "y_test_df"
   ]
  },
  {
   "cell_type": "code",
   "execution_count": null,
   "metadata": {},
   "outputs": [],
   "source": []
  },
  {
   "cell_type": "code",
   "execution_count": null,
   "metadata": {
    "scrolled": false
   },
   "outputs": [],
   "source": [
    "plt.figure(figsize=(8,8))\n",
    "ax = plt.subplot(1,1,1)\n",
    "aux = y_test_df.sort_values('pred', ascending=False).reset_index()\n",
    "aux.loc[:, 'y_win'] = aux.target.cumsum().div(np.arange(1,aux.shape[0]+1))\n",
    "aux.y_win.plot(color='b', label='Modelo')\n",
    "\n",
    "aux2 = y_test_df.sort_values('pred', ascending=False).sample(frac=1).reset_index()\n",
    "aux2.loc[:, 'y_win'] = aux2.target.cumsum().div(np.arange(1,aux.shape[0]+1))\n",
    "aux2.y_win.plot(color='k', label='Aleatorio')\n",
    "\n",
    "plt.ylabel('Qts pessoas testam positivo')\n",
    "plt.ylabel('Qts pessoas fazem o exame')\n",
    "plt.axvline(100, color='k', linestyle=':')\n",
    "\n",
    "plt.legend();"
   ]
  },
  {
   "cell_type": "markdown",
   "metadata": {},
   "source": [
    "### E sobre as variáveis? "
   ]
  },
  {
   "cell_type": "code",
   "execution_count": null,
   "metadata": {
    "scrolled": true
   },
   "outputs": [],
   "source": [
    "imps= clf.feature_importances_\n",
    "cols = X_test.columns\n",
    "order = np.argsort(imps)[::-1]\n",
    "\n",
    "for col, imp in zip(cols[order], imps[order]):\n",
    "    print(f'{col:30s} | {imp:7.3f}')"
   ]
  },
  {
   "cell_type": "code",
   "execution_count": null,
   "metadata": {
    "scrolled": true
   },
   "outputs": [],
   "source": [
    "M = X_test['city_development_index'].max()\n",
    "plt.figure(figsize=(15,5))\n",
    "plt.hist(X_test.loc[y_test==0]['city_development_index'], bins=np.linspace(0,M, 11), color='b', alpha=.3, density=True, rwidth=.3)\n",
    "plt.hist(X_test.loc[y_test==1]['city_development_index'], bins=np.linspace(0,M, 11), color='r', alpha=.3, density=True, rwidth=.3)\n"
   ]
  },
  {
   "cell_type": "markdown",
   "metadata": {},
   "source": [
    "### Revisão \n",
    "\n",
    "* Faça um overview do processo de ciência de dados\n",
    "* Análise as seguintes questões para cada etapa:\n",
    "    * Isso é necessário?\n",
    "    * Isso está sendo executado de forma otimizada?\n",
    "    * De que maneira isso pode ser melhorado?\n",
    "* Existem falhas? Etapas com problemas? Quais as alternativas nesses casos?\n",
    "* O que foi encontrado que não era esperado (subprodutos de DS)?\n",
    "* Os requisitos e demandas do negócio ainda fazem sentido? O resultado encontrado precisará ser adaptado?"
   ]
  },
  {
   "cell_type": "markdown",
   "metadata": {},
   "source": [
    "### Proximos Passos: \n",
    "\n",
    "* Qual é o modelo com maior potencial para deploy?\n",
    "* O quanto esse modelo melhora o processo atual?\n",
    "* Existem melhorias para a continuidade do modelo?\n"
   ]
  },
  {
   "cell_type": "markdown",
   "metadata": {},
   "source": [
    "**O que vcs acharam do tempo gasto com a modelagem em relação às outras etapas?**"
   ]
  },
  {
   "cell_type": "markdown",
   "metadata": {},
   "source": [
    "# Deployment"
   ]
  },
  {
   "cell_type": "markdown",
   "metadata": {},
   "source": [
    "* Plano de deploy\n",
    "* Monitoraçãomento e Manutenção\n",
    "* Reporte final"
   ]
  },
  {
   "cell_type": "markdown",
   "metadata": {},
   "source": [
    "<img src='figures/deploy.jpeg' width= 200 >"
   ]
  },
  {
   "cell_type": "markdown",
   "metadata": {},
   "source": [
    "* Testes?\n",
    "* Retreino?\n",
    "* py?"
   ]
  },
  {
   "cell_type": "markdown",
   "metadata": {},
   "source": [
    "# Referências\n",
    "\n",
    "* [Vídeo - Ciência de dados além do código](https://youtu.be/qtMzVEWo0d4)\n",
    "* [Tutorial-  Sklearn](https://scikit-learn.org/stable/index.html)\n",
    "* [Tutorial - Crisp-dm Guide](http://www.statoo.com/CRISP-DM.pdf)\n",
    "* [Livro - Manual Prático de Data Science - Mário Filho](https://www.amazon.com.br/Manual-Pr%C3%A1tico-Science-Mario-Filho-ebook/dp/B08MTMSDRG)\n",
    "* [Livro - Machine Learning Guia de Referência Rápida - Matt Harrison](https://www.amazon.com.br/Machine-Learning-Refer%C3%AAncia-Trabalhando-estruturados-ebook/dp/B08255K2ZQ/ref=sr_1_1?__mk_pt_BR=%C3%85M%C3%85%C5%BD%C3%95%C3%91&crid=3LZW6QJ7VZT0A&dchild=1&keywords=machine+learning+guia+de+refer%C3%AAncia+r%C3%A1pida&qid=1624923606&sprefix=machine+learning+guia+de+%2Cdigital-text%2C281&sr=8-1)\n",
    "* [Dados - Breast Cancer Wisconsin Dataset](https://archive.ics.uci.edu/ml/datasets/Breast+Cancer+Wisconsin+(Diagnostic))\n",
    "* [Artigo - Visualizations that really work](https://hbr.org/2016/06/visualizations-that-really-work)\n",
    "* [Artigo - Gerenciamento de Projetos de Data Science com CRISP](https://medium.com/data-hackers/project-data-science-pds-39d5a78e058a)"
   ]
  },
  {
   "cell_type": "markdown",
   "metadata": {},
   "source": [
    "https://github.com/drivendata/cookiecutter-data-science"
   ]
  },
  {
   "cell_type": "markdown",
   "metadata": {},
   "source": [
    "# Resumo \n",
    "\n",
    "* O que aprendemos hoje? \n",
    "* O que você sugere de melhorias nesse processo? **#desafio**\n"
   ]
  },
  {
   "cell_type": "markdown",
   "metadata": {},
   "source": [
    "**Vantagem competitiva vs DIKW**"
   ]
  },
  {
   "cell_type": "markdown",
   "metadata": {},
   "source": [
    "<img src='figures/vantagem_competitiva.png' >"
   ]
  },
  {
   "cell_type": "markdown",
   "metadata": {},
   "source": [
    "<img src='figures/dikw_pyramid.jpg' >"
   ]
  }
 ],
 "metadata": {
  "hide_input": false,
  "kernelspec": {
   "display_name": "Python 3",
   "language": "python",
   "name": "python3"
  },
  "language_info": {
   "codemirror_mode": {
    "name": "ipython",
    "version": 3
   },
   "file_extension": ".py",
   "mimetype": "text/x-python",
   "name": "python",
   "nbconvert_exporter": "python",
   "pygments_lexer": "ipython3",
   "version": "3.8.8"
  },
  "toc": {
   "base_numbering": 1,
   "nav_menu": {},
   "number_sections": true,
   "sideBar": true,
   "skip_h1_title": false,
   "title_cell": "Table of Contents",
   "title_sidebar": "Contents",
   "toc_cell": true,
   "toc_position": {
    "height": "calc(100% - 180px)",
    "left": "10px",
    "top": "150px",
    "width": "273.188px"
   },
   "toc_section_display": true,
   "toc_window_display": false
  }
 },
 "nbformat": 4,
 "nbformat_minor": 4
}
