{
 "cells": [
  {
   "cell_type": "markdown",
   "id": "62a36209",
   "metadata": {},
   "source": [
    "# Classificadores"
   ]
  },
  {
   "cell_type": "code",
   "execution_count": 75,
   "id": "bfa62b1d",
   "metadata": {},
   "outputs": [],
   "source": [
    "#imports\n",
    "import os\n",
    "\n",
    "import numpy as np\n",
    "import pandas as pd\n",
    "\n",
    "import seaborn as sns\n",
    "import matplotlib.pyplot as plt\n",
    "\n",
    "from sklearn.neighbors import KNeighborsClassifier\n",
    "from sklearn.linear_model import LogisticRegression\n",
    "from sklearn.svm import SVC\n",
    "from sklearn import tree\n",
    "from sklearn.ensemble import RandomForestClassifier\n",
    "\n",
    "from sklearn import metrics                \n"
   ]
  },
  {
   "cell_type": "code",
   "execution_count": 2,
   "id": "3feda0da",
   "metadata": {},
   "outputs": [],
   "source": [
    "# Set the figure size\n",
    "plt.rcParams[\"figure.figsize\"] = [7.00, 3.50]\n",
    "plt.rcParams[\"figure.autolayout\"] = True"
   ]
  },
  {
   "cell_type": "markdown",
   "id": "6cb5cfa9",
   "metadata": {},
   "source": [
    "# KNN "
   ]
  },
  {
   "cell_type": "markdown",
   "id": "c6959c09",
   "metadata": {},
   "source": [
    "<img src='https://machinelearningknowledge.ai/wp-content/uploads/2018/08/KNN-Classification.gif'>"
   ]
  },
  {
   "cell_type": "markdown",
   "id": "5ee81e28",
   "metadata": {},
   "source": [
    "## Teste 1 com o KNN"
   ]
  },
  {
   "cell_type": "code",
   "execution_count": 3,
   "id": "248f6db1",
   "metadata": {},
   "outputs": [
    {
     "data": {
      "text/html": [
       "<div>\n",
       "<style scoped>\n",
       "    .dataframe tbody tr th:only-of-type {\n",
       "        vertical-align: middle;\n",
       "    }\n",
       "\n",
       "    .dataframe tbody tr th {\n",
       "        vertical-align: top;\n",
       "    }\n",
       "\n",
       "    .dataframe thead th {\n",
       "        text-align: right;\n",
       "    }\n",
       "</style>\n",
       "<table border=\"1\" class=\"dataframe\">\n",
       "  <thead>\n",
       "    <tr style=\"text-align: right;\">\n",
       "      <th></th>\n",
       "      <th>feature_1</th>\n",
       "      <th>feature_2</th>\n",
       "      <th>classe</th>\n",
       "    </tr>\n",
       "  </thead>\n",
       "  <tbody>\n",
       "    <tr>\n",
       "      <th>0</th>\n",
       "      <td>4.399038</td>\n",
       "      <td>1.570883</td>\n",
       "      <td>0</td>\n",
       "    </tr>\n",
       "    <tr>\n",
       "      <th>1</th>\n",
       "      <td>4.154722</td>\n",
       "      <td>-0.234249</td>\n",
       "      <td>0</td>\n",
       "    </tr>\n",
       "    <tr>\n",
       "      <th>2</th>\n",
       "      <td>3.347447</td>\n",
       "      <td>2.034107</td>\n",
       "      <td>0</td>\n",
       "    </tr>\n",
       "    <tr>\n",
       "      <th>3</th>\n",
       "      <td>4.376267</td>\n",
       "      <td>5.153772</td>\n",
       "      <td>0</td>\n",
       "    </tr>\n",
       "    <tr>\n",
       "      <th>4</th>\n",
       "      <td>1.047575</td>\n",
       "      <td>1.382727</td>\n",
       "      <td>0</td>\n",
       "    </tr>\n",
       "    <tr>\n",
       "      <th>5</th>\n",
       "      <td>2.321226</td>\n",
       "      <td>-0.866871</td>\n",
       "      <td>0</td>\n",
       "    </tr>\n",
       "    <tr>\n",
       "      <th>6</th>\n",
       "      <td>2.225348</td>\n",
       "      <td>3.422347</td>\n",
       "      <td>0</td>\n",
       "    </tr>\n",
       "    <tr>\n",
       "      <th>7</th>\n",
       "      <td>4.316371</td>\n",
       "      <td>2.937276</td>\n",
       "      <td>0</td>\n",
       "    </tr>\n",
       "    <tr>\n",
       "      <th>8</th>\n",
       "      <td>3.622764</td>\n",
       "      <td>4.028104</td>\n",
       "      <td>0</td>\n",
       "    </tr>\n",
       "    <tr>\n",
       "      <th>9</th>\n",
       "      <td>1.104392</td>\n",
       "      <td>4.151042</td>\n",
       "      <td>0</td>\n",
       "    </tr>\n",
       "    <tr>\n",
       "      <th>0</th>\n",
       "      <td>19.539941</td>\n",
       "      <td>16.786721</td>\n",
       "      <td>1</td>\n",
       "    </tr>\n",
       "    <tr>\n",
       "      <th>1</th>\n",
       "      <td>20.133054</td>\n",
       "      <td>21.452234</td>\n",
       "      <td>1</td>\n",
       "    </tr>\n",
       "    <tr>\n",
       "      <th>2</th>\n",
       "      <td>23.711010</td>\n",
       "      <td>22.234430</td>\n",
       "      <td>1</td>\n",
       "    </tr>\n",
       "    <tr>\n",
       "      <th>3</th>\n",
       "      <td>15.247337</td>\n",
       "      <td>17.997075</td>\n",
       "      <td>1</td>\n",
       "    </tr>\n",
       "    <tr>\n",
       "      <th>4</th>\n",
       "      <td>17.678425</td>\n",
       "      <td>20.625614</td>\n",
       "      <td>1</td>\n",
       "    </tr>\n",
       "    <tr>\n",
       "      <th>5</th>\n",
       "      <td>19.265706</td>\n",
       "      <td>18.201643</td>\n",
       "      <td>1</td>\n",
       "    </tr>\n",
       "    <tr>\n",
       "      <th>6</th>\n",
       "      <td>20.126854</td>\n",
       "      <td>22.572403</td>\n",
       "      <td>1</td>\n",
       "    </tr>\n",
       "    <tr>\n",
       "      <th>7</th>\n",
       "      <td>22.218142</td>\n",
       "      <td>20.490394</td>\n",
       "      <td>1</td>\n",
       "    </tr>\n",
       "    <tr>\n",
       "      <th>8</th>\n",
       "      <td>16.860101</td>\n",
       "      <td>20.500922</td>\n",
       "      <td>1</td>\n",
       "    </tr>\n",
       "    <tr>\n",
       "      <th>9</th>\n",
       "      <td>20.277357</td>\n",
       "      <td>21.138827</td>\n",
       "      <td>1</td>\n",
       "    </tr>\n",
       "  </tbody>\n",
       "</table>\n",
       "</div>"
      ],
      "text/plain": [
       "   feature_1  feature_2  classe\n",
       "0   4.399038   1.570883       0\n",
       "1   4.154722  -0.234249       0\n",
       "2   3.347447   2.034107       0\n",
       "3   4.376267   5.153772       0\n",
       "4   1.047575   1.382727       0\n",
       "5   2.321226  -0.866871       0\n",
       "6   2.225348   3.422347       0\n",
       "7   4.316371   2.937276       0\n",
       "8   3.622764   4.028104       0\n",
       "9   1.104392   4.151042       0\n",
       "0  19.539941  16.786721       1\n",
       "1  20.133054  21.452234       1\n",
       "2  23.711010  22.234430       1\n",
       "3  15.247337  17.997075       1\n",
       "4  17.678425  20.625614       1\n",
       "5  19.265706  18.201643       1\n",
       "6  20.126854  22.572403       1\n",
       "7  22.218142  20.490394       1\n",
       "8  16.860101  20.500922       1\n",
       "9  20.277357  21.138827       1"
      ]
     },
     "execution_count": 3,
     "metadata": {},
     "output_type": "execute_result"
    }
   ],
   "source": [
    "#dataset 1 - balanceado; linearmente separavel, sem outliers; normalizado \n",
    "classe_1 = pd.DataFrame(np.random.normal(3, 2.5, size=(10, 2)))\n",
    "classe_1['clase'] = 0\n",
    "classe_1.columns=['feature_1', 'feature_2', 'classe']\n",
    "classe_2 = pd.DataFrame(np.random.normal(20, 2, size=(10, 2)))\n",
    "classe_2['clase'] = 1\n",
    "classe_2.columns=['feature_1', 'feature_2', 'classe']\n",
    "sample = pd.concat([classe_1, classe_2])\n",
    "sample"
   ]
  },
  {
   "cell_type": "code",
   "execution_count": 4,
   "id": "2c4da016",
   "metadata": {
    "scrolled": false
   },
   "outputs": [
    {
     "data": {
      "image/png": "[encoded data removed]",
      "text/plain": [
       "<Figure size 504x252 with 2 Axes>"
      ]
     },
     "metadata": {
      "needs_background": "light"
     },
     "output_type": "display_data"
    }
   ],
   "source": [
    "fig, ax = plt.subplots()\n",
    "sample.plot(kind=\"scatter\", x=\"feature_1\", y=\"feature_2\", s=50, c=\"classe\", cmap=\"viridis\", ax=ax);\n"
   ]
  },
  {
   "cell_type": "code",
   "execution_count": 5,
   "id": "2cc01604",
   "metadata": {},
   "outputs": [],
   "source": [
    "X = sample[['feature_1', 'feature_2']]\n",
    "y = sample['classe']"
   ]
  },
  {
   "cell_type": "code",
   "execution_count": 6,
   "id": "7e9ebd31",
   "metadata": {},
   "outputs": [
    {
     "data": {
      "text/plain": [
       "KNeighborsClassifier(n_neighbors=1)"
      ]
     },
     "execution_count": 6,
     "metadata": {},
     "output_type": "execute_result"
    }
   ],
   "source": [
    "#instanciação e fit \n",
    "neigh = KNeighborsClassifier(n_neighbors= 1)\n",
    "neigh.fit(X, y)"
   ]
  },
  {
   "cell_type": "code",
   "execution_count": 7,
   "id": "b86301f3",
   "metadata": {
    "scrolled": true
   },
   "outputs": [
    {
     "data": {
      "text/html": [
       "<div>\n",
       "<style scoped>\n",
       "    .dataframe tbody tr th:only-of-type {\n",
       "        vertical-align: middle;\n",
       "    }\n",
       "\n",
       "    .dataframe tbody tr th {\n",
       "        vertical-align: top;\n",
       "    }\n",
       "\n",
       "    .dataframe thead th {\n",
       "        text-align: right;\n",
       "    }\n",
       "</style>\n",
       "<table border=\"1\" class=\"dataframe\">\n",
       "  <thead>\n",
       "    <tr style=\"text-align: right;\">\n",
       "      <th></th>\n",
       "      <th>feature_1</th>\n",
       "      <th>feature_2</th>\n",
       "      <th>classe</th>\n",
       "    </tr>\n",
       "  </thead>\n",
       "  <tbody>\n",
       "    <tr>\n",
       "      <th>0</th>\n",
       "      <td>4.399038</td>\n",
       "      <td>1.570883</td>\n",
       "      <td>0</td>\n",
       "    </tr>\n",
       "    <tr>\n",
       "      <th>1</th>\n",
       "      <td>4.154722</td>\n",
       "      <td>-0.234249</td>\n",
       "      <td>0</td>\n",
       "    </tr>\n",
       "    <tr>\n",
       "      <th>2</th>\n",
       "      <td>3.347447</td>\n",
       "      <td>2.034107</td>\n",
       "      <td>0</td>\n",
       "    </tr>\n",
       "    <tr>\n",
       "      <th>3</th>\n",
       "      <td>4.376267</td>\n",
       "      <td>5.153772</td>\n",
       "      <td>0</td>\n",
       "    </tr>\n",
       "    <tr>\n",
       "      <th>4</th>\n",
       "      <td>1.047575</td>\n",
       "      <td>1.382727</td>\n",
       "      <td>0</td>\n",
       "    </tr>\n",
       "    <tr>\n",
       "      <th>5</th>\n",
       "      <td>2.321226</td>\n",
       "      <td>-0.866871</td>\n",
       "      <td>0</td>\n",
       "    </tr>\n",
       "    <tr>\n",
       "      <th>6</th>\n",
       "      <td>2.225348</td>\n",
       "      <td>3.422347</td>\n",
       "      <td>0</td>\n",
       "    </tr>\n",
       "    <tr>\n",
       "      <th>7</th>\n",
       "      <td>4.316371</td>\n",
       "      <td>2.937276</td>\n",
       "      <td>0</td>\n",
       "    </tr>\n",
       "    <tr>\n",
       "      <th>8</th>\n",
       "      <td>3.622764</td>\n",
       "      <td>4.028104</td>\n",
       "      <td>0</td>\n",
       "    </tr>\n",
       "    <tr>\n",
       "      <th>9</th>\n",
       "      <td>1.104392</td>\n",
       "      <td>4.151042</td>\n",
       "      <td>0</td>\n",
       "    </tr>\n",
       "    <tr>\n",
       "      <th>0</th>\n",
       "      <td>19.539941</td>\n",
       "      <td>16.786721</td>\n",
       "      <td>1</td>\n",
       "    </tr>\n",
       "    <tr>\n",
       "      <th>1</th>\n",
       "      <td>20.133054</td>\n",
       "      <td>21.452234</td>\n",
       "      <td>1</td>\n",
       "    </tr>\n",
       "    <tr>\n",
       "      <th>2</th>\n",
       "      <td>23.711010</td>\n",
       "      <td>22.234430</td>\n",
       "      <td>1</td>\n",
       "    </tr>\n",
       "    <tr>\n",
       "      <th>3</th>\n",
       "      <td>15.247337</td>\n",
       "      <td>17.997075</td>\n",
       "      <td>1</td>\n",
       "    </tr>\n",
       "    <tr>\n",
       "      <th>4</th>\n",
       "      <td>17.678425</td>\n",
       "      <td>20.625614</td>\n",
       "      <td>1</td>\n",
       "    </tr>\n",
       "    <tr>\n",
       "      <th>5</th>\n",
       "      <td>19.265706</td>\n",
       "      <td>18.201643</td>\n",
       "      <td>1</td>\n",
       "    </tr>\n",
       "    <tr>\n",
       "      <th>6</th>\n",
       "      <td>20.126854</td>\n",
       "      <td>22.572403</td>\n",
       "      <td>1</td>\n",
       "    </tr>\n",
       "    <tr>\n",
       "      <th>7</th>\n",
       "      <td>22.218142</td>\n",
       "      <td>20.490394</td>\n",
       "      <td>1</td>\n",
       "    </tr>\n",
       "    <tr>\n",
       "      <th>8</th>\n",
       "      <td>16.860101</td>\n",
       "      <td>20.500922</td>\n",
       "      <td>1</td>\n",
       "    </tr>\n",
       "    <tr>\n",
       "      <th>9</th>\n",
       "      <td>20.277357</td>\n",
       "      <td>21.138827</td>\n",
       "      <td>1</td>\n",
       "    </tr>\n",
       "  </tbody>\n",
       "</table>\n",
       "</div>"
      ],
      "text/plain": [
       "   feature_1  feature_2  classe\n",
       "0   4.399038   1.570883       0\n",
       "1   4.154722  -0.234249       0\n",
       "2   3.347447   2.034107       0\n",
       "3   4.376267   5.153772       0\n",
       "4   1.047575   1.382727       0\n",
       "5   2.321226  -0.866871       0\n",
       "6   2.225348   3.422347       0\n",
       "7   4.316371   2.937276       0\n",
       "8   3.622764   4.028104       0\n",
       "9   1.104392   4.151042       0\n",
       "0  19.539941  16.786721       1\n",
       "1  20.133054  21.452234       1\n",
       "2  23.711010  22.234430       1\n",
       "3  15.247337  17.997075       1\n",
       "4  17.678425  20.625614       1\n",
       "5  19.265706  18.201643       1\n",
       "6  20.126854  22.572403       1\n",
       "7  22.218142  20.490394       1\n",
       "8  16.860101  20.500922       1\n",
       "9  20.277357  21.138827       1"
      ]
     },
     "execution_count": 7,
     "metadata": {},
     "output_type": "execute_result"
    }
   ],
   "source": [
    "sample"
   ]
  },
  {
   "cell_type": "code",
   "execution_count": 8,
   "id": "c5f5b3d6",
   "metadata": {
    "scrolled": true
   },
   "outputs": [
    {
     "name": "stdout",
     "output_type": "stream",
     "text": [
      "[1]\n"
     ]
    }
   ],
   "source": [
    "print(neigh.predict([[20.33, 22.58]]))"
   ]
  },
  {
   "cell_type": "code",
   "execution_count": 9,
   "id": "090f82c2",
   "metadata": {},
   "outputs": [
    {
     "name": "stdout",
     "output_type": "stream",
     "text": [
      "[0]\n"
     ]
    }
   ],
   "source": [
    "print(neigh.predict([[5.16, 3.9]]))"
   ]
  },
  {
   "cell_type": "code",
   "execution_count": 10,
   "id": "199d33b6",
   "metadata": {},
   "outputs": [
    {
     "name": "stdout",
     "output_type": "stream",
     "text": [
      "[1]\n"
     ]
    }
   ],
   "source": [
    "print(neigh.predict([[15.16, 15.3]]))"
   ]
  },
  {
   "cell_type": "markdown",
   "id": "2b167573",
   "metadata": {},
   "source": [
    "## Teste 2"
   ]
  },
  {
   "cell_type": "code",
   "execution_count": 78,
   "id": "389491fd",
   "metadata": {},
   "outputs": [
    {
     "data": {
      "text/html": [
       "<div>\n",
       "<style scoped>\n",
       "    .dataframe tbody tr th:only-of-type {\n",
       "        vertical-align: middle;\n",
       "    }\n",
       "\n",
       "    .dataframe tbody tr th {\n",
       "        vertical-align: top;\n",
       "    }\n",
       "\n",
       "    .dataframe thead th {\n",
       "        text-align: right;\n",
       "    }\n",
       "</style>\n",
       "<table border=\"1\" class=\"dataframe\">\n",
       "  <thead>\n",
       "    <tr style=\"text-align: right;\">\n",
       "      <th></th>\n",
       "      <th>feature_1</th>\n",
       "      <th>feature_2</th>\n",
       "      <th>classe</th>\n",
       "    </tr>\n",
       "  </thead>\n",
       "  <tbody>\n",
       "    <tr>\n",
       "      <th>0</th>\n",
       "      <td>4.028045</td>\n",
       "      <td>5.186207</td>\n",
       "      <td>0</td>\n",
       "    </tr>\n",
       "    <tr>\n",
       "      <th>1</th>\n",
       "      <td>3.398332</td>\n",
       "      <td>7.285167</td>\n",
       "      <td>0</td>\n",
       "    </tr>\n",
       "    <tr>\n",
       "      <th>2</th>\n",
       "      <td>8.449866</td>\n",
       "      <td>1.658583</td>\n",
       "      <td>0</td>\n",
       "    </tr>\n",
       "    <tr>\n",
       "      <th>3</th>\n",
       "      <td>-0.466489</td>\n",
       "      <td>5.913600</td>\n",
       "      <td>0</td>\n",
       "    </tr>\n",
       "    <tr>\n",
       "      <th>4</th>\n",
       "      <td>-2.020860</td>\n",
       "      <td>6.439360</td>\n",
       "      <td>0</td>\n",
       "    </tr>\n",
       "    <tr>\n",
       "      <th>...</th>\n",
       "      <td>...</td>\n",
       "      <td>...</td>\n",
       "      <td>...</td>\n",
       "    </tr>\n",
       "    <tr>\n",
       "      <th>5</th>\n",
       "      <td>21.877399</td>\n",
       "      <td>20.378449</td>\n",
       "      <td>1</td>\n",
       "    </tr>\n",
       "    <tr>\n",
       "      <th>6</th>\n",
       "      <td>23.870714</td>\n",
       "      <td>23.558728</td>\n",
       "      <td>1</td>\n",
       "    </tr>\n",
       "    <tr>\n",
       "      <th>7</th>\n",
       "      <td>19.938155</td>\n",
       "      <td>21.272124</td>\n",
       "      <td>1</td>\n",
       "    </tr>\n",
       "    <tr>\n",
       "      <th>8</th>\n",
       "      <td>19.878768</td>\n",
       "      <td>17.608124</td>\n",
       "      <td>1</td>\n",
       "    </tr>\n",
       "    <tr>\n",
       "      <th>9</th>\n",
       "      <td>21.108989</td>\n",
       "      <td>19.320792</td>\n",
       "      <td>1</td>\n",
       "    </tr>\n",
       "  </tbody>\n",
       "</table>\n",
       "<p>100 rows × 3 columns</p>\n",
       "</div>"
      ],
      "text/plain": [
       "    feature_1  feature_2  classe\n",
       "0    4.028045   5.186207       0\n",
       "1    3.398332   7.285167       0\n",
       "2    8.449866   1.658583       0\n",
       "3   -0.466489   5.913600       0\n",
       "4   -2.020860   6.439360       0\n",
       "..        ...        ...     ...\n",
       "5   21.877399  20.378449       1\n",
       "6   23.870714  23.558728       1\n",
       "7   19.938155  21.272124       1\n",
       "8   19.878768  17.608124       1\n",
       "9   21.108989  19.320792       1\n",
       "\n",
       "[100 rows x 3 columns]"
      ]
     },
     "execution_count": 78,
     "metadata": {},
     "output_type": "execute_result"
    }
   ],
   "source": [
    "#dataset 2 - desbalanceado; linearmente separavel, sem outliers; normalizado \n",
    "classe_1 = pd.DataFrame(np.random.normal(3, 2.5, size=(90, 2)))\n",
    "classe_1['clase'] = 0\n",
    "classe_1.columns=['feature_1', 'feature_2', 'classe']\n",
    "classe_2 = pd.DataFrame(np.random.normal(20, 2, size=(10, 2)))\n",
    "classe_2['clase'] = 1\n",
    "classe_2.columns=['feature_1', 'feature_2', 'classe']\n",
    "sample_2 = pd.concat([classe_1, classe_2])\n",
    "sample_2"
   ]
  },
  {
   "cell_type": "code",
   "execution_count": 79,
   "id": "4f678ba9",
   "metadata": {},
   "outputs": [
    {
     "data": {
      "image/png": "[encoded data removed]",
      "text/plain": [
       "<Figure size 504x252 with 2 Axes>"
      ]
     },
     "metadata": {
      "needs_background": "light"
     },
     "output_type": "display_data"
    }
   ],
   "source": [
    "fig, ax = plt.subplots()\n",
    "sample_2.plot(kind=\"scatter\", x=\"feature_1\", y=\"feature_2\", s=50, c=\"classe\", cmap=\"viridis\", ax=ax);\n"
   ]
  },
  {
   "cell_type": "code",
   "execution_count": 80,
   "id": "12a844cf",
   "metadata": {},
   "outputs": [],
   "source": [
    "X = sample_2[['feature_1', 'feature_2']]\n",
    "y = sample_2['classe']"
   ]
  },
  {
   "cell_type": "code",
   "execution_count": 81,
   "id": "717d6966",
   "metadata": {},
   "outputs": [
    {
     "data": {
      "text/plain": [
       "KNeighborsClassifier(n_neighbors=50)"
      ]
     },
     "execution_count": 81,
     "metadata": {},
     "output_type": "execute_result"
    }
   ],
   "source": [
    "#instanciação e fit \n",
    "neigh = KNeighborsClassifier(n_neighbors= 50)\n",
    "neigh.fit(X, y)"
   ]
  },
  {
   "cell_type": "code",
   "execution_count": 82,
   "id": "9d622c85",
   "metadata": {},
   "outputs": [
    {
     "name": "stdout",
     "output_type": "stream",
     "text": [
      "[0]\n"
     ]
    }
   ],
   "source": [
    "print(neigh.predict([[20.33, 22.58]]))"
   ]
  },
  {
   "cell_type": "code",
   "execution_count": 83,
   "id": "edaee62b",
   "metadata": {},
   "outputs": [
    {
     "name": "stdout",
     "output_type": "stream",
     "text": [
      "[0]\n"
     ]
    }
   ],
   "source": [
    "print(neigh.predict([[5.16, 3.9]]))"
   ]
  },
  {
   "cell_type": "code",
   "execution_count": 84,
   "id": "f9084a9b",
   "metadata": {},
   "outputs": [
    {
     "name": "stdout",
     "output_type": "stream",
     "text": [
      "[0]\n"
     ]
    }
   ],
   "source": [
    "print(neigh.predict([[15.16, 15.3]]))"
   ]
  },
  {
   "cell_type": "markdown",
   "id": "8aac2254",
   "metadata": {},
   "source": [
    "### Encontrar o melhor valor de K "
   ]
  },
  {
   "cell_type": "code",
   "execution_count": 86,
   "id": "60a623ea",
   "metadata": {},
   "outputs": [
    {
     "name": "stdout",
     "output_type": "stream",
     "text": [
      "The best accuracy was with 1.0 with k= 1\n"
     ]
    }
   ],
   "source": [
    "k= 50\n",
    "acc_array=np.zeros(k)\n",
    "for k in np.arange(1,k+1,1): # here k will take values from 1 to 10\n",
    "    classifier = KNeighborsClassifier(n_neighbors=k).fit(X,y) # k changes after each iteration\n",
    "    y_pred = classifier.predict(X)\n",
    "    acc = metrics.accuracy_score(y, y)\n",
    "    acc_array[k-1]=acc # store correctly the results\n",
    "\n",
    "max_acc=np.amax(acc_array)\n",
    "acc_list=list(acc_array)\n",
    "k=acc_list.index(max_acc)\n",
    "print(\"The best accuracy was with\", max_acc, \"with k=\", k+1)\n"
   ]
  },
  {
   "cell_type": "markdown",
   "id": "7c42e75e",
   "metadata": {},
   "source": [
    "## Teste 3"
   ]
  },
  {
   "cell_type": "code",
   "execution_count": 87,
   "id": "2b0073b0",
   "metadata": {},
   "outputs": [
    {
     "data": {
      "text/html": [
       "<div>\n",
       "<style scoped>\n",
       "    .dataframe tbody tr th:only-of-type {\n",
       "        vertical-align: middle;\n",
       "    }\n",
       "\n",
       "    .dataframe tbody tr th {\n",
       "        vertical-align: top;\n",
       "    }\n",
       "\n",
       "    .dataframe thead th {\n",
       "        text-align: right;\n",
       "    }\n",
       "</style>\n",
       "<table border=\"1\" class=\"dataframe\">\n",
       "  <thead>\n",
       "    <tr style=\"text-align: right;\">\n",
       "      <th></th>\n",
       "      <th>feature_1</th>\n",
       "      <th>feature_2</th>\n",
       "      <th>classe</th>\n",
       "    </tr>\n",
       "  </thead>\n",
       "  <tbody>\n",
       "    <tr>\n",
       "      <th>0</th>\n",
       "      <td>9.999645</td>\n",
       "      <td>4.178565</td>\n",
       "      <td>0</td>\n",
       "    </tr>\n",
       "    <tr>\n",
       "      <th>1</th>\n",
       "      <td>2.473642</td>\n",
       "      <td>4.046731</td>\n",
       "      <td>0</td>\n",
       "    </tr>\n",
       "    <tr>\n",
       "      <th>2</th>\n",
       "      <td>0.301930</td>\n",
       "      <td>1.146305</td>\n",
       "      <td>0</td>\n",
       "    </tr>\n",
       "    <tr>\n",
       "      <th>3</th>\n",
       "      <td>4.063091</td>\n",
       "      <td>0.559343</td>\n",
       "      <td>0</td>\n",
       "    </tr>\n",
       "    <tr>\n",
       "      <th>4</th>\n",
       "      <td>1.884518</td>\n",
       "      <td>-2.357116</td>\n",
       "      <td>0</td>\n",
       "    </tr>\n",
       "    <tr>\n",
       "      <th>5</th>\n",
       "      <td>2.357057</td>\n",
       "      <td>-2.070730</td>\n",
       "      <td>0</td>\n",
       "    </tr>\n",
       "    <tr>\n",
       "      <th>6</th>\n",
       "      <td>1.893943</td>\n",
       "      <td>4.445390</td>\n",
       "      <td>0</td>\n",
       "    </tr>\n",
       "    <tr>\n",
       "      <th>7</th>\n",
       "      <td>2.074044</td>\n",
       "      <td>5.658898</td>\n",
       "      <td>0</td>\n",
       "    </tr>\n",
       "    <tr>\n",
       "      <th>8</th>\n",
       "      <td>4.923764</td>\n",
       "      <td>3.422491</td>\n",
       "      <td>0</td>\n",
       "    </tr>\n",
       "    <tr>\n",
       "      <th>9</th>\n",
       "      <td>11.685439</td>\n",
       "      <td>0.252817</td>\n",
       "      <td>0</td>\n",
       "    </tr>\n",
       "    <tr>\n",
       "      <th>0</th>\n",
       "      <td>17.473117</td>\n",
       "      <td>19.857758</td>\n",
       "      <td>1</td>\n",
       "    </tr>\n",
       "    <tr>\n",
       "      <th>1</th>\n",
       "      <td>22.303707</td>\n",
       "      <td>19.142686</td>\n",
       "      <td>1</td>\n",
       "    </tr>\n",
       "    <tr>\n",
       "      <th>2</th>\n",
       "      <td>21.473098</td>\n",
       "      <td>19.018405</td>\n",
       "      <td>1</td>\n",
       "    </tr>\n",
       "    <tr>\n",
       "      <th>3</th>\n",
       "      <td>22.905459</td>\n",
       "      <td>17.790708</td>\n",
       "      <td>1</td>\n",
       "    </tr>\n",
       "    <tr>\n",
       "      <th>4</th>\n",
       "      <td>16.604173</td>\n",
       "      <td>20.032480</td>\n",
       "      <td>1</td>\n",
       "    </tr>\n",
       "    <tr>\n",
       "      <th>5</th>\n",
       "      <td>22.051584</td>\n",
       "      <td>15.899955</td>\n",
       "      <td>1</td>\n",
       "    </tr>\n",
       "    <tr>\n",
       "      <th>6</th>\n",
       "      <td>21.129430</td>\n",
       "      <td>19.189397</td>\n",
       "      <td>1</td>\n",
       "    </tr>\n",
       "    <tr>\n",
       "      <th>7</th>\n",
       "      <td>19.747022</td>\n",
       "      <td>20.641458</td>\n",
       "      <td>1</td>\n",
       "    </tr>\n",
       "    <tr>\n",
       "      <th>8</th>\n",
       "      <td>17.426236</td>\n",
       "      <td>22.423219</td>\n",
       "      <td>1</td>\n",
       "    </tr>\n",
       "    <tr>\n",
       "      <th>9</th>\n",
       "      <td>21.193014</td>\n",
       "      <td>16.866092</td>\n",
       "      <td>1</td>\n",
       "    </tr>\n",
       "    <tr>\n",
       "      <th>10</th>\n",
       "      <td>11.000000</td>\n",
       "      <td>42.000000</td>\n",
       "      <td>1</td>\n",
       "    </tr>\n",
       "  </tbody>\n",
       "</table>\n",
       "</div>"
      ],
      "text/plain": [
       "    feature_1  feature_2  classe\n",
       "0    9.999645   4.178565       0\n",
       "1    2.473642   4.046731       0\n",
       "2    0.301930   1.146305       0\n",
       "3    4.063091   0.559343       0\n",
       "4    1.884518  -2.357116       0\n",
       "5    2.357057  -2.070730       0\n",
       "6    1.893943   4.445390       0\n",
       "7    2.074044   5.658898       0\n",
       "8    4.923764   3.422491       0\n",
       "9   11.685439   0.252817       0\n",
       "0   17.473117  19.857758       1\n",
       "1   22.303707  19.142686       1\n",
       "2   21.473098  19.018405       1\n",
       "3   22.905459  17.790708       1\n",
       "4   16.604173  20.032480       1\n",
       "5   22.051584  15.899955       1\n",
       "6   21.129430  19.189397       1\n",
       "7   19.747022  20.641458       1\n",
       "8   17.426236  22.423219       1\n",
       "9   21.193014  16.866092       1\n",
       "10  11.000000  42.000000       1"
      ]
     },
     "execution_count": 87,
     "metadata": {},
     "output_type": "execute_result"
    }
   ],
   "source": [
    "#dataset 1 - balanceado; linearmente separavel, com outliers; normalizado \n",
    "classe_1 = pd.DataFrame(np.random.normal(3, 2.5, size=(10, 2)))\n",
    "\n",
    "\n",
    "classe_1['clase'] = 0\n",
    "classe_1.columns=['feature_1', 'feature_2', 'classe']\n",
    "\n",
    "classe_2 = pd.DataFrame(np.random.normal(20, 2, size=(10, 2)))\n",
    "classe_2['clase'] = 1\n",
    "classe_2.columns=['feature_1', 'feature_2', 'classe']\n",
    "outlier = {'feature_1':11, 'feature_2':42, 'classe':1}\n",
    "classe_2 = classe_2.append(outlier, ignore_index=True)\n",
    "sample_3 = pd.concat([classe_1, classe_2])\n",
    "sample_3"
   ]
  },
  {
   "cell_type": "code",
   "execution_count": 19,
   "id": "09821396",
   "metadata": {
    "scrolled": false
   },
   "outputs": [
    {
     "data": {
      "image/png": "[encoded data removed]",
      "text/plain": [
       "<Figure size 504x252 with 2 Axes>"
      ]
     },
     "metadata": {
      "needs_background": "light"
     },
     "output_type": "display_data"
    }
   ],
   "source": [
    "fig, ax = plt.subplots()\n",
    "sample_3.plot(kind=\"scatter\", x=\"feature_1\", y=\"feature_2\", s=50, c=\"classe\", cmap=\"viridis\", ax=ax);"
   ]
  },
  {
   "cell_type": "code",
   "execution_count": 20,
   "id": "46bd2935",
   "metadata": {},
   "outputs": [],
   "source": [
    "X = sample_3[['feature_1', 'feature_2']]\n",
    "y = sample_3['classe']"
   ]
  },
  {
   "cell_type": "code",
   "execution_count": 21,
   "id": "bde46da6",
   "metadata": {},
   "outputs": [
    {
     "data": {
      "text/plain": [
       "KNeighborsClassifier(n_neighbors=1)"
      ]
     },
     "execution_count": 21,
     "metadata": {},
     "output_type": "execute_result"
    }
   ],
   "source": [
    "#instanciação e fit \n",
    "neigh = KNeighborsClassifier(n_neighbors= 1)\n",
    "neigh.fit(X, y)"
   ]
  },
  {
   "cell_type": "code",
   "execution_count": 22,
   "id": "ffe1d483",
   "metadata": {},
   "outputs": [
    {
     "name": "stdout",
     "output_type": "stream",
     "text": [
      "[1]\n"
     ]
    }
   ],
   "source": [
    "print(neigh.predict([[20.33, 22.58]]))"
   ]
  },
  {
   "cell_type": "code",
   "execution_count": 23,
   "id": "e746bf82",
   "metadata": {},
   "outputs": [
    {
     "name": "stdout",
     "output_type": "stream",
     "text": [
      "[0]\n"
     ]
    }
   ],
   "source": [
    "print(neigh.predict([[5.16, 3.9]]))"
   ]
  },
  {
   "cell_type": "code",
   "execution_count": 24,
   "id": "64316a03",
   "metadata": {},
   "outputs": [
    {
     "name": "stdout",
     "output_type": "stream",
     "text": [
      "[1]\n"
     ]
    }
   ],
   "source": [
    "print(neigh.predict([[15.16, 15.3]]))"
   ]
  },
  {
   "cell_type": "markdown",
   "id": "c9f321e0",
   "metadata": {},
   "source": [
    "## Teste 4 "
   ]
  },
  {
   "cell_type": "code",
   "execution_count": 25,
   "id": "4c288a36",
   "metadata": {
    "scrolled": true
   },
   "outputs": [
    {
     "data": {
      "text/html": [
       "<div>\n",
       "<style scoped>\n",
       "    .dataframe tbody tr th:only-of-type {\n",
       "        vertical-align: middle;\n",
       "    }\n",
       "\n",
       "    .dataframe tbody tr th {\n",
       "        vertical-align: top;\n",
       "    }\n",
       "\n",
       "    .dataframe thead th {\n",
       "        text-align: right;\n",
       "    }\n",
       "</style>\n",
       "<table border=\"1\" class=\"dataframe\">\n",
       "  <thead>\n",
       "    <tr style=\"text-align: right;\">\n",
       "      <th></th>\n",
       "      <th>feature_1</th>\n",
       "      <th>feature_2</th>\n",
       "      <th>classe</th>\n",
       "    </tr>\n",
       "  </thead>\n",
       "  <tbody>\n",
       "    <tr>\n",
       "      <th>0</th>\n",
       "      <td>3.153821</td>\n",
       "      <td>1003.855685</td>\n",
       "      <td>0</td>\n",
       "    </tr>\n",
       "    <tr>\n",
       "      <th>1</th>\n",
       "      <td>3.208886</td>\n",
       "      <td>1002.248246</td>\n",
       "      <td>0</td>\n",
       "    </tr>\n",
       "    <tr>\n",
       "      <th>2</th>\n",
       "      <td>0.578313</td>\n",
       "      <td>1000.933255</td>\n",
       "      <td>0</td>\n",
       "    </tr>\n",
       "    <tr>\n",
       "      <th>3</th>\n",
       "      <td>-0.299889</td>\n",
       "      <td>1005.513687</td>\n",
       "      <td>0</td>\n",
       "    </tr>\n",
       "    <tr>\n",
       "      <th>4</th>\n",
       "      <td>0.483491</td>\n",
       "      <td>1004.944196</td>\n",
       "      <td>0</td>\n",
       "    </tr>\n",
       "    <tr>\n",
       "      <th>5</th>\n",
       "      <td>0.241435</td>\n",
       "      <td>1003.191782</td>\n",
       "      <td>0</td>\n",
       "    </tr>\n",
       "    <tr>\n",
       "      <th>6</th>\n",
       "      <td>0.282466</td>\n",
       "      <td>1006.205314</td>\n",
       "      <td>0</td>\n",
       "    </tr>\n",
       "    <tr>\n",
       "      <th>7</th>\n",
       "      <td>5.376495</td>\n",
       "      <td>998.279993</td>\n",
       "      <td>0</td>\n",
       "    </tr>\n",
       "    <tr>\n",
       "      <th>8</th>\n",
       "      <td>2.997951</td>\n",
       "      <td>1003.249544</td>\n",
       "      <td>0</td>\n",
       "    </tr>\n",
       "    <tr>\n",
       "      <th>9</th>\n",
       "      <td>2.708852</td>\n",
       "      <td>1003.752478</td>\n",
       "      <td>0</td>\n",
       "    </tr>\n",
       "    <tr>\n",
       "      <th>0</th>\n",
       "      <td>17.613385</td>\n",
       "      <td>1020.760951</td>\n",
       "      <td>1</td>\n",
       "    </tr>\n",
       "    <tr>\n",
       "      <th>1</th>\n",
       "      <td>20.218504</td>\n",
       "      <td>1019.708774</td>\n",
       "      <td>1</td>\n",
       "    </tr>\n",
       "    <tr>\n",
       "      <th>2</th>\n",
       "      <td>21.864761</td>\n",
       "      <td>1019.896083</td>\n",
       "      <td>1</td>\n",
       "    </tr>\n",
       "    <tr>\n",
       "      <th>3</th>\n",
       "      <td>19.585054</td>\n",
       "      <td>1019.696397</td>\n",
       "      <td>1</td>\n",
       "    </tr>\n",
       "    <tr>\n",
       "      <th>4</th>\n",
       "      <td>21.840139</td>\n",
       "      <td>1022.704437</td>\n",
       "      <td>1</td>\n",
       "    </tr>\n",
       "    <tr>\n",
       "      <th>5</th>\n",
       "      <td>17.469832</td>\n",
       "      <td>1019.053407</td>\n",
       "      <td>1</td>\n",
       "    </tr>\n",
       "    <tr>\n",
       "      <th>6</th>\n",
       "      <td>20.537984</td>\n",
       "      <td>1019.751853</td>\n",
       "      <td>1</td>\n",
       "    </tr>\n",
       "    <tr>\n",
       "      <th>7</th>\n",
       "      <td>20.156553</td>\n",
       "      <td>1018.530781</td>\n",
       "      <td>1</td>\n",
       "    </tr>\n",
       "    <tr>\n",
       "      <th>8</th>\n",
       "      <td>17.597158</td>\n",
       "      <td>1021.907166</td>\n",
       "      <td>1</td>\n",
       "    </tr>\n",
       "    <tr>\n",
       "      <th>9</th>\n",
       "      <td>19.084808</td>\n",
       "      <td>1021.079385</td>\n",
       "      <td>1</td>\n",
       "    </tr>\n",
       "  </tbody>\n",
       "</table>\n",
       "</div>"
      ],
      "text/plain": [
       "   feature_1    feature_2  classe\n",
       "0   3.153821  1003.855685       0\n",
       "1   3.208886  1002.248246       0\n",
       "2   0.578313  1000.933255       0\n",
       "3  -0.299889  1005.513687       0\n",
       "4   0.483491  1004.944196       0\n",
       "5   0.241435  1003.191782       0\n",
       "6   0.282466  1006.205314       0\n",
       "7   5.376495   998.279993       0\n",
       "8   2.997951  1003.249544       0\n",
       "9   2.708852  1003.752478       0\n",
       "0  17.613385  1020.760951       1\n",
       "1  20.218504  1019.708774       1\n",
       "2  21.864761  1019.896083       1\n",
       "3  19.585054  1019.696397       1\n",
       "4  21.840139  1022.704437       1\n",
       "5  17.469832  1019.053407       1\n",
       "6  20.537984  1019.751853       1\n",
       "7  20.156553  1018.530781       1\n",
       "8  17.597158  1021.907166       1\n",
       "9  19.084808  1021.079385       1"
      ]
     },
     "execution_count": 25,
     "metadata": {},
     "output_type": "execute_result"
    }
   ],
   "source": [
    "#dataset 1 - balanceado; linearmente separavel, sem outliers; desnormalizado \n",
    "classe_1 = pd.DataFrame(np.random.normal(3, 2.5, size=(10, 2)))\n",
    "classe_1['clase'] = 0\n",
    "classe_1.columns=['feature_1', 'feature_2', 'classe']\n",
    "\n",
    "classe_2 = pd.DataFrame(np.random.normal(20, 2, size=(10, 2)))\n",
    "classe_2['clase'] = 1\n",
    "classe_2.columns=['feature_1', 'feature_2', 'classe']\n",
    "\n",
    "sample_4 = pd.concat([classe_1, classe_2])\n",
    "sample_4['feature_2'] = sample_4['feature_2'] + 1000 \n",
    "sample_4"
   ]
  },
  {
   "cell_type": "code",
   "execution_count": 26,
   "id": "1b884db7",
   "metadata": {
    "scrolled": true
   },
   "outputs": [
    {
     "data": {
      "image/png": "[encoded data removed]",
      "text/plain": [
       "<Figure size 504x252 with 2 Axes>"
      ]
     },
     "metadata": {
      "needs_background": "light"
     },
     "output_type": "display_data"
    }
   ],
   "source": [
    "fig, ax = plt.subplots()\n",
    "sample_4.plot(kind=\"scatter\", x=\"feature_1\", y=\"feature_2\", s=50, c=\"classe\", cmap=\"viridis\", ax=ax);"
   ]
  },
  {
   "cell_type": "code",
   "execution_count": 27,
   "id": "e0f6d8af",
   "metadata": {},
   "outputs": [],
   "source": [
    "X = sample_3[['feature_1', 'feature_2']]\n",
    "y = sample_3['classe']"
   ]
  },
  {
   "cell_type": "code",
   "execution_count": 28,
   "id": "2dda9777",
   "metadata": {},
   "outputs": [
    {
     "data": {
      "text/plain": [
       "KNeighborsClassifier(n_neighbors=1)"
      ]
     },
     "execution_count": 28,
     "metadata": {},
     "output_type": "execute_result"
    }
   ],
   "source": [
    "#instanciação e fit \n",
    "neigh = KNeighborsClassifier(n_neighbors= 1)\n",
    "neigh.fit(X, y)"
   ]
  },
  {
   "cell_type": "code",
   "execution_count": 29,
   "id": "3796e61c",
   "metadata": {},
   "outputs": [
    {
     "name": "stdout",
     "output_type": "stream",
     "text": [
      "[1]\n"
     ]
    }
   ],
   "source": [
    "print(neigh.predict([[20.33, 1022.58]]))"
   ]
  },
  {
   "cell_type": "code",
   "execution_count": 30,
   "id": "a84b3bdf",
   "metadata": {},
   "outputs": [
    {
     "name": "stdout",
     "output_type": "stream",
     "text": [
      "[1]\n"
     ]
    }
   ],
   "source": [
    "print(neigh.predict([[5.16, 1003.9]]))"
   ]
  },
  {
   "cell_type": "code",
   "execution_count": 31,
   "id": "f8939620",
   "metadata": {
    "scrolled": true
   },
   "outputs": [
    {
     "name": "stdout",
     "output_type": "stream",
     "text": [
      "[1]\n"
     ]
    }
   ],
   "source": [
    "print(neigh.predict([[1015.16, 1015.3]]))"
   ]
  },
  {
   "cell_type": "markdown",
   "id": "ffdd1e83",
   "metadata": {},
   "source": [
    "# Regressão Logistica "
   ]
  },
  {
   "cell_type": "markdown",
   "id": "d662e402",
   "metadata": {},
   "source": [
    "https://medium.com/@msremigio/regress%C3%A3o-log%C3%ADstica-logistic-regression-997c6259ff9a"
   ]
  },
  {
   "cell_type": "markdown",
   "id": "0f023679",
   "metadata": {},
   "source": [
    "<img src='https://miro.medium.com/max/629/1*QP7Mp-DkgdoNf0S6XYNtZQ.png'>"
   ]
  },
  {
   "cell_type": "markdown",
   "id": "20c8fbb0",
   "metadata": {},
   "source": [
    "## Teste 1"
   ]
  },
  {
   "cell_type": "code",
   "execution_count": 32,
   "id": "162f2d1e",
   "metadata": {},
   "outputs": [
    {
     "data": {
      "text/html": [
       "<div>\n",
       "<style scoped>\n",
       "    .dataframe tbody tr th:only-of-type {\n",
       "        vertical-align: middle;\n",
       "    }\n",
       "\n",
       "    .dataframe tbody tr th {\n",
       "        vertical-align: top;\n",
       "    }\n",
       "\n",
       "    .dataframe thead th {\n",
       "        text-align: right;\n",
       "    }\n",
       "</style>\n",
       "<table border=\"1\" class=\"dataframe\">\n",
       "  <thead>\n",
       "    <tr style=\"text-align: right;\">\n",
       "      <th></th>\n",
       "      <th>feature_1</th>\n",
       "      <th>feature_2</th>\n",
       "      <th>classe</th>\n",
       "    </tr>\n",
       "  </thead>\n",
       "  <tbody>\n",
       "    <tr>\n",
       "      <th>0</th>\n",
       "      <td>-0.454398</td>\n",
       "      <td>5.566193</td>\n",
       "      <td>0</td>\n",
       "    </tr>\n",
       "    <tr>\n",
       "      <th>1</th>\n",
       "      <td>2.496831</td>\n",
       "      <td>4.927231</td>\n",
       "      <td>0</td>\n",
       "    </tr>\n",
       "    <tr>\n",
       "      <th>2</th>\n",
       "      <td>3.636883</td>\n",
       "      <td>1.923593</td>\n",
       "      <td>0</td>\n",
       "    </tr>\n",
       "    <tr>\n",
       "      <th>3</th>\n",
       "      <td>4.488513</td>\n",
       "      <td>1.533803</td>\n",
       "      <td>0</td>\n",
       "    </tr>\n",
       "    <tr>\n",
       "      <th>4</th>\n",
       "      <td>0.325661</td>\n",
       "      <td>1.357372</td>\n",
       "      <td>0</td>\n",
       "    </tr>\n",
       "    <tr>\n",
       "      <th>5</th>\n",
       "      <td>0.148527</td>\n",
       "      <td>3.159484</td>\n",
       "      <td>0</td>\n",
       "    </tr>\n",
       "    <tr>\n",
       "      <th>6</th>\n",
       "      <td>4.879857</td>\n",
       "      <td>1.872282</td>\n",
       "      <td>0</td>\n",
       "    </tr>\n",
       "    <tr>\n",
       "      <th>7</th>\n",
       "      <td>6.392701</td>\n",
       "      <td>4.043993</td>\n",
       "      <td>0</td>\n",
       "    </tr>\n",
       "    <tr>\n",
       "      <th>8</th>\n",
       "      <td>7.154270</td>\n",
       "      <td>5.147340</td>\n",
       "      <td>0</td>\n",
       "    </tr>\n",
       "    <tr>\n",
       "      <th>9</th>\n",
       "      <td>4.198230</td>\n",
       "      <td>-1.071576</td>\n",
       "      <td>0</td>\n",
       "    </tr>\n",
       "    <tr>\n",
       "      <th>0</th>\n",
       "      <td>22.327367</td>\n",
       "      <td>26.798649</td>\n",
       "      <td>1</td>\n",
       "    </tr>\n",
       "    <tr>\n",
       "      <th>1</th>\n",
       "      <td>21.234136</td>\n",
       "      <td>19.815484</td>\n",
       "      <td>1</td>\n",
       "    </tr>\n",
       "    <tr>\n",
       "      <th>2</th>\n",
       "      <td>20.781228</td>\n",
       "      <td>19.854036</td>\n",
       "      <td>1</td>\n",
       "    </tr>\n",
       "    <tr>\n",
       "      <th>3</th>\n",
       "      <td>21.046236</td>\n",
       "      <td>17.083920</td>\n",
       "      <td>1</td>\n",
       "    </tr>\n",
       "    <tr>\n",
       "      <th>4</th>\n",
       "      <td>18.486331</td>\n",
       "      <td>16.053401</td>\n",
       "      <td>1</td>\n",
       "    </tr>\n",
       "    <tr>\n",
       "      <th>5</th>\n",
       "      <td>23.474634</td>\n",
       "      <td>19.817870</td>\n",
       "      <td>1</td>\n",
       "    </tr>\n",
       "    <tr>\n",
       "      <th>6</th>\n",
       "      <td>21.982560</td>\n",
       "      <td>20.399398</td>\n",
       "      <td>1</td>\n",
       "    </tr>\n",
       "    <tr>\n",
       "      <th>7</th>\n",
       "      <td>21.331907</td>\n",
       "      <td>19.235097</td>\n",
       "      <td>1</td>\n",
       "    </tr>\n",
       "    <tr>\n",
       "      <th>8</th>\n",
       "      <td>22.538442</td>\n",
       "      <td>17.388014</td>\n",
       "      <td>1</td>\n",
       "    </tr>\n",
       "    <tr>\n",
       "      <th>9</th>\n",
       "      <td>22.561534</td>\n",
       "      <td>19.784957</td>\n",
       "      <td>1</td>\n",
       "    </tr>\n",
       "  </tbody>\n",
       "</table>\n",
       "</div>"
      ],
      "text/plain": [
       "   feature_1  feature_2  classe\n",
       "0  -0.454398   5.566193       0\n",
       "1   2.496831   4.927231       0\n",
       "2   3.636883   1.923593       0\n",
       "3   4.488513   1.533803       0\n",
       "4   0.325661   1.357372       0\n",
       "5   0.148527   3.159484       0\n",
       "6   4.879857   1.872282       0\n",
       "7   6.392701   4.043993       0\n",
       "8   7.154270   5.147340       0\n",
       "9   4.198230  -1.071576       0\n",
       "0  22.327367  26.798649       1\n",
       "1  21.234136  19.815484       1\n",
       "2  20.781228  19.854036       1\n",
       "3  21.046236  17.083920       1\n",
       "4  18.486331  16.053401       1\n",
       "5  23.474634  19.817870       1\n",
       "6  21.982560  20.399398       1\n",
       "7  21.331907  19.235097       1\n",
       "8  22.538442  17.388014       1\n",
       "9  22.561534  19.784957       1"
      ]
     },
     "execution_count": 32,
     "metadata": {},
     "output_type": "execute_result"
    }
   ],
   "source": [
    "# dataset 1 - sem multicolinearidade \n",
    "\n",
    "classe_1 = pd.DataFrame(np.random.normal(3, 2.5, size=(10, 2)))\n",
    "classe_1['clase'] = 0\n",
    "classe_1.columns=['feature_1', 'feature_2', 'classe']\n",
    "classe_2 = pd.DataFrame(np.random.normal(20, 2, size=(10, 2)))\n",
    "classe_2['clase'] = 1\n",
    "classe_2.columns=['feature_1', 'feature_2', 'classe']\n",
    "sample = pd.concat([classe_1, classe_2])\n",
    "sample\n"
   ]
  },
  {
   "cell_type": "code",
   "execution_count": 33,
   "id": "166db7fd",
   "metadata": {
    "scrolled": true
   },
   "outputs": [
    {
     "data": {
      "image/png": "[encoded data removed]",
      "text/plain": [
       "<Figure size 504x252 with 2 Axes>"
      ]
     },
     "metadata": {
      "needs_background": "light"
     },
     "output_type": "display_data"
    }
   ],
   "source": [
    "fig, ax = plt.subplots()\n",
    "sample.plot(kind=\"scatter\", x=\"feature_1\", y=\"feature_2\", s=50, c=\"classe\", cmap=\"viridis\", ax=ax);"
   ]
  },
  {
   "cell_type": "code",
   "execution_count": 34,
   "id": "8af525a2",
   "metadata": {},
   "outputs": [],
   "source": [
    "X = sample[['feature_1', 'feature_2']]\n",
    "y = sample['classe']\n",
    "clf = LogisticRegression(random_state=0).fit(X, y)"
   ]
  },
  {
   "cell_type": "code",
   "execution_count": 35,
   "id": "d65e49ae",
   "metadata": {},
   "outputs": [
    {
     "data": {
      "text/html": [
       "<div>\n",
       "<style scoped>\n",
       "    .dataframe tbody tr th:only-of-type {\n",
       "        vertical-align: middle;\n",
       "    }\n",
       "\n",
       "    .dataframe tbody tr th {\n",
       "        vertical-align: top;\n",
       "    }\n",
       "\n",
       "    .dataframe thead th {\n",
       "        text-align: right;\n",
       "    }\n",
       "</style>\n",
       "<table border=\"1\" class=\"dataframe\">\n",
       "  <thead>\n",
       "    <tr style=\"text-align: right;\">\n",
       "      <th></th>\n",
       "      <th>feature_1</th>\n",
       "      <th>feature_2</th>\n",
       "    </tr>\n",
       "  </thead>\n",
       "  <tbody>\n",
       "    <tr>\n",
       "      <th>0</th>\n",
       "      <td>-0.454398</td>\n",
       "      <td>5.566193</td>\n",
       "    </tr>\n",
       "    <tr>\n",
       "      <th>1</th>\n",
       "      <td>2.496831</td>\n",
       "      <td>4.927231</td>\n",
       "    </tr>\n",
       "    <tr>\n",
       "      <th>2</th>\n",
       "      <td>3.636883</td>\n",
       "      <td>1.923593</td>\n",
       "    </tr>\n",
       "    <tr>\n",
       "      <th>3</th>\n",
       "      <td>4.488513</td>\n",
       "      <td>1.533803</td>\n",
       "    </tr>\n",
       "    <tr>\n",
       "      <th>4</th>\n",
       "      <td>0.325661</td>\n",
       "      <td>1.357372</td>\n",
       "    </tr>\n",
       "    <tr>\n",
       "      <th>5</th>\n",
       "      <td>0.148527</td>\n",
       "      <td>3.159484</td>\n",
       "    </tr>\n",
       "    <tr>\n",
       "      <th>6</th>\n",
       "      <td>4.879857</td>\n",
       "      <td>1.872282</td>\n",
       "    </tr>\n",
       "    <tr>\n",
       "      <th>7</th>\n",
       "      <td>6.392701</td>\n",
       "      <td>4.043993</td>\n",
       "    </tr>\n",
       "    <tr>\n",
       "      <th>8</th>\n",
       "      <td>7.154270</td>\n",
       "      <td>5.147340</td>\n",
       "    </tr>\n",
       "    <tr>\n",
       "      <th>9</th>\n",
       "      <td>4.198230</td>\n",
       "      <td>-1.071576</td>\n",
       "    </tr>\n",
       "    <tr>\n",
       "      <th>0</th>\n",
       "      <td>22.327367</td>\n",
       "      <td>26.798649</td>\n",
       "    </tr>\n",
       "    <tr>\n",
       "      <th>1</th>\n",
       "      <td>21.234136</td>\n",
       "      <td>19.815484</td>\n",
       "    </tr>\n",
       "    <tr>\n",
       "      <th>2</th>\n",
       "      <td>20.781228</td>\n",
       "      <td>19.854036</td>\n",
       "    </tr>\n",
       "    <tr>\n",
       "      <th>3</th>\n",
       "      <td>21.046236</td>\n",
       "      <td>17.083920</td>\n",
       "    </tr>\n",
       "    <tr>\n",
       "      <th>4</th>\n",
       "      <td>18.486331</td>\n",
       "      <td>16.053401</td>\n",
       "    </tr>\n",
       "    <tr>\n",
       "      <th>5</th>\n",
       "      <td>23.474634</td>\n",
       "      <td>19.817870</td>\n",
       "    </tr>\n",
       "    <tr>\n",
       "      <th>6</th>\n",
       "      <td>21.982560</td>\n",
       "      <td>20.399398</td>\n",
       "    </tr>\n",
       "    <tr>\n",
       "      <th>7</th>\n",
       "      <td>21.331907</td>\n",
       "      <td>19.235097</td>\n",
       "    </tr>\n",
       "    <tr>\n",
       "      <th>8</th>\n",
       "      <td>22.538442</td>\n",
       "      <td>17.388014</td>\n",
       "    </tr>\n",
       "    <tr>\n",
       "      <th>9</th>\n",
       "      <td>22.561534</td>\n",
       "      <td>19.784957</td>\n",
       "    </tr>\n",
       "  </tbody>\n",
       "</table>\n",
       "</div>"
      ],
      "text/plain": [
       "   feature_1  feature_2\n",
       "0  -0.454398   5.566193\n",
       "1   2.496831   4.927231\n",
       "2   3.636883   1.923593\n",
       "3   4.488513   1.533803\n",
       "4   0.325661   1.357372\n",
       "5   0.148527   3.159484\n",
       "6   4.879857   1.872282\n",
       "7   6.392701   4.043993\n",
       "8   7.154270   5.147340\n",
       "9   4.198230  -1.071576\n",
       "0  22.327367  26.798649\n",
       "1  21.234136  19.815484\n",
       "2  20.781228  19.854036\n",
       "3  21.046236  17.083920\n",
       "4  18.486331  16.053401\n",
       "5  23.474634  19.817870\n",
       "6  21.982560  20.399398\n",
       "7  21.331907  19.235097\n",
       "8  22.538442  17.388014\n",
       "9  22.561534  19.784957"
      ]
     },
     "execution_count": 35,
     "metadata": {},
     "output_type": "execute_result"
    }
   ],
   "source": [
    "X"
   ]
  },
  {
   "cell_type": "code",
   "execution_count": 36,
   "id": "d1c5e8ef",
   "metadata": {},
   "outputs": [
    {
     "name": "stdout",
     "output_type": "stream",
     "text": [
      "[1]\n",
      "[[0.0020063 0.9979937]]\n",
      "1.0\n"
     ]
    }
   ],
   "source": [
    "print(clf.predict([[20.33, 19.7]]))\n",
    "\n",
    "print(clf.predict_proba([[20.33, 19.7]]))\n",
    "\n",
    "print(clf.score(X, y))\n",
    "\n"
   ]
  },
  {
   "cell_type": "code",
   "execution_count": 37,
   "id": "af6d3364",
   "metadata": {},
   "outputs": [
    {
     "data": {
      "text/plain": [
       "array([[0.39464715, 0.36431994]])"
      ]
     },
     "execution_count": 37,
     "metadata": {},
     "output_type": "execute_result"
    }
   ],
   "source": [
    "clf.coef_"
   ]
  },
  {
   "cell_type": "code",
   "execution_count": null,
   "id": "88dc7122",
   "metadata": {},
   "outputs": [],
   "source": []
  },
  {
   "cell_type": "markdown",
   "id": "b2ae5371",
   "metadata": {},
   "source": [
    "## Teste 2"
   ]
  },
  {
   "cell_type": "code",
   "execution_count": 38,
   "id": "bfc3f297",
   "metadata": {},
   "outputs": [
    {
     "data": {
      "text/html": [
       "<div>\n",
       "<style scoped>\n",
       "    .dataframe tbody tr th:only-of-type {\n",
       "        vertical-align: middle;\n",
       "    }\n",
       "\n",
       "    .dataframe tbody tr th {\n",
       "        vertical-align: top;\n",
       "    }\n",
       "\n",
       "    .dataframe thead th {\n",
       "        text-align: right;\n",
       "    }\n",
       "</style>\n",
       "<table border=\"1\" class=\"dataframe\">\n",
       "  <thead>\n",
       "    <tr style=\"text-align: right;\">\n",
       "      <th></th>\n",
       "      <th>0</th>\n",
       "      <th>1</th>\n",
       "    </tr>\n",
       "  </thead>\n",
       "  <tbody>\n",
       "    <tr>\n",
       "      <th>0</th>\n",
       "      <td>1.837877</td>\n",
       "      <td>-2.606953</td>\n",
       "    </tr>\n",
       "    <tr>\n",
       "      <th>1</th>\n",
       "      <td>-1.565733</td>\n",
       "      <td>3.289942</td>\n",
       "    </tr>\n",
       "    <tr>\n",
       "      <th>2</th>\n",
       "      <td>0.351237</td>\n",
       "      <td>1.390928</td>\n",
       "    </tr>\n",
       "    <tr>\n",
       "      <th>3</th>\n",
       "      <td>3.212827</td>\n",
       "      <td>2.544058</td>\n",
       "    </tr>\n",
       "    <tr>\n",
       "      <th>4</th>\n",
       "      <td>3.476596</td>\n",
       "      <td>-1.845195</td>\n",
       "    </tr>\n",
       "    <tr>\n",
       "      <th>...</th>\n",
       "      <td>...</td>\n",
       "      <td>...</td>\n",
       "    </tr>\n",
       "    <tr>\n",
       "      <th>95</th>\n",
       "      <td>-2.034274</td>\n",
       "      <td>-0.178253</td>\n",
       "    </tr>\n",
       "    <tr>\n",
       "      <th>96</th>\n",
       "      <td>-2.484484</td>\n",
       "      <td>2.509738</td>\n",
       "    </tr>\n",
       "    <tr>\n",
       "      <th>97</th>\n",
       "      <td>-3.873536</td>\n",
       "      <td>1.665202</td>\n",
       "    </tr>\n",
       "    <tr>\n",
       "      <th>98</th>\n",
       "      <td>3.810552</td>\n",
       "      <td>0.184643</td>\n",
       "    </tr>\n",
       "    <tr>\n",
       "      <th>99</th>\n",
       "      <td>-1.334640</td>\n",
       "      <td>-1.948434</td>\n",
       "    </tr>\n",
       "  </tbody>\n",
       "</table>\n",
       "<p>100 rows × 2 columns</p>\n",
       "</div>"
      ],
      "text/plain": [
       "           0         1\n",
       "0   1.837877 -2.606953\n",
       "1  -1.565733  3.289942\n",
       "2   0.351237  1.390928\n",
       "3   3.212827  2.544058\n",
       "4   3.476596 -1.845195\n",
       "..       ...       ...\n",
       "95 -2.034274 -0.178253\n",
       "96 -2.484484  2.509738\n",
       "97 -3.873536  1.665202\n",
       "98  3.810552  0.184643\n",
       "99 -1.334640 -1.948434\n",
       "\n",
       "[100 rows x 2 columns]"
      ]
     },
     "execution_count": 38,
     "metadata": {},
     "output_type": "execute_result"
    }
   ],
   "source": [
    "cov = np.array([[6, -3], [-3, 3.5]])\n",
    "pts = pd.DataFrame(np.random.multivariate_normal([0, 0], cov, size=100))\n",
    "pts"
   ]
  },
  {
   "cell_type": "code",
   "execution_count": 39,
   "id": "82635995",
   "metadata": {},
   "outputs": [
    {
     "data": {
      "text/html": [
       "<div>\n",
       "<style scoped>\n",
       "    .dataframe tbody tr th:only-of-type {\n",
       "        vertical-align: middle;\n",
       "    }\n",
       "\n",
       "    .dataframe tbody tr th {\n",
       "        vertical-align: top;\n",
       "    }\n",
       "\n",
       "    .dataframe thead th {\n",
       "        text-align: right;\n",
       "    }\n",
       "</style>\n",
       "<table border=\"1\" class=\"dataframe\">\n",
       "  <thead>\n",
       "    <tr style=\"text-align: right;\">\n",
       "      <th></th>\n",
       "      <th>feature_1</th>\n",
       "      <th>feature_2</th>\n",
       "      <th>classe</th>\n",
       "    </tr>\n",
       "  </thead>\n",
       "  <tbody>\n",
       "    <tr>\n",
       "      <th>0</th>\n",
       "      <td>-2.557418</td>\n",
       "      <td>1.737762</td>\n",
       "      <td>0</td>\n",
       "    </tr>\n",
       "    <tr>\n",
       "      <th>1</th>\n",
       "      <td>-0.283484</td>\n",
       "      <td>-0.835154</td>\n",
       "      <td>0</td>\n",
       "    </tr>\n",
       "    <tr>\n",
       "      <th>2</th>\n",
       "      <td>0.389095</td>\n",
       "      <td>0.390764</td>\n",
       "      <td>0</td>\n",
       "    </tr>\n",
       "    <tr>\n",
       "      <th>3</th>\n",
       "      <td>0.265031</td>\n",
       "      <td>1.177685</td>\n",
       "      <td>0</td>\n",
       "    </tr>\n",
       "    <tr>\n",
       "      <th>4</th>\n",
       "      <td>2.947943</td>\n",
       "      <td>-2.383656</td>\n",
       "      <td>0</td>\n",
       "    </tr>\n",
       "    <tr>\n",
       "      <th>...</th>\n",
       "      <td>...</td>\n",
       "      <td>...</td>\n",
       "      <td>...</td>\n",
       "    </tr>\n",
       "    <tr>\n",
       "      <th>95</th>\n",
       "      <td>9.103026</td>\n",
       "      <td>20.629422</td>\n",
       "      <td>1</td>\n",
       "    </tr>\n",
       "    <tr>\n",
       "      <th>96</th>\n",
       "      <td>9.666527</td>\n",
       "      <td>19.528650</td>\n",
       "      <td>1</td>\n",
       "    </tr>\n",
       "    <tr>\n",
       "      <th>97</th>\n",
       "      <td>9.713591</td>\n",
       "      <td>19.548084</td>\n",
       "      <td>1</td>\n",
       "    </tr>\n",
       "    <tr>\n",
       "      <th>98</th>\n",
       "      <td>9.478560</td>\n",
       "      <td>20.008402</td>\n",
       "      <td>1</td>\n",
       "    </tr>\n",
       "    <tr>\n",
       "      <th>99</th>\n",
       "      <td>10.699393</td>\n",
       "      <td>19.492126</td>\n",
       "      <td>1</td>\n",
       "    </tr>\n",
       "  </tbody>\n",
       "</table>\n",
       "<p>200 rows × 3 columns</p>\n",
       "</div>"
      ],
      "text/plain": [
       "    feature_1  feature_2  classe\n",
       "0   -2.557418   1.737762       0\n",
       "1   -0.283484  -0.835154       0\n",
       "2    0.389095   0.390764       0\n",
       "3    0.265031   1.177685       0\n",
       "4    2.947943  -2.383656       0\n",
       "..        ...        ...     ...\n",
       "95   9.103026  20.629422       1\n",
       "96   9.666527  19.528650       1\n",
       "97   9.713591  19.548084       1\n",
       "98   9.478560  20.008402       1\n",
       "99  10.699393  19.492126       1\n",
       "\n",
       "[200 rows x 3 columns]"
      ]
     },
     "execution_count": 39,
     "metadata": {},
     "output_type": "execute_result"
    }
   ],
   "source": [
    "# dataset 1 - com multicolinearidade \n",
    "cov = np.array([[6, -3], [-3, 3.5]])\n",
    "cov2 = np.array([[1, 0], [0, 1]])\n",
    "\n",
    "classe_1 = pd.DataFrame(np.random.multivariate_normal([0, 0], cov, size=100))\n",
    "classe_1['clase'] = 0\n",
    "classe_1.columns=['feature_1', 'feature_2', 'classe']\n",
    "\n",
    "classe_2 = pd.DataFrame(np.random.multivariate_normal([10, 20], cov=cov2, size=100))\n",
    "classe_2['clase'] = 1\n",
    "classe_2.columns=['feature_1', 'feature_2', 'classe']\n",
    "sample_2 = pd.concat([classe_1, classe_2])\n",
    "sample_2"
   ]
  },
  {
   "cell_type": "code",
   "execution_count": 40,
   "id": "4d7fd247",
   "metadata": {},
   "outputs": [
    {
     "data": {
      "image/png": "[encoded data removed]",
      "text/plain": [
       "<Figure size 504x252 with 2 Axes>"
      ]
     },
     "metadata": {
      "needs_background": "light"
     },
     "output_type": "display_data"
    }
   ],
   "source": [
    "fig, ax = plt.subplots()\n",
    "sample_2.plot(kind=\"scatter\", x=\"feature_1\", y=\"feature_2\", s=50, c=\"classe\", cmap=\"viridis\", ax=ax);"
   ]
  },
  {
   "cell_type": "code",
   "execution_count": 41,
   "id": "5f0d6293",
   "metadata": {},
   "outputs": [],
   "source": [
    "X = sample_2[['feature_1', 'feature_2']]\n",
    "y = sample_2['classe']\n",
    "clf = LogisticRegression(random_state=0).fit(X, y)"
   ]
  },
  {
   "cell_type": "code",
   "execution_count": 42,
   "id": "d021d7e8",
   "metadata": {},
   "outputs": [
    {
     "name": "stdout",
     "output_type": "stream",
     "text": [
      "[0]\n",
      "[[0.86588363 0.13411637]]\n",
      "1.0\n"
     ]
    }
   ],
   "source": [
    "print(clf.predict([[0, 10]]))\n",
    "\n",
    "print(clf.predict_proba([[0, 10]]))\n",
    "\n",
    "print(clf.score(X, y))"
   ]
  },
  {
   "cell_type": "code",
   "execution_count": 43,
   "id": "7127a47c",
   "metadata": {},
   "outputs": [
    {
     "name": "stdout",
     "output_type": "stream",
     "text": [
      "[1]\n",
      "[[2.73307507e-04 9.99726692e-01]]\n",
      "1.0\n"
     ]
    }
   ],
   "source": [
    "print(clf.predict([[10, 20]]))\n",
    "\n",
    "print(clf.predict_proba([[10, 20]]))\n",
    "\n",
    "print(clf.score(X, y))"
   ]
  },
  {
   "cell_type": "code",
   "execution_count": 44,
   "id": "23c8ed92",
   "metadata": {},
   "outputs": [
    {
     "name": "stdout",
     "output_type": "stream",
     "text": [
      "[1]\n",
      "[[0.0092116 0.9907884]]\n",
      "1.0\n"
     ]
    }
   ],
   "source": [
    "print(clf.predict([[0, 20]]))\n",
    "\n",
    "print(clf.predict_proba([[0, 20]]))\n",
    "\n",
    "print(clf.score(X, y))"
   ]
  },
  {
   "cell_type": "code",
   "execution_count": 45,
   "id": "8fa38c9d",
   "metadata": {},
   "outputs": [
    {
     "data": {
      "text/plain": [
       "array([[0.3526602 , 0.65430803]])"
      ]
     },
     "execution_count": 45,
     "metadata": {},
     "output_type": "execute_result"
    }
   ],
   "source": [
    "clf.coef_"
   ]
  },
  {
   "cell_type": "markdown",
   "id": "bdff317d",
   "metadata": {},
   "source": [
    "https://blog.minitab.com/pt/basta-lidando-com-a-multicolinearidade-na-analise-de-regressao"
   ]
  },
  {
   "cell_type": "markdown",
   "id": "50b022c6",
   "metadata": {},
   "source": [
    "# SVM "
   ]
  },
  {
   "cell_type": "markdown",
   "id": "6bcaa0fa",
   "metadata": {},
   "source": [
    "<img src='https://jeremykun.com/wp-content/uploads/2017/06/svm_solve_by_hand-e1496076457793.gif?w=640'>"
   ]
  },
  {
   "cell_type": "code",
   "execution_count": 46,
   "id": "094589f3",
   "metadata": {},
   "outputs": [
    {
     "data": {
      "text/html": [
       "<div>\n",
       "<style scoped>\n",
       "    .dataframe tbody tr th:only-of-type {\n",
       "        vertical-align: middle;\n",
       "    }\n",
       "\n",
       "    .dataframe tbody tr th {\n",
       "        vertical-align: top;\n",
       "    }\n",
       "\n",
       "    .dataframe thead th {\n",
       "        text-align: right;\n",
       "    }\n",
       "</style>\n",
       "<table border=\"1\" class=\"dataframe\">\n",
       "  <thead>\n",
       "    <tr style=\"text-align: right;\">\n",
       "      <th></th>\n",
       "      <th>feature_1</th>\n",
       "      <th>feature_2</th>\n",
       "      <th>classe</th>\n",
       "    </tr>\n",
       "  </thead>\n",
       "  <tbody>\n",
       "    <tr>\n",
       "      <th>0</th>\n",
       "      <td>0.771625</td>\n",
       "      <td>1.671698</td>\n",
       "      <td>0</td>\n",
       "    </tr>\n",
       "    <tr>\n",
       "      <th>1</th>\n",
       "      <td>2.678427</td>\n",
       "      <td>10.561148</td>\n",
       "      <td>0</td>\n",
       "    </tr>\n",
       "    <tr>\n",
       "      <th>2</th>\n",
       "      <td>3.843639</td>\n",
       "      <td>-0.626518</td>\n",
       "      <td>0</td>\n",
       "    </tr>\n",
       "    <tr>\n",
       "      <th>3</th>\n",
       "      <td>2.582546</td>\n",
       "      <td>2.265947</td>\n",
       "      <td>0</td>\n",
       "    </tr>\n",
       "    <tr>\n",
       "      <th>4</th>\n",
       "      <td>1.306245</td>\n",
       "      <td>4.687469</td>\n",
       "      <td>0</td>\n",
       "    </tr>\n",
       "    <tr>\n",
       "      <th>5</th>\n",
       "      <td>1.230296</td>\n",
       "      <td>1.673381</td>\n",
       "      <td>0</td>\n",
       "    </tr>\n",
       "    <tr>\n",
       "      <th>6</th>\n",
       "      <td>2.314510</td>\n",
       "      <td>3.105928</td>\n",
       "      <td>0</td>\n",
       "    </tr>\n",
       "    <tr>\n",
       "      <th>7</th>\n",
       "      <td>0.128061</td>\n",
       "      <td>5.694670</td>\n",
       "      <td>0</td>\n",
       "    </tr>\n",
       "    <tr>\n",
       "      <th>8</th>\n",
       "      <td>2.883261</td>\n",
       "      <td>1.786190</td>\n",
       "      <td>0</td>\n",
       "    </tr>\n",
       "    <tr>\n",
       "      <th>9</th>\n",
       "      <td>2.303890</td>\n",
       "      <td>5.338210</td>\n",
       "      <td>0</td>\n",
       "    </tr>\n",
       "    <tr>\n",
       "      <th>0</th>\n",
       "      <td>21.987481</td>\n",
       "      <td>18.737809</td>\n",
       "      <td>1</td>\n",
       "    </tr>\n",
       "    <tr>\n",
       "      <th>1</th>\n",
       "      <td>20.893800</td>\n",
       "      <td>23.388122</td>\n",
       "      <td>1</td>\n",
       "    </tr>\n",
       "    <tr>\n",
       "      <th>2</th>\n",
       "      <td>23.293861</td>\n",
       "      <td>17.685151</td>\n",
       "      <td>1</td>\n",
       "    </tr>\n",
       "    <tr>\n",
       "      <th>3</th>\n",
       "      <td>18.086432</td>\n",
       "      <td>22.022301</td>\n",
       "      <td>1</td>\n",
       "    </tr>\n",
       "    <tr>\n",
       "      <th>4</th>\n",
       "      <td>15.425693</td>\n",
       "      <td>18.101383</td>\n",
       "      <td>1</td>\n",
       "    </tr>\n",
       "    <tr>\n",
       "      <th>5</th>\n",
       "      <td>20.939273</td>\n",
       "      <td>18.273318</td>\n",
       "      <td>1</td>\n",
       "    </tr>\n",
       "    <tr>\n",
       "      <th>6</th>\n",
       "      <td>17.189788</td>\n",
       "      <td>20.176121</td>\n",
       "      <td>1</td>\n",
       "    </tr>\n",
       "    <tr>\n",
       "      <th>7</th>\n",
       "      <td>22.010874</td>\n",
       "      <td>20.435853</td>\n",
       "      <td>1</td>\n",
       "    </tr>\n",
       "    <tr>\n",
       "      <th>8</th>\n",
       "      <td>18.143718</td>\n",
       "      <td>20.439536</td>\n",
       "      <td>1</td>\n",
       "    </tr>\n",
       "    <tr>\n",
       "      <th>9</th>\n",
       "      <td>20.678825</td>\n",
       "      <td>20.256284</td>\n",
       "      <td>1</td>\n",
       "    </tr>\n",
       "  </tbody>\n",
       "</table>\n",
       "</div>"
      ],
      "text/plain": [
       "   feature_1  feature_2  classe\n",
       "0   0.771625   1.671698       0\n",
       "1   2.678427  10.561148       0\n",
       "2   3.843639  -0.626518       0\n",
       "3   2.582546   2.265947       0\n",
       "4   1.306245   4.687469       0\n",
       "5   1.230296   1.673381       0\n",
       "6   2.314510   3.105928       0\n",
       "7   0.128061   5.694670       0\n",
       "8   2.883261   1.786190       0\n",
       "9   2.303890   5.338210       0\n",
       "0  21.987481  18.737809       1\n",
       "1  20.893800  23.388122       1\n",
       "2  23.293861  17.685151       1\n",
       "3  18.086432  22.022301       1\n",
       "4  15.425693  18.101383       1\n",
       "5  20.939273  18.273318       1\n",
       "6  17.189788  20.176121       1\n",
       "7  22.010874  20.435853       1\n",
       "8  18.143718  20.439536       1\n",
       "9  20.678825  20.256284       1"
      ]
     },
     "execution_count": 46,
     "metadata": {},
     "output_type": "execute_result"
    }
   ],
   "source": [
    "#dataset 1 - balanceado; linearmente separavel, sem outliers; normalizado \n",
    "classe_1 = pd.DataFrame(np.random.normal(3, 2.5, size=(10, 2)))\n",
    "classe_1['clase'] = 0\n",
    "classe_1.columns=['feature_1', 'feature_2', 'classe']\n",
    "classe_2 = pd.DataFrame(np.random.normal(20, 2, size=(10, 2)))\n",
    "classe_2['clase'] = 1\n",
    "classe_2.columns=['feature_1', 'feature_2', 'classe']\n",
    "sample = pd.concat([classe_1, classe_2])\n",
    "sample"
   ]
  },
  {
   "cell_type": "code",
   "execution_count": 47,
   "id": "6d536e2c",
   "metadata": {},
   "outputs": [
    {
     "data": {
      "image/png": "[encoded data removed]",
      "text/plain": [
       "<Figure size 504x252 with 2 Axes>"
      ]
     },
     "metadata": {
      "needs_background": "light"
     },
     "output_type": "display_data"
    }
   ],
   "source": [
    "fig, ax = plt.subplots()\n",
    "sample.plot(kind=\"scatter\", x=\"feature_1\", y=\"feature_2\", s=50, c=\"classe\", cmap=\"viridis\", ax=ax);"
   ]
  },
  {
   "cell_type": "code",
   "execution_count": 48,
   "id": "0b954459",
   "metadata": {},
   "outputs": [],
   "source": [
    "X = sample[['feature_1', 'feature_2']]\n",
    "y = sample['classe']"
   ]
  },
  {
   "cell_type": "code",
   "execution_count": 49,
   "id": "ee46c59b",
   "metadata": {},
   "outputs": [
    {
     "data": {
      "text/plain": [
       "SVC(kernel='linear')"
      ]
     },
     "execution_count": 49,
     "metadata": {},
     "output_type": "execute_result"
    }
   ],
   "source": [
    "clf = SVC(kernel='linear')\n",
    "clf.fit(X, y)"
   ]
  },
  {
   "cell_type": "code",
   "execution_count": 50,
   "id": "5178dd5e",
   "metadata": {},
   "outputs": [
    {
     "name": "stdout",
     "output_type": "stream",
     "text": [
      "[1]\n",
      "1.0\n"
     ]
    }
   ],
   "source": [
    "print(clf.predict([[20, 20]]))\n",
    "\n",
    "print(clf.score(X, y))"
   ]
  },
  {
   "cell_type": "markdown",
   "id": "8c7a25f4",
   "metadata": {},
   "source": [
    "## Teste 2"
   ]
  },
  {
   "cell_type": "code",
   "execution_count": 51,
   "id": "dcb8733b",
   "metadata": {
    "scrolled": true
   },
   "outputs": [
    {
     "data": {
      "text/html": [
       "<div>\n",
       "<style scoped>\n",
       "    .dataframe tbody tr th:only-of-type {\n",
       "        vertical-align: middle;\n",
       "    }\n",
       "\n",
       "    .dataframe tbody tr th {\n",
       "        vertical-align: top;\n",
       "    }\n",
       "\n",
       "    .dataframe thead th {\n",
       "        text-align: right;\n",
       "    }\n",
       "</style>\n",
       "<table border=\"1\" class=\"dataframe\">\n",
       "  <thead>\n",
       "    <tr style=\"text-align: right;\">\n",
       "      <th></th>\n",
       "      <th>feature_1</th>\n",
       "      <th>feature_2</th>\n",
       "      <th>classe</th>\n",
       "    </tr>\n",
       "  </thead>\n",
       "  <tbody>\n",
       "    <tr>\n",
       "      <th>0</th>\n",
       "      <td>2.151147</td>\n",
       "      <td>6.220850</td>\n",
       "      <td>0</td>\n",
       "    </tr>\n",
       "    <tr>\n",
       "      <th>1</th>\n",
       "      <td>-1.289349</td>\n",
       "      <td>6.698268</td>\n",
       "      <td>0</td>\n",
       "    </tr>\n",
       "    <tr>\n",
       "      <th>2</th>\n",
       "      <td>3.470918</td>\n",
       "      <td>3.871096</td>\n",
       "      <td>0</td>\n",
       "    </tr>\n",
       "    <tr>\n",
       "      <th>3</th>\n",
       "      <td>3.190876</td>\n",
       "      <td>1.292388</td>\n",
       "      <td>0</td>\n",
       "    </tr>\n",
       "    <tr>\n",
       "      <th>4</th>\n",
       "      <td>0.211045</td>\n",
       "      <td>1.244881</td>\n",
       "      <td>0</td>\n",
       "    </tr>\n",
       "    <tr>\n",
       "      <th>5</th>\n",
       "      <td>3.907782</td>\n",
       "      <td>5.188320</td>\n",
       "      <td>0</td>\n",
       "    </tr>\n",
       "    <tr>\n",
       "      <th>6</th>\n",
       "      <td>1.649857</td>\n",
       "      <td>0.607420</td>\n",
       "      <td>0</td>\n",
       "    </tr>\n",
       "    <tr>\n",
       "      <th>7</th>\n",
       "      <td>0.112025</td>\n",
       "      <td>2.414939</td>\n",
       "      <td>0</td>\n",
       "    </tr>\n",
       "    <tr>\n",
       "      <th>8</th>\n",
       "      <td>5.565401</td>\n",
       "      <td>5.024268</td>\n",
       "      <td>0</td>\n",
       "    </tr>\n",
       "    <tr>\n",
       "      <th>9</th>\n",
       "      <td>3.304095</td>\n",
       "      <td>5.589590</td>\n",
       "      <td>0</td>\n",
       "    </tr>\n",
       "    <tr>\n",
       "      <th>0</th>\n",
       "      <td>5.282483</td>\n",
       "      <td>4.246894</td>\n",
       "      <td>1</td>\n",
       "    </tr>\n",
       "    <tr>\n",
       "      <th>1</th>\n",
       "      <td>2.795517</td>\n",
       "      <td>4.983648</td>\n",
       "      <td>1</td>\n",
       "    </tr>\n",
       "    <tr>\n",
       "      <th>2</th>\n",
       "      <td>3.318642</td>\n",
       "      <td>1.912122</td>\n",
       "      <td>1</td>\n",
       "    </tr>\n",
       "    <tr>\n",
       "      <th>3</th>\n",
       "      <td>5.579255</td>\n",
       "      <td>4.222416</td>\n",
       "      <td>1</td>\n",
       "    </tr>\n",
       "    <tr>\n",
       "      <th>4</th>\n",
       "      <td>5.006114</td>\n",
       "      <td>4.707045</td>\n",
       "      <td>1</td>\n",
       "    </tr>\n",
       "    <tr>\n",
       "      <th>5</th>\n",
       "      <td>6.267310</td>\n",
       "      <td>6.911200</td>\n",
       "      <td>1</td>\n",
       "    </tr>\n",
       "    <tr>\n",
       "      <th>6</th>\n",
       "      <td>7.055086</td>\n",
       "      <td>5.661467</td>\n",
       "      <td>1</td>\n",
       "    </tr>\n",
       "    <tr>\n",
       "      <th>7</th>\n",
       "      <td>4.512416</td>\n",
       "      <td>1.874174</td>\n",
       "      <td>1</td>\n",
       "    </tr>\n",
       "    <tr>\n",
       "      <th>8</th>\n",
       "      <td>5.585578</td>\n",
       "      <td>4.688010</td>\n",
       "      <td>1</td>\n",
       "    </tr>\n",
       "    <tr>\n",
       "      <th>9</th>\n",
       "      <td>4.645462</td>\n",
       "      <td>8.008625</td>\n",
       "      <td>1</td>\n",
       "    </tr>\n",
       "  </tbody>\n",
       "</table>\n",
       "</div>"
      ],
      "text/plain": [
       "   feature_1  feature_2  classe\n",
       "0   2.151147   6.220850       0\n",
       "1  -1.289349   6.698268       0\n",
       "2   3.470918   3.871096       0\n",
       "3   3.190876   1.292388       0\n",
       "4   0.211045   1.244881       0\n",
       "5   3.907782   5.188320       0\n",
       "6   1.649857   0.607420       0\n",
       "7   0.112025   2.414939       0\n",
       "8   5.565401   5.024268       0\n",
       "9   3.304095   5.589590       0\n",
       "0   5.282483   4.246894       1\n",
       "1   2.795517   4.983648       1\n",
       "2   3.318642   1.912122       1\n",
       "3   5.579255   4.222416       1\n",
       "4   5.006114   4.707045       1\n",
       "5   6.267310   6.911200       1\n",
       "6   7.055086   5.661467       1\n",
       "7   4.512416   1.874174       1\n",
       "8   5.585578   4.688010       1\n",
       "9   4.645462   8.008625       1"
      ]
     },
     "execution_count": 51,
     "metadata": {},
     "output_type": "execute_result"
    }
   ],
   "source": [
    "#dataset 2 - balanceado; não linearmente separavel, sem outliers; normalizado \n",
    "classe_1 = pd.DataFrame(np.random.normal(3, 2.5, size=(10, 2)))\n",
    "classe_1['clase'] = 0\n",
    "classe_1.columns=['feature_1', 'feature_2', 'classe']\n",
    "classe_2 = pd.DataFrame(np.random.normal(5, 2, size=(10, 2)))\n",
    "classe_2['clase'] = 1\n",
    "classe_2.columns=['feature_1', 'feature_2', 'classe']\n",
    "sample_2 = pd.concat([classe_1, classe_2])\n",
    "sample_2"
   ]
  },
  {
   "cell_type": "code",
   "execution_count": 52,
   "id": "f8c07bc1",
   "metadata": {
    "scrolled": true
   },
   "outputs": [
    {
     "data": {
      "image/png": "[encoded data removed]",
      "text/plain": [
       "<Figure size 504x252 with 2 Axes>"
      ]
     },
     "metadata": {
      "needs_background": "light"
     },
     "output_type": "display_data"
    }
   ],
   "source": [
    "fig, ax = plt.subplots()\n",
    "sample_2.plot(kind=\"scatter\", x=\"feature_1\", y=\"feature_2\", s=50, c=\"classe\", cmap=\"viridis\", ax=ax);"
   ]
  },
  {
   "cell_type": "code",
   "execution_count": 53,
   "id": "dac6e935",
   "metadata": {},
   "outputs": [],
   "source": [
    "X = sample_2[['feature_1', 'feature_2']]\n",
    "y = sample_2['classe']"
   ]
  },
  {
   "cell_type": "code",
   "execution_count": 54,
   "id": "77314204",
   "metadata": {},
   "outputs": [
    {
     "data": {
      "text/plain": [
       "SVC(kernel='linear')"
      ]
     },
     "execution_count": 54,
     "metadata": {},
     "output_type": "execute_result"
    }
   ],
   "source": [
    "clf = SVC(kernel='linear')\n",
    "clf.fit(X, y)"
   ]
  },
  {
   "cell_type": "code",
   "execution_count": 55,
   "id": "cf35934d",
   "metadata": {},
   "outputs": [
    {
     "data": {
      "text/html": [
       "<div>\n",
       "<style scoped>\n",
       "    .dataframe tbody tr th:only-of-type {\n",
       "        vertical-align: middle;\n",
       "    }\n",
       "\n",
       "    .dataframe tbody tr th {\n",
       "        vertical-align: top;\n",
       "    }\n",
       "\n",
       "    .dataframe thead th {\n",
       "        text-align: right;\n",
       "    }\n",
       "</style>\n",
       "<table border=\"1\" class=\"dataframe\">\n",
       "  <thead>\n",
       "    <tr style=\"text-align: right;\">\n",
       "      <th></th>\n",
       "      <th>feature_1</th>\n",
       "      <th>feature_2</th>\n",
       "      <th>classe</th>\n",
       "    </tr>\n",
       "  </thead>\n",
       "  <tbody>\n",
       "    <tr>\n",
       "      <th>0</th>\n",
       "      <td>2.151147</td>\n",
       "      <td>6.220850</td>\n",
       "      <td>0</td>\n",
       "    </tr>\n",
       "    <tr>\n",
       "      <th>1</th>\n",
       "      <td>-1.289349</td>\n",
       "      <td>6.698268</td>\n",
       "      <td>0</td>\n",
       "    </tr>\n",
       "    <tr>\n",
       "      <th>2</th>\n",
       "      <td>3.470918</td>\n",
       "      <td>3.871096</td>\n",
       "      <td>0</td>\n",
       "    </tr>\n",
       "    <tr>\n",
       "      <th>3</th>\n",
       "      <td>3.190876</td>\n",
       "      <td>1.292388</td>\n",
       "      <td>0</td>\n",
       "    </tr>\n",
       "    <tr>\n",
       "      <th>4</th>\n",
       "      <td>0.211045</td>\n",
       "      <td>1.244881</td>\n",
       "      <td>0</td>\n",
       "    </tr>\n",
       "    <tr>\n",
       "      <th>5</th>\n",
       "      <td>3.907782</td>\n",
       "      <td>5.188320</td>\n",
       "      <td>0</td>\n",
       "    </tr>\n",
       "    <tr>\n",
       "      <th>6</th>\n",
       "      <td>1.649857</td>\n",
       "      <td>0.607420</td>\n",
       "      <td>0</td>\n",
       "    </tr>\n",
       "    <tr>\n",
       "      <th>7</th>\n",
       "      <td>0.112025</td>\n",
       "      <td>2.414939</td>\n",
       "      <td>0</td>\n",
       "    </tr>\n",
       "    <tr>\n",
       "      <th>8</th>\n",
       "      <td>5.565401</td>\n",
       "      <td>5.024268</td>\n",
       "      <td>0</td>\n",
       "    </tr>\n",
       "    <tr>\n",
       "      <th>9</th>\n",
       "      <td>3.304095</td>\n",
       "      <td>5.589590</td>\n",
       "      <td>0</td>\n",
       "    </tr>\n",
       "    <tr>\n",
       "      <th>0</th>\n",
       "      <td>5.282483</td>\n",
       "      <td>4.246894</td>\n",
       "      <td>1</td>\n",
       "    </tr>\n",
       "    <tr>\n",
       "      <th>1</th>\n",
       "      <td>2.795517</td>\n",
       "      <td>4.983648</td>\n",
       "      <td>1</td>\n",
       "    </tr>\n",
       "    <tr>\n",
       "      <th>2</th>\n",
       "      <td>3.318642</td>\n",
       "      <td>1.912122</td>\n",
       "      <td>1</td>\n",
       "    </tr>\n",
       "    <tr>\n",
       "      <th>3</th>\n",
       "      <td>5.579255</td>\n",
       "      <td>4.222416</td>\n",
       "      <td>1</td>\n",
       "    </tr>\n",
       "    <tr>\n",
       "      <th>4</th>\n",
       "      <td>5.006114</td>\n",
       "      <td>4.707045</td>\n",
       "      <td>1</td>\n",
       "    </tr>\n",
       "    <tr>\n",
       "      <th>5</th>\n",
       "      <td>6.267310</td>\n",
       "      <td>6.911200</td>\n",
       "      <td>1</td>\n",
       "    </tr>\n",
       "    <tr>\n",
       "      <th>6</th>\n",
       "      <td>7.055086</td>\n",
       "      <td>5.661467</td>\n",
       "      <td>1</td>\n",
       "    </tr>\n",
       "    <tr>\n",
       "      <th>7</th>\n",
       "      <td>4.512416</td>\n",
       "      <td>1.874174</td>\n",
       "      <td>1</td>\n",
       "    </tr>\n",
       "    <tr>\n",
       "      <th>8</th>\n",
       "      <td>5.585578</td>\n",
       "      <td>4.688010</td>\n",
       "      <td>1</td>\n",
       "    </tr>\n",
       "    <tr>\n",
       "      <th>9</th>\n",
       "      <td>4.645462</td>\n",
       "      <td>8.008625</td>\n",
       "      <td>1</td>\n",
       "    </tr>\n",
       "  </tbody>\n",
       "</table>\n",
       "</div>"
      ],
      "text/plain": [
       "   feature_1  feature_2  classe\n",
       "0   2.151147   6.220850       0\n",
       "1  -1.289349   6.698268       0\n",
       "2   3.470918   3.871096       0\n",
       "3   3.190876   1.292388       0\n",
       "4   0.211045   1.244881       0\n",
       "5   3.907782   5.188320       0\n",
       "6   1.649857   0.607420       0\n",
       "7   0.112025   2.414939       0\n",
       "8   5.565401   5.024268       0\n",
       "9   3.304095   5.589590       0\n",
       "0   5.282483   4.246894       1\n",
       "1   2.795517   4.983648       1\n",
       "2   3.318642   1.912122       1\n",
       "3   5.579255   4.222416       1\n",
       "4   5.006114   4.707045       1\n",
       "5   6.267310   6.911200       1\n",
       "6   7.055086   5.661467       1\n",
       "7   4.512416   1.874174       1\n",
       "8   5.585578   4.688010       1\n",
       "9   4.645462   8.008625       1"
      ]
     },
     "execution_count": 55,
     "metadata": {},
     "output_type": "execute_result"
    }
   ],
   "source": [
    "sample_2"
   ]
  },
  {
   "cell_type": "code",
   "execution_count": 56,
   "id": "3728a48f",
   "metadata": {},
   "outputs": [
    {
     "name": "stdout",
     "output_type": "stream",
     "text": [
      "[1]\n",
      "0.8\n"
     ]
    }
   ],
   "source": [
    "print(clf.predict([[7, 4.29]]))\n",
    "\n",
    "print(clf.score(X, y))"
   ]
  },
  {
   "cell_type": "code",
   "execution_count": 57,
   "id": "4db728d7",
   "metadata": {
    "scrolled": true
   },
   "outputs": [
    {
     "data": {
      "text/plain": [
       "SVC(gamma='auto')"
      ]
     },
     "execution_count": 57,
     "metadata": {},
     "output_type": "execute_result"
    }
   ],
   "source": [
    "clf = SVC(kernel='rbf', gamma='auto')\n",
    "clf.fit(X, y)"
   ]
  },
  {
   "cell_type": "code",
   "execution_count": 58,
   "id": "b5c0263d",
   "metadata": {},
   "outputs": [
    {
     "name": "stdout",
     "output_type": "stream",
     "text": [
      "[1]\n",
      "0.9\n"
     ]
    }
   ],
   "source": [
    "print(clf.predict([[7, 4.29]]))\n",
    "\n",
    "print(clf.score(X, y))"
   ]
  },
  {
   "cell_type": "markdown",
   "id": "25e94073",
   "metadata": {},
   "source": [
    "# Decision Tree "
   ]
  },
  {
   "cell_type": "markdown",
   "id": "23f2d194",
   "metadata": {},
   "source": [
    "<img src='https://miro.medium.com/max/1218/1*_DXeoBPTDu6fP_EMzTbnnA.png'>"
   ]
  },
  {
   "cell_type": "code",
   "execution_count": 59,
   "id": "1139618b",
   "metadata": {},
   "outputs": [
    {
     "data": {
      "text/html": [
       "<div>\n",
       "<style scoped>\n",
       "    .dataframe tbody tr th:only-of-type {\n",
       "        vertical-align: middle;\n",
       "    }\n",
       "\n",
       "    .dataframe tbody tr th {\n",
       "        vertical-align: top;\n",
       "    }\n",
       "\n",
       "    .dataframe thead th {\n",
       "        text-align: right;\n",
       "    }\n",
       "</style>\n",
       "<table border=\"1\" class=\"dataframe\">\n",
       "  <thead>\n",
       "    <tr style=\"text-align: right;\">\n",
       "      <th></th>\n",
       "      <th>feature_1</th>\n",
       "      <th>feature_2</th>\n",
       "      <th>classe</th>\n",
       "    </tr>\n",
       "  </thead>\n",
       "  <tbody>\n",
       "    <tr>\n",
       "      <th>0</th>\n",
       "      <td>3.857495</td>\n",
       "      <td>3.217324</td>\n",
       "      <td>0</td>\n",
       "    </tr>\n",
       "    <tr>\n",
       "      <th>1</th>\n",
       "      <td>2.634518</td>\n",
       "      <td>6.042329</td>\n",
       "      <td>0</td>\n",
       "    </tr>\n",
       "    <tr>\n",
       "      <th>2</th>\n",
       "      <td>0.820729</td>\n",
       "      <td>3.726966</td>\n",
       "      <td>0</td>\n",
       "    </tr>\n",
       "    <tr>\n",
       "      <th>3</th>\n",
       "      <td>2.839257</td>\n",
       "      <td>0.869422</td>\n",
       "      <td>0</td>\n",
       "    </tr>\n",
       "    <tr>\n",
       "      <th>4</th>\n",
       "      <td>1.282648</td>\n",
       "      <td>1.792372</td>\n",
       "      <td>0</td>\n",
       "    </tr>\n",
       "    <tr>\n",
       "      <th>5</th>\n",
       "      <td>-0.481604</td>\n",
       "      <td>-0.638502</td>\n",
       "      <td>0</td>\n",
       "    </tr>\n",
       "    <tr>\n",
       "      <th>6</th>\n",
       "      <td>2.539198</td>\n",
       "      <td>-1.472042</td>\n",
       "      <td>0</td>\n",
       "    </tr>\n",
       "    <tr>\n",
       "      <th>7</th>\n",
       "      <td>7.647689</td>\n",
       "      <td>2.887642</td>\n",
       "      <td>0</td>\n",
       "    </tr>\n",
       "    <tr>\n",
       "      <th>8</th>\n",
       "      <td>1.614328</td>\n",
       "      <td>1.186725</td>\n",
       "      <td>0</td>\n",
       "    </tr>\n",
       "    <tr>\n",
       "      <th>9</th>\n",
       "      <td>-0.052782</td>\n",
       "      <td>1.247450</td>\n",
       "      <td>0</td>\n",
       "    </tr>\n",
       "    <tr>\n",
       "      <th>0</th>\n",
       "      <td>20.161901</td>\n",
       "      <td>20.462241</td>\n",
       "      <td>1</td>\n",
       "    </tr>\n",
       "    <tr>\n",
       "      <th>1</th>\n",
       "      <td>22.039095</td>\n",
       "      <td>18.158221</td>\n",
       "      <td>1</td>\n",
       "    </tr>\n",
       "    <tr>\n",
       "      <th>2</th>\n",
       "      <td>19.178694</td>\n",
       "      <td>22.297988</td>\n",
       "      <td>1</td>\n",
       "    </tr>\n",
       "    <tr>\n",
       "      <th>3</th>\n",
       "      <td>19.184511</td>\n",
       "      <td>21.364027</td>\n",
       "      <td>1</td>\n",
       "    </tr>\n",
       "    <tr>\n",
       "      <th>4</th>\n",
       "      <td>20.866970</td>\n",
       "      <td>20.420550</td>\n",
       "      <td>1</td>\n",
       "    </tr>\n",
       "    <tr>\n",
       "      <th>5</th>\n",
       "      <td>21.576845</td>\n",
       "      <td>18.501184</td>\n",
       "      <td>1</td>\n",
       "    </tr>\n",
       "    <tr>\n",
       "      <th>6</th>\n",
       "      <td>17.578672</td>\n",
       "      <td>23.890389</td>\n",
       "      <td>1</td>\n",
       "    </tr>\n",
       "    <tr>\n",
       "      <th>7</th>\n",
       "      <td>22.159919</td>\n",
       "      <td>19.259302</td>\n",
       "      <td>1</td>\n",
       "    </tr>\n",
       "    <tr>\n",
       "      <th>8</th>\n",
       "      <td>19.239835</td>\n",
       "      <td>19.694635</td>\n",
       "      <td>1</td>\n",
       "    </tr>\n",
       "    <tr>\n",
       "      <th>9</th>\n",
       "      <td>16.878122</td>\n",
       "      <td>16.015063</td>\n",
       "      <td>1</td>\n",
       "    </tr>\n",
       "  </tbody>\n",
       "</table>\n",
       "</div>"
      ],
      "text/plain": [
       "   feature_1  feature_2  classe\n",
       "0   3.857495   3.217324       0\n",
       "1   2.634518   6.042329       0\n",
       "2   0.820729   3.726966       0\n",
       "3   2.839257   0.869422       0\n",
       "4   1.282648   1.792372       0\n",
       "5  -0.481604  -0.638502       0\n",
       "6   2.539198  -1.472042       0\n",
       "7   7.647689   2.887642       0\n",
       "8   1.614328   1.186725       0\n",
       "9  -0.052782   1.247450       0\n",
       "0  20.161901  20.462241       1\n",
       "1  22.039095  18.158221       1\n",
       "2  19.178694  22.297988       1\n",
       "3  19.184511  21.364027       1\n",
       "4  20.866970  20.420550       1\n",
       "5  21.576845  18.501184       1\n",
       "6  17.578672  23.890389       1\n",
       "7  22.159919  19.259302       1\n",
       "8  19.239835  19.694635       1\n",
       "9  16.878122  16.015063       1"
      ]
     },
     "execution_count": 59,
     "metadata": {},
     "output_type": "execute_result"
    }
   ],
   "source": [
    "#dataset 2 - balanceado;  linearmente separavel, sem outliers; normalizado \n",
    "classe_1 = pd.DataFrame(np.random.normal(3, 2.5, size=(10, 2)))\n",
    "classe_1['clase'] = 0\n",
    "classe_1.columns=['feature_1', 'feature_2', 'classe']\n",
    "classe_2 = pd.DataFrame(np.random.normal(20, 2, size=(10, 2)))\n",
    "classe_2['clase'] = 1\n",
    "classe_2.columns=['feature_1', 'feature_2', 'classe']\n",
    "sample = pd.concat([classe_1, classe_2])\n",
    "sample"
   ]
  },
  {
   "cell_type": "code",
   "execution_count": 60,
   "id": "4ddb68a5",
   "metadata": {},
   "outputs": [
    {
     "data": {
      "image/png": "[encoded data removed]",
      "text/plain": [
       "<Figure size 504x252 with 2 Axes>"
      ]
     },
     "metadata": {
      "needs_background": "light"
     },
     "output_type": "display_data"
    }
   ],
   "source": [
    "fig, ax = plt.subplots()\n",
    "sample.plot(kind=\"scatter\", x=\"feature_1\", y=\"feature_2\", s=50, c=\"classe\", cmap=\"viridis\", ax=ax);"
   ]
  },
  {
   "cell_type": "code",
   "execution_count": 61,
   "id": "ac5d0a01",
   "metadata": {},
   "outputs": [],
   "source": [
    "X =  sample[['feature_1', 'feature_2']]\n",
    "y = sample['classe']"
   ]
  },
  {
   "cell_type": "code",
   "execution_count": 62,
   "id": "b6c81593",
   "metadata": {},
   "outputs": [],
   "source": [
    "clf = tree.DecisionTreeClassifier()\n",
    "clf = clf.fit(X, y)"
   ]
  },
  {
   "cell_type": "code",
   "execution_count": 63,
   "id": "42bb8423",
   "metadata": {},
   "outputs": [
    {
     "data": {
      "text/plain": [
       "array([0])"
      ]
     },
     "execution_count": 63,
     "metadata": {},
     "output_type": "execute_result"
    }
   ],
   "source": [
    "clf.predict([[2., 2.]])"
   ]
  },
  {
   "cell_type": "code",
   "execution_count": 64,
   "id": "de3a0f5c",
   "metadata": {},
   "outputs": [
    {
     "data": {
      "text/plain": [
       "array([1])"
      ]
     },
     "execution_count": 64,
     "metadata": {},
     "output_type": "execute_result"
    }
   ],
   "source": [
    "clf.predict([[25., 18.]])"
   ]
  },
  {
   "cell_type": "markdown",
   "id": "77f70f0b",
   "metadata": {},
   "source": [
    "## Teste 2 "
   ]
  },
  {
   "cell_type": "code",
   "execution_count": 65,
   "id": "3d6a896c",
   "metadata": {},
   "outputs": [],
   "source": [
    "clf = tree.DecisionTreeClassifier()\n",
    "clf = clf.fit(X, y)"
   ]
  },
  {
   "cell_type": "code",
   "execution_count": 66,
   "id": "20dcf164",
   "metadata": {},
   "outputs": [
    {
     "data": {
      "text/plain": [
       "array([0])"
      ]
     },
     "execution_count": 66,
     "metadata": {},
     "output_type": "execute_result"
    }
   ],
   "source": [
    "clf.predict([[2., 2.]])"
   ]
  },
  {
   "cell_type": "code",
   "execution_count": 67,
   "id": "26e76710",
   "metadata": {},
   "outputs": [
    {
     "data": {
      "text/plain": [
       "array([1])"
      ]
     },
     "execution_count": 67,
     "metadata": {},
     "output_type": "execute_result"
    }
   ],
   "source": [
    "clf.predict([[25., 18.]])"
   ]
  },
  {
   "cell_type": "markdown",
   "id": "1acc0856",
   "metadata": {},
   "source": [
    "# Random Forest "
   ]
  },
  {
   "cell_type": "markdown",
   "id": "4cf5dfc1",
   "metadata": {},
   "source": [
    "<img src='https://1.bp.blogspot.com/-Ax59WK4DE8w/YK6o9bt_9jI/AAAAAAAAEQA/9KbBf9cdL6kOFkJnU39aUn4m8ydThPenwCLcBGAsYHQ/s0/Random%2BForest%2B03.gif'>"
   ]
  },
  {
   "cell_type": "markdown",
   "id": "fca78c45",
   "metadata": {},
   "source": [
    "<img src='https://www.researchgate.net/publication/351175730/figure/fig6/AS:1023275480141832@1620979294225/Principle-of-a-random-forest-RF-Bagging-is-the-process-of-data-sampling-from-a.png'>"
   ]
  },
  {
   "cell_type": "code",
   "execution_count": 68,
   "id": "cce54702",
   "metadata": {},
   "outputs": [
    {
     "data": {
      "text/html": [
       "<div>\n",
       "<style scoped>\n",
       "    .dataframe tbody tr th:only-of-type {\n",
       "        vertical-align: middle;\n",
       "    }\n",
       "\n",
       "    .dataframe tbody tr th {\n",
       "        vertical-align: top;\n",
       "    }\n",
       "\n",
       "    .dataframe thead th {\n",
       "        text-align: right;\n",
       "    }\n",
       "</style>\n",
       "<table border=\"1\" class=\"dataframe\">\n",
       "  <thead>\n",
       "    <tr style=\"text-align: right;\">\n",
       "      <th></th>\n",
       "      <th>feature_1</th>\n",
       "      <th>feature_2</th>\n",
       "      <th>classe</th>\n",
       "    </tr>\n",
       "  </thead>\n",
       "  <tbody>\n",
       "    <tr>\n",
       "      <th>0</th>\n",
       "      <td>2.065389</td>\n",
       "      <td>0.526986</td>\n",
       "      <td>0</td>\n",
       "    </tr>\n",
       "    <tr>\n",
       "      <th>1</th>\n",
       "      <td>1.301825</td>\n",
       "      <td>3.774333</td>\n",
       "      <td>0</td>\n",
       "    </tr>\n",
       "    <tr>\n",
       "      <th>2</th>\n",
       "      <td>3.381413</td>\n",
       "      <td>4.136864</td>\n",
       "      <td>0</td>\n",
       "    </tr>\n",
       "    <tr>\n",
       "      <th>3</th>\n",
       "      <td>3.645669</td>\n",
       "      <td>5.177851</td>\n",
       "      <td>0</td>\n",
       "    </tr>\n",
       "    <tr>\n",
       "      <th>4</th>\n",
       "      <td>2.787615</td>\n",
       "      <td>6.727607</td>\n",
       "      <td>0</td>\n",
       "    </tr>\n",
       "    <tr>\n",
       "      <th>5</th>\n",
       "      <td>1.906787</td>\n",
       "      <td>-1.130197</td>\n",
       "      <td>0</td>\n",
       "    </tr>\n",
       "    <tr>\n",
       "      <th>6</th>\n",
       "      <td>0.568445</td>\n",
       "      <td>1.998332</td>\n",
       "      <td>0</td>\n",
       "    </tr>\n",
       "    <tr>\n",
       "      <th>7</th>\n",
       "      <td>2.701157</td>\n",
       "      <td>0.126336</td>\n",
       "      <td>0</td>\n",
       "    </tr>\n",
       "    <tr>\n",
       "      <th>8</th>\n",
       "      <td>2.009545</td>\n",
       "      <td>-0.184204</td>\n",
       "      <td>0</td>\n",
       "    </tr>\n",
       "    <tr>\n",
       "      <th>9</th>\n",
       "      <td>3.875127</td>\n",
       "      <td>2.020920</td>\n",
       "      <td>0</td>\n",
       "    </tr>\n",
       "    <tr>\n",
       "      <th>0</th>\n",
       "      <td>18.138561</td>\n",
       "      <td>19.511974</td>\n",
       "      <td>1</td>\n",
       "    </tr>\n",
       "    <tr>\n",
       "      <th>1</th>\n",
       "      <td>19.621368</td>\n",
       "      <td>23.068883</td>\n",
       "      <td>1</td>\n",
       "    </tr>\n",
       "    <tr>\n",
       "      <th>2</th>\n",
       "      <td>19.004378</td>\n",
       "      <td>18.618841</td>\n",
       "      <td>1</td>\n",
       "    </tr>\n",
       "    <tr>\n",
       "      <th>3</th>\n",
       "      <td>20.416790</td>\n",
       "      <td>22.358294</td>\n",
       "      <td>1</td>\n",
       "    </tr>\n",
       "    <tr>\n",
       "      <th>4</th>\n",
       "      <td>20.758310</td>\n",
       "      <td>21.958175</td>\n",
       "      <td>1</td>\n",
       "    </tr>\n",
       "    <tr>\n",
       "      <th>5</th>\n",
       "      <td>15.985071</td>\n",
       "      <td>17.848510</td>\n",
       "      <td>1</td>\n",
       "    </tr>\n",
       "    <tr>\n",
       "      <th>6</th>\n",
       "      <td>20.747737</td>\n",
       "      <td>19.464726</td>\n",
       "      <td>1</td>\n",
       "    </tr>\n",
       "    <tr>\n",
       "      <th>7</th>\n",
       "      <td>18.492533</td>\n",
       "      <td>19.000422</td>\n",
       "      <td>1</td>\n",
       "    </tr>\n",
       "    <tr>\n",
       "      <th>8</th>\n",
       "      <td>20.222969</td>\n",
       "      <td>20.740879</td>\n",
       "      <td>1</td>\n",
       "    </tr>\n",
       "    <tr>\n",
       "      <th>9</th>\n",
       "      <td>20.857428</td>\n",
       "      <td>19.600437</td>\n",
       "      <td>1</td>\n",
       "    </tr>\n",
       "  </tbody>\n",
       "</table>\n",
       "</div>"
      ],
      "text/plain": [
       "   feature_1  feature_2  classe\n",
       "0   2.065389   0.526986       0\n",
       "1   1.301825   3.774333       0\n",
       "2   3.381413   4.136864       0\n",
       "3   3.645669   5.177851       0\n",
       "4   2.787615   6.727607       0\n",
       "5   1.906787  -1.130197       0\n",
       "6   0.568445   1.998332       0\n",
       "7   2.701157   0.126336       0\n",
       "8   2.009545  -0.184204       0\n",
       "9   3.875127   2.020920       0\n",
       "0  18.138561  19.511974       1\n",
       "1  19.621368  23.068883       1\n",
       "2  19.004378  18.618841       1\n",
       "3  20.416790  22.358294       1\n",
       "4  20.758310  21.958175       1\n",
       "5  15.985071  17.848510       1\n",
       "6  20.747737  19.464726       1\n",
       "7  18.492533  19.000422       1\n",
       "8  20.222969  20.740879       1\n",
       "9  20.857428  19.600437       1"
      ]
     },
     "execution_count": 68,
     "metadata": {},
     "output_type": "execute_result"
    }
   ],
   "source": [
    "#dataset 2 - balanceado;  linearmente separavel, sem outliers; normalizado \n",
    "classe_1 = pd.DataFrame(np.random.normal(3, 2.5, size=(10, 2)))\n",
    "classe_1['clase'] = 0\n",
    "classe_1.columns=['feature_1', 'feature_2', 'classe']\n",
    "classe_2 = pd.DataFrame(np.random.normal(20, 2, size=(10, 2)))\n",
    "classe_2['clase'] = 1\n",
    "classe_2.columns=['feature_1', 'feature_2', 'classe']\n",
    "sample = pd.concat([classe_1, classe_2])\n",
    "sample"
   ]
  },
  {
   "cell_type": "code",
   "execution_count": 69,
   "id": "3e50778f",
   "metadata": {
    "scrolled": true
   },
   "outputs": [
    {
     "data": {
      "image/png": "[encoded data removed]",
      "text/plain": [
       "<Figure size 504x252 with 2 Axes>"
      ]
     },
     "metadata": {
      "needs_background": "light"
     },
     "output_type": "display_data"
    }
   ],
   "source": [
    "fig, ax = plt.subplots()\n",
    "sample.plot(kind=\"scatter\", x=\"feature_1\", y=\"feature_2\", s=50, c=\"classe\", cmap=\"viridis\", ax=ax);"
   ]
  },
  {
   "cell_type": "code",
   "execution_count": 70,
   "id": "a3af97bb",
   "metadata": {},
   "outputs": [],
   "source": [
    "X =  sample[['feature_1', 'feature_2']]\n",
    "y = sample['classe']"
   ]
  },
  {
   "cell_type": "code",
   "execution_count": 71,
   "id": "a41d1d91",
   "metadata": {},
   "outputs": [
    {
     "data": {
      "text/plain": [
       "RandomForestClassifier(max_depth=2, random_state=0)"
      ]
     },
     "execution_count": 71,
     "metadata": {},
     "output_type": "execute_result"
    }
   ],
   "source": [
    "clf = RandomForestClassifier(max_depth=2, random_state=0)\n",
    "clf.fit(X, y)"
   ]
  },
  {
   "cell_type": "code",
   "execution_count": 72,
   "id": "fbbf1530",
   "metadata": {},
   "outputs": [
    {
     "name": "stdout",
     "output_type": "stream",
     "text": [
      "[1]\n"
     ]
    }
   ],
   "source": [
    "print(clf.predict([[15, 20]]))"
   ]
  }
 ],
 "metadata": {
  "hide_input": false,
  "kernelspec": {
   "display_name": "Python 3",
   "language": "python",
   "name": "python3"
  },
  "language_info": {
   "codemirror_mode": {
    "name": "ipython",
    "version": 3
   },
   "file_extension": ".py",
   "mimetype": "text/x-python",
   "name": "python",
   "nbconvert_exporter": "python",
   "pygments_lexer": "ipython3",
   "version": "3.8.8"
  },
  "toc": {
   "base_numbering": 1,
   "nav_menu": {},
   "number_sections": true,
   "sideBar": true,
   "skip_h1_title": false,
   "title_cell": "Table of Contents",
   "title_sidebar": "Contents",
   "toc_cell": false,
   "toc_position": {},
   "toc_section_display": true,
   "toc_window_display": false
  }
 },
 "nbformat": 4,
 "nbformat_minor": 5
}
