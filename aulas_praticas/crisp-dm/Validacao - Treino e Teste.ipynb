{
 "cells": [
  {
   "cell_type": "markdown",
   "id": "b9a5682b",
   "metadata": {},
   "source": [
    "# Treino e Teste "
   ]
  },
  {
   "cell_type": "markdown",
   "id": "3f59bc18",
   "metadata": {},
   "source": [
    "<img src='https://i.ytimg.com/vi/ClZYAou70Ug/maxresdefault.jpg'>"
   ]
  },
  {
   "cell_type": "markdown",
   "id": "324aa30d",
   "metadata": {},
   "source": [
    "## Reporte da metrica de avaliação\n",
    "\n",
    "<img src='amostragem.png'>"
   ]
  },
  {
   "cell_type": "code",
   "execution_count": null,
   "id": "3934b932",
   "metadata": {},
   "outputs": [],
   "source": [
    "\n",
    "import numpy as np\n",
    "import pandas as pd\n",
    "\n",
    "import seaborn as sns\n",
    "import matplotlib.pyplot as plt\n",
    "\n",
    "from sklearn.svm import SVC\n",
    "\n",
    "from sklearn.model_selection import train_test_split\n",
    "from sklearn.model_selection import KFold\n",
    "from sklearn.model_selection import LeaveOneOut\n",
    "from sklearn.model_selection import LeavePOut\n",
    "from sklearn.model_selection import ShuffleSplit\n",
    "from sklearn.model_selection import StratifiedKFold\n",
    "from sklearn.model_selection import cross_val_score\n",
    "\n",
    "from sklearn.tree import DecisionTreeClassifier\n",
    "from sklearn.metrics import precision_recall_curve, roc_auc_score, roc_curve, auc, accuracy_score\n",
    "from matplotlib import pyplot\n"
   ]
  },
  {
   "cell_type": "code",
   "execution_count": null,
   "id": "d7c5d8e9",
   "metadata": {},
   "outputs": [],
   "source": [
    "#dataset 1 - balanceado; não linearmente separavel, sem outliers; normalizado \n",
    "classe_1 = pd.DataFrame(np.random.normal(25, 2.5, size=(100, 2)))\n",
    "classe_1['clase'] = 0\n",
    "classe_1.columns=['feature_1', 'feature_2', 'classe']\n",
    "classe_2 = pd.DataFrame(np.random.normal(22, 2.5, size=(100, 2)))\n",
    "classe_2['clase'] = 1\n",
    "classe_2.columns=['feature_1', 'feature_2', 'classe']\n",
    "sample = pd.concat([classe_1, classe_2])\n",
    "sample.head()"
   ]
  },
  {
   "cell_type": "code",
   "execution_count": null,
   "id": "b666f63d",
   "metadata": {},
   "outputs": [],
   "source": [
    "fig, ax = plt.subplots()\n",
    "sample.plot(kind=\"scatter\", x=\"feature_1\", y=\"feature_2\", s=50, c=\"classe\", cmap=\"viridis\", ax=ax);\n"
   ]
  },
  {
   "cell_type": "code",
   "execution_count": null,
   "id": "b56d2b42",
   "metadata": {},
   "outputs": [],
   "source": [
    "X = sample[['feature_1', 'feature_2']]\n",
    "y = sample['classe']"
   ]
  },
  {
   "cell_type": "markdown",
   "id": "70e4f303",
   "metadata": {},
   "source": [
    "## Resubstituição"
   ]
  },
  {
   "cell_type": "code",
   "execution_count": null,
   "id": "059b9dea",
   "metadata": {},
   "outputs": [],
   "source": [
    "model = SVC(kernel='rbf', C=1, random_state=42)\n",
    "model.fit(X,y)\n",
    "model.predict(X)\n",
    "score = model.score(X,y)\n",
    "print(\"%0.2f accuracy with a standard deviation of %0.2f\" % (score.mean()*100, score.std()*100))\n",
    "\n",
    "# print(\"Accuracy: %.2f%%\" % (score*100.0))"
   ]
  },
  {
   "cell_type": "markdown",
   "id": "f9116c13",
   "metadata": {},
   "source": [
    "* Toda a amostra de treino está sendo usada para teste\n",
    "* Não identificamos se está acontecendo overfitting "
   ]
  },
  {
   "cell_type": "markdown",
   "id": "729aa022",
   "metadata": {},
   "source": [
    "## Holdout \n"
   ]
  },
  {
   "cell_type": "code",
   "execution_count": null,
   "id": "6b7cbaf6",
   "metadata": {},
   "outputs": [],
   "source": [
    "X_train, X_test, Y_train, Y_test = train_test_split(X, y, test_size=0.30, random_state=100, shuffle=True)\n",
    "model = SVC(kernel='rbf', C=1, random_state=42)\n",
    "model.fit(X_train, Y_train)\n",
    "result = model.score(X_test, Y_test)\n",
    "print(\"%0.2f%% accuracy with a standard deviation of %0.2f%%\" % (result.mean()*100, result.std()*100))\n"
   ]
  },
  {
   "cell_type": "markdown",
   "id": "8de01d4b",
   "metadata": {},
   "source": [
    "* o dataset é dividido em 2, normalmente na proporção de 2/3\n",
    "* uma critica a essa abordagem é que este não permite avaliar o quanto o desempenho de uma técnica varia quando diferentes combinações de objetos são apresentadas\n"
   ]
  },
  {
   "cell_type": "markdown",
   "id": "20d4cfe4",
   "metadata": {},
   "source": [
    "## K-fold"
   ]
  },
  {
   "cell_type": "code",
   "execution_count": null,
   "id": "8f9c1dcf",
   "metadata": {},
   "outputs": [],
   "source": [
    "kfold = KFold(n_splits=10, shuffle=True)\n",
    "model_kfold = SVC(kernel='rbf', C=1, random_state=42)\n",
    "results_kfold = cross_val_score(model_kfold, X, y, cv=kfold)\n",
    "print(\"%0.2f%% accuracy with a standard deviation of %0.2f%%\" % (results_kfold.mean()*100, results_kfold.std()*100))\n"
   ]
  },
  {
   "cell_type": "markdown",
   "id": "da07c2d6",
   "metadata": {},
   "source": [
    "* o conjunto de exemplos é dividido em k subconjuntos de tamanho aproximadamente igual\n",
    "* k-1 subconjuntos são usados no treinamento e o que sobra é usado no teste\n",
    "* não existe uma regra para o valor de k, é comum utilizar k=10\n",
    "* a principal critica a esse metodo é que uma parte dos dados é compartilhada entre os subconjuntos de treinamento "
   ]
  },
  {
   "cell_type": "markdown",
   "id": "83883f11",
   "metadata": {},
   "source": [
    "## Stratified"
   ]
  },
  {
   "cell_type": "code",
   "execution_count": null,
   "id": "f05da48f",
   "metadata": {},
   "outputs": [],
   "source": [
    "skfold = StratifiedKFold(n_splits=3, shuffle=True)\n",
    "model_skfold = SVC(kernel='rbf', C=1, random_state=42)\n",
    "results_skfold = cross_val_score(model_skfold, X, y, cv=skfold)\n",
    "print(\"%0.2f%% accuracy with a standard deviation of %0.2f%%\" % (results_skfold.mean()*100, results_skfold.std()*100))\n"
   ]
  },
  {
   "cell_type": "markdown",
   "id": "3f237670",
   "metadata": {},
   "source": [
    "* mantém em cada partição a proporção de exemplos de cada classe semelhante a proporção contida no conjunto de dados total\n"
   ]
  },
  {
   "cell_type": "markdown",
   "id": "412b5ca4",
   "metadata": {},
   "source": [
    "## Leave one out"
   ]
  },
  {
   "cell_type": "code",
   "execution_count": null,
   "id": "68acf30d",
   "metadata": {
    "scrolled": false
   },
   "outputs": [],
   "source": [
    "loocv = LeaveOneOut()\n",
    "model_loocv = SVC(kernel='rbf', C=1, random_state=42)\n",
    "results_loocv = cross_val_score(model_loocv, X, y, cv=loocv)\n",
    "print(\"%0.2f%% accuracy with a standard deviation of %0.2f%%\" % (results_loocv.mean()*100, results_loocv.std()*100))\n"
   ]
  },
  {
   "cell_type": "markdown",
   "id": "756b5c9e",
   "metadata": {},
   "source": [
    "* caso extremo em que k =n\n",
    "* um exemplo é separado para teste, enquanto n-1 são usados para treino \n"
   ]
  },
  {
   "cell_type": "markdown",
   "id": "5097f983",
   "metadata": {},
   "source": [
    "## Verificando overfitting "
   ]
  },
  {
   "cell_type": "code",
   "execution_count": null,
   "id": "d4a628aa",
   "metadata": {},
   "outputs": [],
   "source": [
    "# synthetic classification dataset\n",
    "from sklearn.datasets import make_classification\n",
    "# define dataset\n",
    "X, y = make_classification(n_samples=10000, n_features=20, n_informative=5, n_redundant=15, random_state=1)\n",
    "# summarize the dataset\n",
    "print(X.shape, y.shape)"
   ]
  },
  {
   "cell_type": "code",
   "execution_count": null,
   "id": "68757b18",
   "metadata": {},
   "outputs": [],
   "source": [
    "# split a dataset into train and test sets\n",
    "from sklearn.datasets import make_classification\n",
    "from sklearn.model_selection import train_test_split\n",
    "# create dataset\n",
    "X, y = make_classification(n_samples=10000, n_features=20, n_informative=5, n_redundant=15, random_state=1)\n",
    "# split into train test sets\n",
    "X_train, X_test, y_train, y_test = train_test_split(X, y, test_size=0.3)\n",
    "# summarize the shape of the train and test sets\n",
    "print(X_train.shape, X_test.shape, y_train.shape, y_test.shape)"
   ]
  },
  {
   "cell_type": "code",
   "execution_count": null,
   "id": "fb1d609e",
   "metadata": {},
   "outputs": [],
   "source": [
    "# define the tree depths to evaluate\n",
    "values = [i for i in range(1, 30)]"
   ]
  },
  {
   "cell_type": "code",
   "execution_count": null,
   "id": "2044dc71",
   "metadata": {},
   "outputs": [],
   "source": [
    "train_scores, test_scores = list(), list()\n"
   ]
  },
  {
   "cell_type": "code",
   "execution_count": null,
   "id": "97a32ca8",
   "metadata": {
    "scrolled": true
   },
   "outputs": [],
   "source": [
    "for i in values:\n",
    "    # configure the model\n",
    "    model = DecisionTreeClassifier(max_depth=i)\n",
    "    # fit model on the training dataset\n",
    "    model.fit(X_train, y_train)\n",
    "    # evaluate on the train dataset\n",
    "    train_yhat = model.predict(X_train)\n",
    "    train_acc = accuracy_score(y_train, train_yhat)\n",
    "    train_scores.append(train_acc)\n",
    "    # evaluate on the test dataset\n",
    "    test_yhat = model.predict(X_test)\n",
    "    test_acc = accuracy_score(y_test, test_yhat)\n",
    "    test_scores.append(test_acc)\n",
    "    # summarize progress\n",
    "    print('>%d, train: %.3f, test: %.3f' % (i, train_acc, test_acc))"
   ]
  },
  {
   "cell_type": "code",
   "execution_count": null,
   "id": "22ce2788",
   "metadata": {
    "scrolled": true
   },
   "outputs": [],
   "source": [
    "# plot of train and test scores vs number of neighbors\n",
    "pyplot.plot(values, train_scores, '-o', label='Train')\n",
    "pyplot.plot(values, test_scores, '-o', label='Test')\n",
    "pyplot.legend()\n",
    "pyplot.show()"
   ]
  },
  {
   "cell_type": "code",
   "execution_count": null,
   "id": "fc6c34bf",
   "metadata": {},
   "outputs": [],
   "source": []
  }
 ],
 "metadata": {
  "hide_input": false,
  "kernelspec": {
   "display_name": "Python 3",
   "language": "python",
   "name": "python3"
  },
  "language_info": {
   "codemirror_mode": {
    "name": "ipython",
    "version": 3
   },
   "file_extension": ".py",
   "mimetype": "text/x-python",
   "name": "python",
   "nbconvert_exporter": "python",
   "pygments_lexer": "ipython3",
   "version": "3.8.8"
  },
  "toc": {
   "base_numbering": 1,
   "nav_menu": {},
   "number_sections": true,
   "sideBar": true,
   "skip_h1_title": false,
   "title_cell": "Table of Contents",
   "title_sidebar": "Contents",
   "toc_cell": false,
   "toc_position": {},
   "toc_section_display": true,
   "toc_window_display": false
  }
 },
 "nbformat": 4,
 "nbformat_minor": 5
}
