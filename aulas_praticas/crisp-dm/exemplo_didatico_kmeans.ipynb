{
 "cells": [
  {
   "cell_type": "code",
   "execution_count": 1,
   "metadata": {},
   "outputs": [],
   "source": [
    "import os\n",
    "\n",
    "import numpy as np\n",
    "import pandas as pd\n",
    "\n",
    "import seaborn as sns\n",
    "import matplotlib.pyplot as plt\n"
   ]
  },
  {
   "cell_type": "code",
   "execution_count": 2,
   "metadata": {},
   "outputs": [],
   "source": [
    "main_path = '/Users/henriquevieira/Documents/escola_blue/materiais/Aula 4/'"
   ]
  },
  {
   "cell_type": "code",
   "execution_count": 3,
   "metadata": {},
   "outputs": [
    {
     "data": {
      "text/html": [
       "<div>\n",
       "<style scoped>\n",
       "    .dataframe tbody tr th:only-of-type {\n",
       "        vertical-align: middle;\n",
       "    }\n",
       "\n",
       "    .dataframe tbody tr th {\n",
       "        vertical-align: top;\n",
       "    }\n",
       "\n",
       "    .dataframe thead th {\n",
       "        text-align: right;\n",
       "    }\n",
       "</style>\n",
       "<table border=\"1\" class=\"dataframe\">\n",
       "  <thead>\n",
       "    <tr style=\"text-align: right;\">\n",
       "      <th></th>\n",
       "      <th>peso</th>\n",
       "      <th>altura</th>\n",
       "    </tr>\n",
       "  </thead>\n",
       "  <tbody>\n",
       "    <tr>\n",
       "      <th>0</th>\n",
       "      <td>2.4</td>\n",
       "      <td>0.80</td>\n",
       "    </tr>\n",
       "    <tr>\n",
       "      <th>1</th>\n",
       "      <td>102.0</td>\n",
       "      <td>0.70</td>\n",
       "    </tr>\n",
       "    <tr>\n",
       "      <th>2</th>\n",
       "      <td>430.0</td>\n",
       "      <td>1.50</td>\n",
       "    </tr>\n",
       "    <tr>\n",
       "      <th>3</th>\n",
       "      <td>306.0</td>\n",
       "      <td>1.57</td>\n",
       "    </tr>\n",
       "    <tr>\n",
       "      <th>4</th>\n",
       "      <td>2.9</td>\n",
       "      <td>0.73</td>\n",
       "    </tr>\n",
       "    <tr>\n",
       "      <th>5</th>\n",
       "      <td>131.0</td>\n",
       "      <td>0.85</td>\n",
       "    </tr>\n",
       "    <tr>\n",
       "      <th>6</th>\n",
       "      <td>280.0</td>\n",
       "      <td>1.40</td>\n",
       "    </tr>\n",
       "    <tr>\n",
       "      <th>7</th>\n",
       "      <td>318.0</td>\n",
       "      <td>1.60</td>\n",
       "    </tr>\n",
       "    <tr>\n",
       "      <th>8</th>\n",
       "      <td>110.0</td>\n",
       "      <td>0.80</td>\n",
       "    </tr>\n",
       "  </tbody>\n",
       "</table>\n",
       "</div>"
      ],
      "text/plain": [
       "    peso  altura\n",
       "0    2.4    0.80\n",
       "1  102.0    0.70\n",
       "2  430.0    1.50\n",
       "3  306.0    1.57\n",
       "4    2.9    0.73\n",
       "5  131.0    0.85\n",
       "6  280.0    1.40\n",
       "7  318.0    1.60\n",
       "8  110.0    0.80"
      ]
     },
     "execution_count": 3,
     "metadata": {},
     "output_type": "execute_result"
    }
   ],
   "source": [
    "dados = pd.read_csv(os.path.join(main_path, 'exemplo_peso_altura_animais_fazenda.csv'), \n",
    "                    delimiter=';')\n",
    "dados"
   ]
  },
  {
   "cell_type": "code",
   "execution_count": 4,
   "metadata": {},
   "outputs": [
    {
     "data": {
      "image/png": "[encoded data removed]",
      "text/plain": [
       "<Figure size 576x576 with 1 Axes>"
      ]
     },
     "metadata": {},
     "output_type": "display_data"
    }
   ],
   "source": [
    "sns.set_style('darkgrid')\n",
    "\n",
    "plt.figure(figsize=[8,8])\n",
    "ax = sns.scatterplot(x='peso', y='altura', s = 200,\n",
    "                     data=dados, \n",
    "                     palette=\"deep\")\n",
    "ax.set_title('ANIMAIS DA FAZENDA', loc='left', fontsize=18)\n",
    "ax.set_xlabel('ALTURA', fontsize=14)\n",
    "ax.set_ylabel('PESO', fontsize=14)\n",
    "plt.show()"
   ]
  },
  {
   "cell_type": "code",
   "execution_count": 5,
   "metadata": {},
   "outputs": [],
   "source": [
    "# Baseado nesse material\n",
    "# https://www.analyticsvidhya.com/blog/2020/10/a-simple-explanation-of-k-means-clustering/"
   ]
  },
  {
   "cell_type": "code",
   "execution_count": 6,
   "metadata": {},
   "outputs": [],
   "source": [
    "# Passos do nosso algoritmo\n",
    "# Select the k values.\n",
    "# Initialize the centroids.\n",
    "# Select the group and find the average."
   ]
  },
  {
   "cell_type": "markdown",
   "metadata": {},
   "source": [
    "Observando o nosso grafico podemos afirmar que há dois grupos, então k = 2. Iniciaremos dois centroides em posições definidas, (250, 1.0) e (200, 1.6)"
   ]
  },
  {
   "cell_type": "code",
   "execution_count": 7,
   "metadata": {},
   "outputs": [
    {
     "data": {
      "image/png": "[encoded data removed]",
      "text/plain": [
       "<Figure size 576x576 with 1 Axes>"
      ]
     },
     "metadata": {},
     "output_type": "display_data"
    }
   ],
   "source": [
    "sns.set_style('darkgrid')\n",
    "\n",
    "plt.figure(figsize=[8,8])\n",
    "ax = sns.scatterplot(x='peso', y='altura', s = 200,\n",
    "                     data=dados, \n",
    "                     palette=\"deep\")\n",
    "ax = sns.scatterplot(x=[250], y=[1], s = 200, marker=\"X\",\n",
    "                     data=dados, \n",
    "                     palette=\"deep\")\n",
    "ax = sns.scatterplot(x=[200], y=[1.6], s = 200, marker=\"X\",\n",
    "                     data=dados, \n",
    "                     palette=\"deep\")\n",
    "ax.set_title('ANIMAIS DA FAZENDA', loc='left', fontsize=18)\n",
    "ax.set_xlabel('ALTURA', fontsize=14)\n",
    "ax.set_ylabel('PESO', fontsize=14)\n",
    "\n",
    "plt.savefig(os.path.join(main_path, 'scatterplot_kmeans_animais_fazenda1.png'))"
   ]
  },
  {
   "cell_type": "code",
   "execution_count": 8,
   "metadata": {},
   "outputs": [],
   "source": [
    "# Calcular a distancia entre todos os pontos e cada centroide"
   ]
  },
  {
   "cell_type": "markdown",
   "metadata": {},
   "source": [
    "Vamos calcular a distancia do primeiro ponto (2.4, 0.8) ate o primeiro centroide (250, 1.0)"
   ]
  },
  {
   "cell_type": "code",
   "execution_count": 9,
   "metadata": {},
   "outputs": [],
   "source": [
    "Xa, Ya, Xb, Yb = 2.4, 0.80, 250, 1.0"
   ]
  },
  {
   "cell_type": "code",
   "execution_count": 10,
   "metadata": {},
   "outputs": [
    {
     "data": {
      "text/plain": [
       "247.60008077543108"
      ]
     },
     "execution_count": 10,
     "metadata": {},
     "output_type": "execute_result"
    }
   ],
   "source": [
    "distancia_euclidiana = np.sqrt( np.power(Xb - Xa, 2) + np.power(Yb - Ya, 2))\n",
    "distancia_euclidiana"
   ]
  },
  {
   "cell_type": "code",
   "execution_count": 11,
   "metadata": {},
   "outputs": [],
   "source": [
    "# Vamos escrever essa funcao\n",
    "def calcular_distancia_euclidiana(Xa, Ya, Xb, Yb):\n",
    "    distancia_euclidiana = np.sqrt( np.power(Xb - Xa, 2))\n",
    "    return distancia_euclidiana"
   ]
  },
  {
   "cell_type": "code",
   "execution_count": 12,
   "metadata": {},
   "outputs": [
    {
     "data": {
      "text/plain": [
       "247.6"
      ]
     },
     "execution_count": 12,
     "metadata": {},
     "output_type": "execute_result"
    }
   ],
   "source": [
    "calcular_distancia_euclidiana(Xa, Ya, Xb, Yb)"
   ]
  },
  {
   "cell_type": "code",
   "execution_count": 13,
   "metadata": {},
   "outputs": [
    {
     "data": {
      "text/plain": [
       "[247.6, 148.0, 180.0, 56.0, 247.1, 119.0, 30.0, 68.0, 140.0]"
      ]
     },
     "execution_count": 13,
     "metadata": {},
     "output_type": "execute_result"
    }
   ],
   "source": [
    "centroide_1  = (250, 1.0)\n",
    "Xb, Yb       = centroide_1 \n",
    "dist_centr_1 = [calcular_distancia_euclidiana(Xa, Ya, Xb, Yb) for i, Xa, Ya in dados.itertuples()]\n",
    "dist_centr_1"
   ]
  },
  {
   "cell_type": "code",
   "execution_count": 14,
   "metadata": {},
   "outputs": [
    {
     "data": {
      "text/plain": [
       "[197.6, 98.0, 230.0, 106.0, 197.1, 69.0, 80.0, 118.0, 90.0]"
      ]
     },
     "execution_count": 14,
     "metadata": {},
     "output_type": "execute_result"
    }
   ],
   "source": [
    "centroide_2  = (200, 1.6)\n",
    "Xb, Yb       = centroide_2 \n",
    "dist_centr_2 = [calcular_distancia_euclidiana(Xa, Ya, Xb, Yb) for i, Xa, Ya in dados.itertuples()]\n",
    "dist_centr_2"
   ]
  },
  {
   "cell_type": "code",
   "execution_count": 15,
   "metadata": {},
   "outputs": [
    {
     "data": {
      "text/plain": [
       "array([[247.6, 148. , 180. ,  56. , 247.1, 119. ,  30. ,  68. , 140. ],\n",
       "       [197.6,  98. , 230. , 106. , 197.1,  69. ,  80. , 118. ,  90. ]])"
      ]
     },
     "execution_count": 15,
     "metadata": {},
     "output_type": "execute_result"
    }
   ],
   "source": [
    "dist_centroides = np.array([dist_centr_1, dist_centr_2])\n",
    "dist_centroides"
   ]
  },
  {
   "cell_type": "code",
   "execution_count": 16,
   "metadata": {},
   "outputs": [
    {
     "data": {
      "text/plain": [
       "(2, 9)"
      ]
     },
     "execution_count": 16,
     "metadata": {},
     "output_type": "execute_result"
    }
   ],
   "source": [
    "dist_centroides.shape"
   ]
  },
  {
   "cell_type": "code",
   "execution_count": 17,
   "metadata": {},
   "outputs": [],
   "source": [
    "# Atribuir cada ponto a um centroide/cluster"
   ]
  },
  {
   "cell_type": "code",
   "execution_count": 18,
   "metadata": {},
   "outputs": [
    {
     "data": {
      "text/plain": [
       "[1, 1, 0, 0, 1, 1, 0, 0, 1]"
      ]
     },
     "execution_count": 18,
     "metadata": {},
     "output_type": "execute_result"
    }
   ],
   "source": [
    "clusters = []\n",
    "for i in range(dist_centroides.shape[1]):\n",
    "    cluster = np.argmin(dist_centroides[:, i])\n",
    "    clusters.append(cluster)\n",
    "clusters"
   ]
  },
  {
   "cell_type": "code",
   "execution_count": 19,
   "metadata": {},
   "outputs": [
    {
     "data": {
      "image/png": "[encoded data removed]",
      "text/plain": [
       "<Figure size 576x576 with 1 Axes>"
      ]
     },
     "metadata": {},
     "output_type": "display_data"
    }
   ],
   "source": [
    "sns.set_style('darkgrid')\n",
    "\n",
    "plt.figure(figsize=[8,8])\n",
    "ax = sns.scatterplot(x='peso', y='altura', hue=clusters, s = 200,\n",
    "                     data=dados, \n",
    "                     palette=\"deep\")\n",
    "ax = sns.scatterplot(x=[250], y=[1], s = 200, marker=\"X\",\n",
    "                     data=dados, \n",
    "                     palette=\"deep\")\n",
    "ax = sns.scatterplot(x=[200], y=[1.6], s = 200, marker=\"X\",\n",
    "                     data=dados, \n",
    "                     palette=\"deep\")\n",
    "ax.set_title('ANIMAIS DA FAZENDA', loc='left', fontsize=18)\n",
    "ax.set_xlabel('ALTURA', fontsize=14)\n",
    "ax.set_ylabel('PESO', fontsize=14)\n",
    "plt.savefig(os.path.join(main_path, 'scatterplot_kmeans_animais_fazenda2.png'))"
   ]
  },
  {
   "cell_type": "code",
   "execution_count": 20,
   "metadata": {},
   "outputs": [],
   "source": [
    "# Recalcular os centroides a partir da media dos clusters"
   ]
  },
  {
   "cell_type": "code",
   "execution_count": 21,
   "metadata": {},
   "outputs": [
    {
     "name": "stdout",
     "output_type": "stream",
     "text": [
      "centroide_0 333.5 1.5175\n",
      "centroide_1 69.66 0.776\n"
     ]
    }
   ],
   "source": [
    "dados['cluster'] = clusters\n",
    "for cluster in np.unique(clusters):\n",
    "    \n",
    "    X = dados[dados['cluster'] == cluster]['peso'].mean()\n",
    "    Y = dados[dados['cluster'] == cluster]['altura'].mean()\n",
    "    print('centroide_'+str(cluster), X, Y)"
   ]
  },
  {
   "cell_type": "code",
   "execution_count": 22,
   "metadata": {},
   "outputs": [
    {
     "data": {
      "image/png": "[encoded data removed]",
      "text/plain": [
       "<Figure size 576x576 with 1 Axes>"
      ]
     },
     "metadata": {},
     "output_type": "display_data"
    }
   ],
   "source": [
    "sns.set_style('darkgrid')\n",
    "\n",
    "plt.figure(figsize=[8,8])\n",
    "ax = sns.scatterplot(x='peso', y='altura', hue=clusters, s = 200,\n",
    "                     data=dados, \n",
    "                     palette=\"deep\")\n",
    "ax = sns.scatterplot(x=[69.66], y=[0.776], s = 200, marker=\"X\",\n",
    "                     data=dados, \n",
    "                     palette=\"deep\")\n",
    "ax = sns.scatterplot(x=[333.5], y=[1.5175], s = 200, marker=\"X\",\n",
    "                     data=dados, \n",
    "                     palette=\"deep\")\n",
    "ax.set_title('ANIMAIS DA FAZENDA', loc='left', fontsize=18)\n",
    "ax.set_xlabel('ALTURA', fontsize=14)\n",
    "ax.set_ylabel('PESO', fontsize=14)\n",
    "plt.savefig(os.path.join(main_path, 'scatterplot_kmeans_animais_fazenda3.png'))"
   ]
  },
  {
   "cell_type": "code",
   "execution_count": 23,
   "metadata": {},
   "outputs": [],
   "source": [
    "centroide_0 = (333.5, 1.5175)\n",
    "centroide_1 = (69.66, 0.776)\n",
    "centroides = [centroide_0, centroide_1]"
   ]
  },
  {
   "cell_type": "markdown",
   "metadata": {},
   "source": [
    "Repetimos novamente os passos anteriores, mas iremos fazer uma funcao para não repetir diversas vezes"
   ]
  },
  {
   "cell_type": "code",
   "execution_count": 24,
   "metadata": {},
   "outputs": [],
   "source": [
    "def definir_clusters(dados, centroides):\n",
    "    \n",
    "    dist_centroides = []\n",
    "    clusters        = []\n",
    "    for centroide in centroides:\n",
    "\n",
    "        Xb, Yb          = centroide\n",
    "        dist_centroides.append([calcular_distancia_euclidiana(Xa, Ya, Xb, Yb) for i, Xa, Ya, c in dados.itertuples()]) \n",
    "    dist_centroides = np.array(dist_centroides)\n",
    "    \n",
    "    for i in range(dist_centroides.shape[1]):\n",
    "        cluster = np.argmin(dist_centroides[:, i])\n",
    "        clusters.append(cluster)\n",
    "    \n",
    "    return clusters"
   ]
  },
  {
   "cell_type": "code",
   "execution_count": 25,
   "metadata": {},
   "outputs": [
    {
     "data": {
      "text/plain": [
       "[1, 1, 0, 0, 1, 1, 0, 0, 1]"
      ]
     },
     "execution_count": 25,
     "metadata": {},
     "output_type": "execute_result"
    }
   ],
   "source": [
    "clusters = definir_clusters(dados, centroides)\n",
    "clusters"
   ]
  },
  {
   "cell_type": "code",
   "execution_count": 26,
   "metadata": {},
   "outputs": [],
   "source": [
    "dados['cluster'] = clusters"
   ]
  },
  {
   "cell_type": "code",
   "execution_count": 27,
   "metadata": {},
   "outputs": [
    {
     "data": {
      "image/png": "[encoded data removed]",
      "text/plain": [
       "<Figure size 576x576 with 1 Axes>"
      ]
     },
     "metadata": {},
     "output_type": "display_data"
    }
   ],
   "source": [
    "sns.set_style('darkgrid')\n",
    "\n",
    "plt.figure(figsize=[8,8])\n",
    "ax = sns.scatterplot(x='peso', y='altura', hue=clusters, s = 200,\n",
    "                     data=dados, \n",
    "                     palette=\"deep\")\n",
    "ax = sns.scatterplot(x=[centroide_1[0]], y=[centroide_1[1]], s = 200, marker=\"X\",\n",
    "                     data=dados, \n",
    "                     palette=\"deep\")\n",
    "ax = sns.scatterplot(x=[centroide_0[0]], y=[centroide_0[1]], s = 200, marker=\"X\",\n",
    "                     data=dados, \n",
    "                     palette=\"deep\")\n",
    "ax.set_title('ANIMAIS DA FAZENDA', loc='left', fontsize=18)\n",
    "ax.set_xlabel('ALTURA', fontsize=14)\n",
    "ax.set_ylabel('PESO', fontsize=14)\n",
    "plt.savefig(os.path.join(main_path, 'scatterplot_kmeans_animais_fazenda4.png'))"
   ]
  },
  {
   "cell_type": "code",
   "execution_count": null,
   "metadata": {},
   "outputs": [],
   "source": []
  },
  {
   "cell_type": "code",
   "execution_count": null,
   "metadata": {},
   "outputs": [],
   "source": []
  }
 ],
 "metadata": {
  "hide_input": false,
  "kernelspec": {
   "display_name": "Python 3",
   "language": "python",
   "name": "python3"
  },
  "language_info": {
   "codemirror_mode": {
    "name": "ipython",
    "version": 3
   },
   "file_extension": ".py",
   "mimetype": "text/x-python",
   "name": "python",
   "nbconvert_exporter": "python",
   "pygments_lexer": "ipython3",
   "version": "3.8.8"
  },
  "toc": {
   "base_numbering": 1,
   "nav_menu": {},
   "number_sections": true,
   "sideBar": true,
   "skip_h1_title": false,
   "title_cell": "Table of Contents",
   "title_sidebar": "Contents",
   "toc_cell": false,
   "toc_position": {},
   "toc_section_display": true,
   "toc_window_display": false
  }
 },
 "nbformat": 4,
 "nbformat_minor": 4
}
