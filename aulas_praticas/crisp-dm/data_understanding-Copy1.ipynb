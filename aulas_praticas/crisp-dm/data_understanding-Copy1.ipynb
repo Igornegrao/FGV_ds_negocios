{
 "cells": [
  {
   "cell_type": "markdown",
   "id": "4b862bcb",
   "metadata": {},
   "source": [
    "# Dados"
   ]
  },
  {
   "cell_type": "markdown",
   "id": "21cb4ccd",
   "metadata": {},
   "source": [
    "<img src='du.png'>"
   ]
  },
  {
   "cell_type": "markdown",
   "id": "70b0e7d2",
   "metadata": {},
   "source": [
    "## Coletar os dados "
   ]
  },
  {
   "cell_type": "markdown",
   "id": "1f131d63",
   "metadata": {},
   "source": [
    "* Dados primários (coleta na fonte): Surveys, Experimentos, Grupos de Foco\n",
    " - custo elevado\n",
    " - muito tempo/ baixa qualidade\n",
    " - conseguir exatamente os dados que precisamentos"
   ]
  },
  {
   "cell_type": "markdown",
   "id": "e2ae27c4",
   "metadata": {},
   "source": [
    "* Dados Secundários (já disponivéis): open data sourcers, ERP, industry reports\n",
    "    - fácil / acesso rápido\n",
    "    - baixo custo\n",
    "    - dados irrelevantes"
   ]
  },
  {
   "cell_type": "markdown",
   "id": "6dff0e9b",
   "metadata": {},
   "source": [
    "### Tipos de Dados "
   ]
  },
  {
   "cell_type": "markdown",
   "id": "f6de1e56",
   "metadata": {},
   "source": [
    "<img src='tipos_dados.png'>"
   ]
  },
  {
   "cell_type": "markdown",
   "id": "73138466",
   "metadata": {},
   "source": [
    "* **Tipo**: \n",
    "    - Define se o atributo representa quantidades (quantitativo ou númerico) ou qualidades (simbólico ou categórico)\n",
    "    - Ex. de conuntos qualitativos são {pequeno, médio, grande} e {matemática, fisíca, quimíca}. Apesar de alguns conjuntos poderem ser ordenados, oeprações matemáticas não podem ser aplicadas \n",
    "    - Atributos quantitativos podem ser contínuos ou discretos"
   ]
  },
  {
   "cell_type": "markdown",
   "id": "d16145a3",
   "metadata": {},
   "source": [
    "<img src='tipos_atributos.png'>"
   ]
  },
  {
   "cell_type": "markdown",
   "id": "44ccdda2",
   "metadata": {},
   "source": [
    "<font color='red'>  Observe que uma medida quantitativa possui,além do valor numérico, uma unidade, por exemplo, metro. </font>"
   ]
  },
  {
   "cell_type": "markdown",
   "id": "a0254564",
   "metadata": {},
   "source": [
    "* Atributos quantitativos podem assumis valores binários, inteiros ou reais. Já os qualitativos são, geralmente, representados, por um número finito de símbolos ou nomes.\n",
    "* Entretanto, alguns atributos categóricos são representados por números, mas nesse caso, não faz sentido a utilização de operadores aritméticos sobre os seus valores"
   ]
  },
  {
   "cell_type": "markdown",
   "id": "5a5158be",
   "metadata": {},
   "source": [
    "* **Escala** \n",
    "    - Define as operações que podem ser realizadas sobre os valores de um atributo \n",
    "    - Nominais(quali), ordinais(quali), intervalares(quanti) e racionais(quanti)"
   ]
  },
  {
   "cell_type": "markdown",
   "id": "0950fe2c",
   "metadata": {},
   "source": [
    "* Nominais: \n",
    "    - valores são apenas nomes diferentes, carregando a menor quantidade de informação possível\n",
    "    - não existe relação de ordem \n",
    "    - as operações mais utilizadas são de igualdade e desigualdade\n",
    "    - ex.: nome do paciente, RG, CPF, CEP\n",
    "        \n",
    "* Ordinais:\n",
    "    - refletem uma ordem das categorias representadas\n",
    "    - as operações utilizadas são; >, >=,  <, <=, ==,!=\n",
    "    - ex.: hierarquia militar, avaliações do tempo (frio, morno, quente)\n",
    "        \n",
    "* Intervalares:\n",
    "    - são representados por números que variam dentro de um intervalo\n",
    "    - é possível definir tanto a ordem quanto a diferença em magnitude entre dois valores\n",
    "    - a diferença em magnitude indica a distância que separa dois valores no intevalo de possíveis valores\n",
    "    \n",
    "* Racionais:\n",
    "    - são os que carregam mais informação\n",
    "    - os números tem um significado absoluto, ou seja, faz sentido utilizar a razão entre dois valores "
   ]
  },
  {
   "cell_type": "markdown",
   "id": "edd10ac4",
   "metadata": {},
   "source": [
    "<img src='cpf_numero.jpeg'>"
   ]
  },
  {
   "cell_type": "markdown",
   "id": "db3d8eb6",
   "metadata": {},
   "source": [
    "### Balanceamento "
   ]
  },
  {
   "cell_type": "markdown",
   "id": "9dd38d5f",
   "metadata": {},
   "source": [
    "<img src='imbalanced.png'>"
   ]
  },
  {
   "cell_type": "markdown",
   "id": "ea9ebfd2",
   "metadata": {},
   "source": [
    "* Uma classe abaixo dos 30% normalmente é um problema de desbalanceamento"
   ]
  },
  {
   "cell_type": "markdown",
   "id": "b3b04e6e",
   "metadata": {},
   "source": [
    "### Dados Estruturados e Não estruturados "
   ]
  },
  {
   "cell_type": "markdown",
   "id": "0673c293",
   "metadata": {},
   "source": [
    "<img src='structured_data.jpg'>"
   ]
  },
  {
   "cell_type": "markdown",
   "id": "b0335523",
   "metadata": {},
   "source": [
    "### Batch vs Streaming \n",
    "\n",
    "### Big Data vs Not Big Data"
   ]
  },
  {
   "cell_type": "markdown",
   "id": "b16fc829",
   "metadata": {},
   "source": [
    "## Análise Exploratória \n",
    "\n",
    "Inferência Estatistica e Teste de Hipoteses"
   ]
  },
  {
   "cell_type": "markdown",
   "id": "36f5c1aa",
   "metadata": {},
   "source": [
    "<img src='bussinessmoments.png'>"
   ]
  },
  {
   "cell_type": "markdown",
   "id": "2b99076e",
   "metadata": {},
   "source": [
    "<img src='skewess.png'>"
   ]
  },
  {
   "cell_type": "markdown",
   "id": "f708ece0",
   "metadata": {},
   "source": [
    "<img src='kurtosis.png'>"
   ]
  },
  {
   "cell_type": "markdown",
   "id": "cef318aa",
   "metadata": {},
   "source": [
    "* **Representação Gráfica:**\n",
    "    - Univariada:\n",
    "        - Boxplot: identificar outlier e o shape da distribuição\n",
    "        - Histograma: identificar o shape da distribuição e identificar outliers\n",
    "        - Q-Qplot: dados são normais ou não\n",
    "    - Bivariada:\n",
    "        - Scatter plot: correlação (positiva, negativa, não existe), força (moderada, forte, fraca), linear ou nao linear; Outliers\n",
    "    - Multivariada:\n",
    "         - Regressão"
   ]
  },
  {
   "cell_type": "markdown",
   "id": "8a179232",
   "metadata": {},
   "source": [
    "## Qualidade dos dados \n",
    "\n",
    "* Identificar outliers\n",
    "* Identificar dados faltantes\n",
    "* Identificar diferentes níveis de granularidade\n",
    "* Validação e confiabilidade\n",
    "* Dados Inconsistentes\n",
    "* Informação errada\n",
    "* Metadados errados "
   ]
  },
  {
   "cell_type": "markdown",
   "id": "c9108ee9",
   "metadata": {},
   "source": [
    "# Vamos para a prática? "
   ]
  },
  {
   "cell_type": "markdown",
   "id": "15800967",
   "metadata": {},
   "source": [
    "- Objetivo 1: Prever a tag do texto\n",
    "- Objetivo 2: Prever qual será a tecnologia do momento dadas as perguntas do stackoverflow"
   ]
  },
  {
   "cell_type": "code",
   "execution_count": 7,
   "id": "2bfeaff4",
   "metadata": {},
   "outputs": [],
   "source": [
    "import pandas as pd\n",
    "import numpy as np\n",
    "import matplotlib.pyplot as plt\n",
    "import seaborn as sns"
   ]
  },
  {
   "cell_type": "code",
   "execution_count": 9,
   "id": "8b806c45",
   "metadata": {},
   "outputs": [],
   "source": [
    "answers = pd.read_csv('archive/Answers.csv', encoding='latin-1')\n",
    "questions = pd.read_csv('archive/Questions.csv', encoding='latin-1')\n",
    "tags =  pd.read_csv('archive/Tags.csv', encoding='latin-1')"
   ]
  },
  {
   "cell_type": "code",
   "execution_count": 11,
   "id": "d103416e",
   "metadata": {
    "scrolled": true
   },
   "outputs": [
    {
     "data": {
      "text/html": [
       "<div>\n",
       "<style scoped>\n",
       "    .dataframe tbody tr th:only-of-type {\n",
       "        vertical-align: middle;\n",
       "    }\n",
       "\n",
       "    .dataframe tbody tr th {\n",
       "        vertical-align: top;\n",
       "    }\n",
       "\n",
       "    .dataframe thead th {\n",
       "        text-align: right;\n",
       "    }\n",
       "</style>\n",
       "<table border=\"1\" class=\"dataframe\">\n",
       "  <thead>\n",
       "    <tr style=\"text-align: right;\">\n",
       "      <th></th>\n",
       "      <th>Id</th>\n",
       "      <th>OwnerUserId</th>\n",
       "      <th>CreationDate</th>\n",
       "      <th>ParentId</th>\n",
       "      <th>Score</th>\n",
       "      <th>Body</th>\n",
       "    </tr>\n",
       "  </thead>\n",
       "  <tbody>\n",
       "    <tr>\n",
       "      <th>0</th>\n",
       "      <td>92</td>\n",
       "      <td>61.0</td>\n",
       "      <td>2008-08-01T14:45:37Z</td>\n",
       "      <td>90</td>\n",
       "      <td>13</td>\n",
       "      <td>&lt;p&gt;&lt;a href=\"http://svnbook.red-bean.com/\"&gt;Vers...</td>\n",
       "    </tr>\n",
       "    <tr>\n",
       "      <th>1</th>\n",
       "      <td>124</td>\n",
       "      <td>26.0</td>\n",
       "      <td>2008-08-01T16:09:47Z</td>\n",
       "      <td>80</td>\n",
       "      <td>12</td>\n",
       "      <td>&lt;p&gt;I wound up using this. It is a kind of a ha...</td>\n",
       "    </tr>\n",
       "    <tr>\n",
       "      <th>2</th>\n",
       "      <td>199</td>\n",
       "      <td>50.0</td>\n",
       "      <td>2008-08-01T19:36:46Z</td>\n",
       "      <td>180</td>\n",
       "      <td>1</td>\n",
       "      <td>&lt;p&gt;I've read somewhere the human eye can't dis...</td>\n",
       "    </tr>\n",
       "    <tr>\n",
       "      <th>3</th>\n",
       "      <td>269</td>\n",
       "      <td>91.0</td>\n",
       "      <td>2008-08-01T23:49:57Z</td>\n",
       "      <td>260</td>\n",
       "      <td>4</td>\n",
       "      <td>&lt;p&gt;Yes, I thought about that, but I soon figur...</td>\n",
       "    </tr>\n",
       "    <tr>\n",
       "      <th>4</th>\n",
       "      <td>307</td>\n",
       "      <td>49.0</td>\n",
       "      <td>2008-08-02T01:49:46Z</td>\n",
       "      <td>260</td>\n",
       "      <td>28</td>\n",
       "      <td>&lt;p&gt;&lt;a href=\"http://www.codeproject.com/Article...</td>\n",
       "    </tr>\n",
       "  </tbody>\n",
       "</table>\n",
       "</div>"
      ],
      "text/plain": [
       "    Id  OwnerUserId          CreationDate  ParentId  Score  \\\n",
       "0   92         61.0  2008-08-01T14:45:37Z        90     13   \n",
       "1  124         26.0  2008-08-01T16:09:47Z        80     12   \n",
       "2  199         50.0  2008-08-01T19:36:46Z       180      1   \n",
       "3  269         91.0  2008-08-01T23:49:57Z       260      4   \n",
       "4  307         49.0  2008-08-02T01:49:46Z       260     28   \n",
       "\n",
       "                                                Body  \n",
       "0  <p><a href=\"http://svnbook.red-bean.com/\">Vers...  \n",
       "1  <p>I wound up using this. It is a kind of a ha...  \n",
       "2  <p>I've read somewhere the human eye can't dis...  \n",
       "3  <p>Yes, I thought about that, but I soon figur...  \n",
       "4  <p><a href=\"http://www.codeproject.com/Article...  "
      ]
     },
     "execution_count": 11,
     "metadata": {},
     "output_type": "execute_result"
    }
   ],
   "source": [
    "answers.head()"
   ]
  },
  {
   "cell_type": "code",
   "execution_count": null,
   "id": "a5e9068c",
   "metadata": {},
   "outputs": [],
   "source": []
  },
  {
   "cell_type": "markdown",
   "id": "baa79f95",
   "metadata": {},
   "source": [
    "# Data Prep \n",
    "    "
   ]
  },
  {
   "cell_type": "markdown",
   "id": "607f7ade",
   "metadata": {},
   "source": [
    "<img src='dp.png'>"
   ]
  },
  {
   "cell_type": "markdown",
   "id": "8de058fc",
   "metadata": {},
   "source": [
    "**Eliminação Manual de atributos**\n",
    "- Não faz sentido usar atributos Nome e Id para o Diagnóstico (por exemplo)\n",
    "- outros atributos irrelevantes podem ser facilmente identificados, por exemplo, atributos que tem o mesmo valor para todos os objetos\n",
    "                                                            "
   ]
  },
  {
   "cell_type": "markdown",
   "id": "00bdb5d0",
   "metadata": {},
   "source": [
    "**Integração de Dados**\n",
    "- Identificação de identidade \n",
    "- Metadados (ajudam a identificar chaves que tenham nomes diferentes ou dados que foram atualizados em momentos diferentes)\n"
   ]
  },
  {
   "cell_type": "markdown",
   "id": "376f411b",
   "metadata": {},
   "source": [
    "**Amostragem de Dados**\n",
    "- Quando as amostras não são representativas, diferentes amostras de uma mesma população podem gerar modelos diferentes\n",
    "- Tipos de amostragem:\n",
    "  - Amostragem aleatória simples: sem reposição ou com reposição\n",
    "  - Amostragem estratificada\n",
    "  - Amostragem progressiva  "
   ]
  },
  {
   "cell_type": "markdown",
   "id": "7cae4ef0",
   "metadata": {},
   "source": [
    "**Dados Desbalanceados**"
   ]
  },
  {
   "cell_type": "markdown",
   "id": "f7416c1e",
   "metadata": {},
   "source": [
    "- Redefinir o tamanhodo conjunto de dados - oversampling ou undersampling\n",
    "- Utilizar diferentes custos de classificação para diferentes classes - penalizar a classificação incorreta da classe majoritária\n",
    "- Induzir um modelo para uma classe - criar um classificador para cada classe"
   ]
  },
  {
   "cell_type": "markdown",
   "id": "aa2018c4",
   "metadata": {},
   "source": [
    "**Limpeza dos dados** "
   ]
  },
  {
   "cell_type": "markdown",
   "id": "e414f6c3",
   "metadata": {},
   "source": [
    "- Incompletos (valores ausentes)\n",
    "    - eliminar objetos com valores ausentes \n",
    "    - definir e preencher manualmente valores para os atributos\n",
    "    - utilizar algum metódo ou heurística para definir os valores ausentes\n",
    "    - utilizar algoritmos de AM que lidam com valores faltantes \n",
    "    \n",
    "- Inconsistentes (uma relação conhecida entre os atributos é violada)\n",
    "    - remoção\n",
    "- Redundância \n",
    "    - podem ser objetos ou atributos \n",
    "    - normalmente objetos duplicados são removidos pois influenciam na decisão do AM\n",
    "- Ruídos\n",
    "    - dados que não pertencem a distribuição quegerou os dados analisados\n",
    "    - existem diversas técnicas para reduzir o ruído em um atributo "
   ]
  },
  {
   "cell_type": "markdown",
   "id": "e37a083c",
   "metadata": {},
   "source": [
    "**Transformação dos dados**"
   ]
  },
  {
   "cell_type": "markdown",
   "id": "f6376e63",
   "metadata": {},
   "source": [
    "- Conversão Simbólica-Númerico: binário quando não há relação de ordem ou inteiro quando há relação de ordem "
   ]
  },
  {
   "cell_type": "markdown",
   "id": "18f019be",
   "metadata": {},
   "source": [
    "**Redução de Dimensionalidade**\n",
    "- Agregação: \n",
    "    * combinar os atributos originais por meio de funções lineares ou não lineares: PCA\n",
    "- Seleção\n",
    "    * Embutida: arvores de decisão\n",
    "    * Baseada em filtro: etapa de pré processamento (ex. correlação)\n",
    "    * Baseada em wrapper: utiliza o algoritmo como uma caixa preta de seleção"
   ]
  }
 ],
 "metadata": {
  "hide_input": false,
  "kernelspec": {
   "display_name": "Python 3",
   "language": "python",
   "name": "python3"
  },
  "language_info": {
   "codemirror_mode": {
    "name": "ipython",
    "version": 3
   },
   "file_extension": ".py",
   "mimetype": "text/x-python",
   "name": "python",
   "nbconvert_exporter": "python",
   "pygments_lexer": "ipython3",
   "version": "3.8.8"
  },
  "toc": {
   "base_numbering": 1,
   "nav_menu": {},
   "number_sections": true,
   "sideBar": true,
   "skip_h1_title": false,
   "title_cell": "Table of Contents",
   "title_sidebar": "Contents",
   "toc_cell": false,
   "toc_position": {},
   "toc_section_display": true,
   "toc_window_display": false
  }
 },
 "nbformat": 4,
 "nbformat_minor": 5
}
