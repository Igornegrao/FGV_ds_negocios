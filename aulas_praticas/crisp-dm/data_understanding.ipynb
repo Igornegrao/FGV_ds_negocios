{
 "cells": [
  {
   "cell_type": "markdown",
   "id": "e8fab2e8",
   "metadata": {},
   "source": [
    "# Dados"
   ]
  },
  {
   "cell_type": "markdown",
   "id": "fabf7eaf",
   "metadata": {},
   "source": [
    "<img src='du.png'>"
   ]
  },
  {
   "cell_type": "markdown",
   "id": "908804e0",
   "metadata": {},
   "source": [
    "## Coletar os dados "
   ]
  },
  {
   "cell_type": "markdown",
   "id": "44bd5e76",
   "metadata": {},
   "source": [
    "* Dados primários (coleta na fonte): Surveys, Experimentos, Grupos de Foco\n",
    " - custo elevado\n",
    " - muito tempo/ baixa qualidade\n",
    " - conseguir exatamente os dados que precisamentos"
   ]
  },
  {
   "cell_type": "markdown",
   "id": "d7cfc39d",
   "metadata": {},
   "source": [
    "* Dados Secundários (já disponivéis): open data sourcers, ERP, industry reports\n",
    "    - fácil / acesso rápido\n",
    "    - baixo custo\n",
    "    - dados irrelevantes"
   ]
  },
  {
   "cell_type": "markdown",
   "id": "46d30212",
   "metadata": {},
   "source": [
    "### Tipos de Dados "
   ]
  },
  {
   "cell_type": "markdown",
   "id": "fe1f0f6f",
   "metadata": {},
   "source": [
    "<img src='tipos_dados.png'>"
   ]
  },
  {
   "cell_type": "markdown",
   "id": "8a976ae0",
   "metadata": {},
   "source": [
    "* **Tipo**: \n",
    "    - Define se o atributo representa quantidades (quantitativo ou númerico) ou qualidades (simbólico ou categórico)\n",
    "    - Ex. de conuntos qualitativos são {pequeno, médio, grande} e {matemática, fisíca, quimíca}. Apesar de alguns conjuntos poderem ser ordenados, oeprações matemáticas não podem ser aplicadas \n",
    "    - Atributos quantitativos podem ser contínuos ou discretos"
   ]
  },
  {
   "cell_type": "markdown",
   "id": "7e09796b",
   "metadata": {},
   "source": [
    "<img src='tipos_atributos.png'>"
   ]
  },
  {
   "cell_type": "markdown",
   "id": "de39df13",
   "metadata": {},
   "source": [
    "<font color='red'>  Observe que uma medida quantitativa possui,além do valor numérico, uma unidade, por exemplo, metro. </font>"
   ]
  },
  {
   "cell_type": "markdown",
   "id": "deacdb0d",
   "metadata": {},
   "source": [
    "* Atributos quantitativos podem assumis valores binários, inteiros ou reais. Já os qualitativos são, geralmente, representados, por um número finito de símbolos ou nomes.\n",
    "* Entretanto, alguns atributos categóricos são representados por números, mas nesse caso, não faz sentido a utilização de operadores aritméticos sobre os seus valores"
   ]
  },
  {
   "cell_type": "markdown",
   "id": "ae873196",
   "metadata": {},
   "source": [
    "* **Escala** \n",
    "    - Define as operações que podem ser realizadas sobre os valores de um atributo \n",
    "    - Nominais(quali), ordinais(quali), intervalares(quanti) e racionais(quanti)"
   ]
  },
  {
   "cell_type": "markdown",
   "id": "9bc98d52",
   "metadata": {},
   "source": [
    "* Nominais: \n",
    "    - valores são apenas nomes diferentes, carregando a menor quantidade de informação possível\n",
    "    - não existe relação de ordem \n",
    "    - as operações mais utilizadas são de igualdade e desigualdade\n",
    "    - ex.: nome do paciente, RG, CPF, CEP\n",
    "        \n",
    "* Ordinais:\n",
    "    - refletem uma ordem das categorias representadas\n",
    "    - as operações utilizadas são; >, >=,  <, <=, ==,!=\n",
    "    - ex.: hierarquia militar, avaliações do tempo (frio, morno, quente)\n",
    "        \n",
    "* Intervalares:\n",
    "    - são representados por números que variam dentro de um intervalo\n",
    "    - é possível definir tanto a ordem quanto a diferença em magnitude entre dois valores\n",
    "    - a diferença em magnitude indica a distância que separa dois valores no intevalo de possíveis valores\n",
    "    \n",
    "* Racionais:\n",
    "    - são os que carregam mais informação\n",
    "    - os números tem um significado absoluto, ou seja, faz sentido utilizar a razão entre dois valores "
   ]
  },
  {
   "cell_type": "markdown",
   "id": "70e94df2",
   "metadata": {},
   "source": [
    "### Balanceamento "
   ]
  },
  {
   "cell_type": "markdown",
   "id": "9891e523",
   "metadata": {},
   "source": [
    "<img src='imbalanced.png'>"
   ]
  },
  {
   "cell_type": "markdown",
   "id": "baf911b5",
   "metadata": {},
   "source": [
    "* Uma classe abaixo dos 30% normalmente é um problema de desbalanceamento"
   ]
  },
  {
   "cell_type": "markdown",
   "id": "7c5a98f7",
   "metadata": {},
   "source": [
    "### Dados Estruturados e Não estruturados "
   ]
  },
  {
   "cell_type": "markdown",
   "id": "57866895",
   "metadata": {},
   "source": [
    "<img src='structured_data.jpg'>"
   ]
  },
  {
   "cell_type": "markdown",
   "id": "2f007449",
   "metadata": {},
   "source": [
    "### Batch vs Streaming \n",
    "\n",
    "### Big Data vs Not Big Data"
   ]
  },
  {
   "cell_type": "markdown",
   "id": "ee670541",
   "metadata": {},
   "source": [
    "## Análise Exploratória "
   ]
  },
  {
   "cell_type": "markdown",
   "id": "cd44037b",
   "metadata": {},
   "source": [
    "<img src='bussinessmoments.png'>"
   ]
  },
  {
   "cell_type": "markdown",
   "id": "552b4dd8",
   "metadata": {},
   "source": [
    "<img src='skewess.png'>"
   ]
  },
  {
   "cell_type": "markdown",
   "id": "90ed397e",
   "metadata": {},
   "source": [
    "<img src='kurtosis.png'>"
   ]
  },
  {
   "cell_type": "markdown",
   "id": "185c5b33",
   "metadata": {},
   "source": [
    "* **Representação Gráfica:**\n",
    "    - Univariada:\n",
    "        - Boxplot: identificar outlier e o shape da distribuição\n",
    "        - Histograma: identificar o shape da distribuição e identificar outliers\n",
    "        - Q-Qplot: dados são normais ou não\n",
    "    - Bivariada:\n",
    "        - Scatter plot: correlação (positiva, negativa, não existe), força (moderada, forte, fraca), linear ou nao linear; Outliers\n",
    "    - Multivariada:\n",
    "         - Regressão"
   ]
  },
  {
   "cell_type": "markdown",
   "id": "6d986d6f",
   "metadata": {},
   "source": [
    "## Qualidade dos dados \n",
    "\n",
    "* Identificar outliers\n",
    "* Identificar dados faltantes\n",
    "* Identificar diferentes níveis de granularidade\n",
    "* Validação e confiabilidade\n",
    "* Dados Inconsistentes\n",
    "* Informação errada\n",
    "* Metadados errados "
   ]
  },
  {
   "cell_type": "markdown",
   "id": "273a5b69",
   "metadata": {},
   "source": [
    "# Vamos para a prática? "
   ]
  },
  {
   "cell_type": "markdown",
   "id": "b97b8bef",
   "metadata": {},
   "source": [
    "Objetivo: Prever qual será a tecnologia do momento dadas as perguntas do stackoverflow"
   ]
  },
  {
   "cell_type": "code",
   "execution_count": 33,
   "id": "4472b489",
   "metadata": {},
   "outputs": [],
   "source": [
    "import pandas as pd\n",
    "import numpy as np\n",
    "import matplotlib.pyplot as plt\n",
    "import seaborn as sns\n",
    "import datetime"
   ]
  },
  {
   "cell_type": "code",
   "execution_count": 2,
   "id": "f010175d",
   "metadata": {},
   "outputs": [],
   "source": [
    "answers = pd.read_csv('archive/Answers.csv', encoding='latin-1', nrows=50)\n",
    "questions = pd.read_csv('archive/Questions.csv', encoding='latin-1', nrows=50)\n",
    "tags =  pd.read_csv('archive/Tags.csv', encoding='latin-1', nrows=50)"
   ]
  },
  {
   "cell_type": "markdown",
   "id": "d9419fdf",
   "metadata": {},
   "source": []
  },
  {
   "cell_type": "markdown",
   "id": "927903f7",
   "metadata": {},
   "source": [
    "* todas as respostas tem score?\n",
    "* quais as estatisticas desses scores?\n",
    "* existem respostas dadas pelo mesmo userID?\n",
    "* existem respostas e pergutnas dasdas pelo mesmo userID?\n",
    "* qual a distribuição de datas?\n",
    "* existem perguntas sem resposta?\n",
    "* quais tags mais aparecem?"
   ]
  },
  {
   "cell_type": "markdown",
   "id": "6732868d",
   "metadata": {},
   "source": [
    " * todas as perguntas tem score? "
   ]
  },
  {
   "cell_type": "code",
   "execution_count": 27,
   "id": "639b06bf",
   "metadata": {},
   "outputs": [
    {
     "data": {
      "text/plain": [
       "0"
      ]
     },
     "execution_count": 27,
     "metadata": {},
     "output_type": "execute_result"
    }
   ],
   "source": [
    "questions.Score.isnull().sum()"
   ]
  },
  {
   "cell_type": "markdown",
   "id": "33ae1027",
   "metadata": {},
   "source": [
    "* quais as estatisticas desses scores?"
   ]
  },
  {
   "cell_type": "code",
   "execution_count": 24,
   "id": "09d8ed53",
   "metadata": {
    "scrolled": true
   },
   "outputs": [
    {
     "data": {
      "text/plain": [
       "count      50.000000\n",
       "mean       63.460000\n",
       "std       225.436376\n",
       "min         2.000000\n",
       "25%        14.000000\n",
       "50%        24.000000\n",
       "75%        41.750000\n",
       "max      1614.000000\n",
       "Name: Score, dtype: float64"
      ]
     },
     "execution_count": 24,
     "metadata": {},
     "output_type": "execute_result"
    }
   ],
   "source": [
    "questions.Score.describe()"
   ]
  },
  {
   "cell_type": "markdown",
   "id": "7ec1ae83",
   "metadata": {},
   "source": [
    "* existem perguntas criadas pelo mesmo ownerID?"
   ]
  },
  {
   "cell_type": "code",
   "execution_count": 30,
   "id": "38bf2842",
   "metadata": {},
   "outputs": [
    {
     "data": {
      "text/html": [
       "<div>\n",
       "<style scoped>\n",
       "    .dataframe tbody tr th:only-of-type {\n",
       "        vertical-align: middle;\n",
       "    }\n",
       "\n",
       "    .dataframe tbody tr th {\n",
       "        vertical-align: top;\n",
       "    }\n",
       "\n",
       "    .dataframe thead th {\n",
       "        text-align: right;\n",
       "    }\n",
       "</style>\n",
       "<table border=\"1\" class=\"dataframe\">\n",
       "  <thead>\n",
       "    <tr style=\"text-align: right;\">\n",
       "      <th></th>\n",
       "      <th>Id</th>\n",
       "      <th>OwnerUserId</th>\n",
       "      <th>CreationDate</th>\n",
       "      <th>ClosedDate</th>\n",
       "      <th>Score</th>\n",
       "      <th>Title</th>\n",
       "      <th>Body</th>\n",
       "    </tr>\n",
       "  </thead>\n",
       "  <tbody>\n",
       "    <tr>\n",
       "      <th>7</th>\n",
       "      <td>580</td>\n",
       "      <td>91.0</td>\n",
       "      <td>2008-08-02T23:30:59Z</td>\n",
       "      <td>NaN</td>\n",
       "      <td>21</td>\n",
       "      <td>Deploying SQL Server Databases from Test to Live</td>\n",
       "      <td>&lt;p&gt;I wonder how you guys manage deployment of ...</td>\n",
       "    </tr>\n",
       "    <tr>\n",
       "      <th>16</th>\n",
       "      <td>1300</td>\n",
       "      <td>91.0</td>\n",
       "      <td>2008-08-04T14:55:04Z</td>\n",
       "      <td>NaN</td>\n",
       "      <td>23</td>\n",
       "      <td>Is nAnt still supported and suitable for .net ...</td>\n",
       "      <td>&lt;p&gt;I am using MSBuild to build my stuff. I wan...</td>\n",
       "    </tr>\n",
       "    <tr>\n",
       "      <th>24</th>\n",
       "      <td>2250</td>\n",
       "      <td>383.0</td>\n",
       "      <td>2008-08-05T13:07:40Z</td>\n",
       "      <td>NaN</td>\n",
       "      <td>83</td>\n",
       "      <td>Datatable vs Dataset</td>\n",
       "      <td>&lt;p&gt;I currently use a DataTable to get results ...</td>\n",
       "    </tr>\n",
       "    <tr>\n",
       "      <th>33</th>\n",
       "      <td>2840</td>\n",
       "      <td>383.0</td>\n",
       "      <td>2008-08-05T20:57:00Z</td>\n",
       "      <td>NaN</td>\n",
       "      <td>32</td>\n",
       "      <td>Paging SQL Server 2005 Results</td>\n",
       "      <td>&lt;p&gt;How do I page results in SQL Server 2005?&lt;/...</td>\n",
       "    </tr>\n",
       "    <tr>\n",
       "      <th>35</th>\n",
       "      <td>2970</td>\n",
       "      <td>58.0</td>\n",
       "      <td>2008-08-05T23:55:25Z</td>\n",
       "      <td>2012-03-06T03:17:01Z</td>\n",
       "      <td>17</td>\n",
       "      <td>My website got hacked... What should I do?</td>\n",
       "      <td>&lt;p&gt;My dad called me today and said people goin...</td>\n",
       "    </tr>\n",
       "    <tr>\n",
       "      <th>38</th>\n",
       "      <td>3230</td>\n",
       "      <td>370.0</td>\n",
       "      <td>2008-08-06T09:49:27Z</td>\n",
       "      <td>NaN</td>\n",
       "      <td>25</td>\n",
       "      <td>How do you pack a visual studio c++ project fo...</td>\n",
       "      <td>&lt;p&gt;I'm wondering how to make a release build t...</td>\n",
       "    </tr>\n",
       "    <tr>\n",
       "      <th>41</th>\n",
       "      <td>3470</td>\n",
       "      <td>383.0</td>\n",
       "      <td>2008-08-06T14:36:56Z</td>\n",
       "      <td>NaN</td>\n",
       "      <td>12</td>\n",
       "      <td>How do I Transform Sql Columns into Rows?</td>\n",
       "      <td>&lt;p&gt;I have a very simple problem which requires...</td>\n",
       "    </tr>\n",
       "    <tr>\n",
       "      <th>42</th>\n",
       "      <td>3510</td>\n",
       "      <td>383.0</td>\n",
       "      <td>2008-08-06T14:54:52Z</td>\n",
       "      <td>NaN</td>\n",
       "      <td>16</td>\n",
       "      <td>What does the term \"BODMAS\" mean?</td>\n",
       "      <td>&lt;p&gt;What is BODMAS and why is it useful in prog...</td>\n",
       "    </tr>\n",
       "  </tbody>\n",
       "</table>\n",
       "</div>"
      ],
      "text/plain": [
       "      Id  OwnerUserId          CreationDate            ClosedDate  Score  \\\n",
       "7    580         91.0  2008-08-02T23:30:59Z                   NaN     21   \n",
       "16  1300         91.0  2008-08-04T14:55:04Z                   NaN     23   \n",
       "24  2250        383.0  2008-08-05T13:07:40Z                   NaN     83   \n",
       "33  2840        383.0  2008-08-05T20:57:00Z                   NaN     32   \n",
       "35  2970         58.0  2008-08-05T23:55:25Z  2012-03-06T03:17:01Z     17   \n",
       "38  3230        370.0  2008-08-06T09:49:27Z                   NaN     25   \n",
       "41  3470        383.0  2008-08-06T14:36:56Z                   NaN     12   \n",
       "42  3510        383.0  2008-08-06T14:54:52Z                   NaN     16   \n",
       "\n",
       "                                                Title  \\\n",
       "7    Deploying SQL Server Databases from Test to Live   \n",
       "16  Is nAnt still supported and suitable for .net ...   \n",
       "24                               Datatable vs Dataset   \n",
       "33                     Paging SQL Server 2005 Results   \n",
       "35         My website got hacked... What should I do?   \n",
       "38  How do you pack a visual studio c++ project fo...   \n",
       "41          How do I Transform Sql Columns into Rows?   \n",
       "42                  What does the term \"BODMAS\" mean?   \n",
       "\n",
       "                                                 Body  \n",
       "7   <p>I wonder how you guys manage deployment of ...  \n",
       "16  <p>I am using MSBuild to build my stuff. I wan...  \n",
       "24  <p>I currently use a DataTable to get results ...  \n",
       "33  <p>How do I page results in SQL Server 2005?</...  \n",
       "35  <p>My dad called me today and said people goin...  \n",
       "38  <p>I'm wondering how to make a release build t...  \n",
       "41  <p>I have a very simple problem which requires...  \n",
       "42  <p>What is BODMAS and why is it useful in prog...  "
      ]
     },
     "execution_count": 30,
     "metadata": {},
     "output_type": "execute_result"
    }
   ],
   "source": [
    "questions[questions.OwnerUserId.duplicated()]"
   ]
  },
  {
   "cell_type": "markdown",
   "id": "c49608bc",
   "metadata": {},
   "source": [
    "* qual a distribuição de datas com maior quantidade de pergutnas? "
   ]
  },
  {
   "cell_type": "code",
   "execution_count": 44,
   "id": "bfef02b9",
   "metadata": {},
   "outputs": [],
   "source": [
    "import dateutil.parser\n",
    "\n",
    "def format_data(d):\n",
    "# d = dateutil.parser.parse('2008-09-26T01:51:42.000Z')\n",
    "    return d.strftime('%Y-%m-%d')  #==> '09/26/2008'"
   ]
  },
  {
   "cell_type": "code",
   "execution_count": 48,
   "id": "84dde84e",
   "metadata": {},
   "outputs": [],
   "source": [
    "questions['CreationDay']= pd.to_datetime(questions['CreationDate'], format=('%Y-%m-%dT%H:%M:%S.%f'))\n",
    "questions['CreationDay'] = questions.CreationDay.apply(lambda x: format_data(x))"
   ]
  },
  {
   "cell_type": "code",
   "execution_count": 53,
   "id": "0b683006",
   "metadata": {},
   "outputs": [
    {
     "data": {
      "text/plain": [
       "<AxesSubplot:xlabel='CreationDay'>"
      ]
     },
     "execution_count": 53,
     "metadata": {},
     "output_type": "execute_result"
    },
    {
     "data": {
      "image/png": "[encoded data removed]",
      "text/plain": [
       "<Figure size 432x288 with 1 Axes>"
      ]
     },
     "metadata": {
      "needs_background": "light"
     },
     "output_type": "display_data"
    }
   ],
   "source": [
    "questions.groupby(questions[\"CreationDay\"])['Id'].count().plot(kind=\"bar\")"
   ]
  },
  {
   "cell_type": "code",
   "execution_count": 32,
   "id": "9320d902",
   "metadata": {},
   "outputs": [
    {
     "data": {
      "text/plain": [
       "str"
      ]
     },
     "execution_count": 32,
     "metadata": {},
     "output_type": "execute_result"
    }
   ],
   "source": [
    "\n"
   ]
  },
  {
   "cell_type": "code",
   "execution_count": 3,
   "id": "a4a75e8d",
   "metadata": {
    "scrolled": true
   },
   "outputs": [
    {
     "data": {
      "text/html": [
       "<div>\n",
       "<style scoped>\n",
       "    .dataframe tbody tr th:only-of-type {\n",
       "        vertical-align: middle;\n",
       "    }\n",
       "\n",
       "    .dataframe tbody tr th {\n",
       "        vertical-align: top;\n",
       "    }\n",
       "\n",
       "    .dataframe thead th {\n",
       "        text-align: right;\n",
       "    }\n",
       "</style>\n",
       "<table border=\"1\" class=\"dataframe\">\n",
       "  <thead>\n",
       "    <tr style=\"text-align: right;\">\n",
       "      <th></th>\n",
       "      <th>Id</th>\n",
       "      <th>OwnerUserId</th>\n",
       "      <th>CreationDate</th>\n",
       "      <th>ParentId</th>\n",
       "      <th>Score</th>\n",
       "      <th>Body</th>\n",
       "    </tr>\n",
       "  </thead>\n",
       "  <tbody>\n",
       "    <tr>\n",
       "      <th>0</th>\n",
       "      <td>92</td>\n",
       "      <td>61.0</td>\n",
       "      <td>2008-08-01T14:45:37Z</td>\n",
       "      <td>90</td>\n",
       "      <td>13</td>\n",
       "      <td>&lt;p&gt;&lt;a href=\"http://svnbook.red-bean.com/\"&gt;Vers...</td>\n",
       "    </tr>\n",
       "    <tr>\n",
       "      <th>1</th>\n",
       "      <td>124</td>\n",
       "      <td>26.0</td>\n",
       "      <td>2008-08-01T16:09:47Z</td>\n",
       "      <td>80</td>\n",
       "      <td>12</td>\n",
       "      <td>&lt;p&gt;I wound up using this. It is a kind of a ha...</td>\n",
       "    </tr>\n",
       "    <tr>\n",
       "      <th>2</th>\n",
       "      <td>199</td>\n",
       "      <td>50.0</td>\n",
       "      <td>2008-08-01T19:36:46Z</td>\n",
       "      <td>180</td>\n",
       "      <td>1</td>\n",
       "      <td>&lt;p&gt;I've read somewhere the human eye can't dis...</td>\n",
       "    </tr>\n",
       "    <tr>\n",
       "      <th>3</th>\n",
       "      <td>269</td>\n",
       "      <td>91.0</td>\n",
       "      <td>2008-08-01T23:49:57Z</td>\n",
       "      <td>260</td>\n",
       "      <td>4</td>\n",
       "      <td>&lt;p&gt;Yes, I thought about that, but I soon figur...</td>\n",
       "    </tr>\n",
       "    <tr>\n",
       "      <th>4</th>\n",
       "      <td>307</td>\n",
       "      <td>49.0</td>\n",
       "      <td>2008-08-02T01:49:46Z</td>\n",
       "      <td>260</td>\n",
       "      <td>28</td>\n",
       "      <td>&lt;p&gt;&lt;a href=\"http://www.codeproject.com/Article...</td>\n",
       "    </tr>\n",
       "  </tbody>\n",
       "</table>\n",
       "</div>"
      ],
      "text/plain": [
       "    Id  OwnerUserId          CreationDate  ParentId  Score  \\\n",
       "0   92         61.0  2008-08-01T14:45:37Z        90     13   \n",
       "1  124         26.0  2008-08-01T16:09:47Z        80     12   \n",
       "2  199         50.0  2008-08-01T19:36:46Z       180      1   \n",
       "3  269         91.0  2008-08-01T23:49:57Z       260      4   \n",
       "4  307         49.0  2008-08-02T01:49:46Z       260     28   \n",
       "\n",
       "                                                Body  \n",
       "0  <p><a href=\"http://svnbook.red-bean.com/\">Vers...  \n",
       "1  <p>I wound up using this. It is a kind of a ha...  \n",
       "2  <p>I've read somewhere the human eye can't dis...  \n",
       "3  <p>Yes, I thought about that, but I soon figur...  \n",
       "4  <p><a href=\"http://www.codeproject.com/Article...  "
      ]
     },
     "execution_count": 3,
     "metadata": {},
     "output_type": "execute_result"
    }
   ],
   "source": [
    "answers.head()"
   ]
  },
  {
   "cell_type": "code",
   "execution_count": 4,
   "id": "9c7a064b",
   "metadata": {
    "scrolled": true
   },
   "outputs": [
    {
     "data": {
      "text/html": [
       "<div>\n",
       "<style scoped>\n",
       "    .dataframe tbody tr th:only-of-type {\n",
       "        vertical-align: middle;\n",
       "    }\n",
       "\n",
       "    .dataframe tbody tr th {\n",
       "        vertical-align: top;\n",
       "    }\n",
       "\n",
       "    .dataframe thead th {\n",
       "        text-align: right;\n",
       "    }\n",
       "</style>\n",
       "<table border=\"1\" class=\"dataframe\">\n",
       "  <thead>\n",
       "    <tr style=\"text-align: right;\">\n",
       "      <th></th>\n",
       "      <th>Id</th>\n",
       "      <th>OwnerUserId</th>\n",
       "      <th>CreationDate</th>\n",
       "      <th>ClosedDate</th>\n",
       "      <th>Score</th>\n",
       "      <th>Title</th>\n",
       "      <th>Body</th>\n",
       "    </tr>\n",
       "  </thead>\n",
       "  <tbody>\n",
       "    <tr>\n",
       "      <th>0</th>\n",
       "      <td>80</td>\n",
       "      <td>26.0</td>\n",
       "      <td>2008-08-01T13:57:07Z</td>\n",
       "      <td>NaN</td>\n",
       "      <td>26</td>\n",
       "      <td>SQLStatement.execute() - multiple queries in o...</td>\n",
       "      <td>&lt;p&gt;I've written a database generation script i...</td>\n",
       "    </tr>\n",
       "    <tr>\n",
       "      <th>1</th>\n",
       "      <td>90</td>\n",
       "      <td>58.0</td>\n",
       "      <td>2008-08-01T14:41:24Z</td>\n",
       "      <td>2012-12-26T03:45:49Z</td>\n",
       "      <td>144</td>\n",
       "      <td>Good branching and merging tutorials for Torto...</td>\n",
       "      <td>&lt;p&gt;Are there any really good tutorials explain...</td>\n",
       "    </tr>\n",
       "    <tr>\n",
       "      <th>2</th>\n",
       "      <td>120</td>\n",
       "      <td>83.0</td>\n",
       "      <td>2008-08-01T15:50:08Z</td>\n",
       "      <td>NaN</td>\n",
       "      <td>21</td>\n",
       "      <td>ASP.NET Site Maps</td>\n",
       "      <td>&lt;p&gt;Has anyone got experience creating &lt;strong&gt;...</td>\n",
       "    </tr>\n",
       "    <tr>\n",
       "      <th>3</th>\n",
       "      <td>180</td>\n",
       "      <td>2089740.0</td>\n",
       "      <td>2008-08-01T18:42:19Z</td>\n",
       "      <td>NaN</td>\n",
       "      <td>53</td>\n",
       "      <td>Function for creating color wheels</td>\n",
       "      <td>&lt;p&gt;This is something I've pseudo-solved many t...</td>\n",
       "    </tr>\n",
       "    <tr>\n",
       "      <th>4</th>\n",
       "      <td>260</td>\n",
       "      <td>91.0</td>\n",
       "      <td>2008-08-01T23:22:08Z</td>\n",
       "      <td>NaN</td>\n",
       "      <td>49</td>\n",
       "      <td>Adding scripting functionality to .NET applica...</td>\n",
       "      <td>&lt;p&gt;I have a little game written in C#. It uses...</td>\n",
       "    </tr>\n",
       "  </tbody>\n",
       "</table>\n",
       "</div>"
      ],
      "text/plain": [
       "    Id  OwnerUserId          CreationDate            ClosedDate  Score  \\\n",
       "0   80         26.0  2008-08-01T13:57:07Z                   NaN     26   \n",
       "1   90         58.0  2008-08-01T14:41:24Z  2012-12-26T03:45:49Z    144   \n",
       "2  120         83.0  2008-08-01T15:50:08Z                   NaN     21   \n",
       "3  180    2089740.0  2008-08-01T18:42:19Z                   NaN     53   \n",
       "4  260         91.0  2008-08-01T23:22:08Z                   NaN     49   \n",
       "\n",
       "                                               Title  \\\n",
       "0  SQLStatement.execute() - multiple queries in o...   \n",
       "1  Good branching and merging tutorials for Torto...   \n",
       "2                                  ASP.NET Site Maps   \n",
       "3                 Function for creating color wheels   \n",
       "4  Adding scripting functionality to .NET applica...   \n",
       "\n",
       "                                                Body  \n",
       "0  <p>I've written a database generation script i...  \n",
       "1  <p>Are there any really good tutorials explain...  \n",
       "2  <p>Has anyone got experience creating <strong>...  \n",
       "3  <p>This is something I've pseudo-solved many t...  \n",
       "4  <p>I have a little game written in C#. It uses...  "
      ]
     },
     "execution_count": 4,
     "metadata": {},
     "output_type": "execute_result"
    }
   ],
   "source": [
    "questions.head()"
   ]
  },
  {
   "cell_type": "code",
   "execution_count": 23,
   "id": "58dcb174",
   "metadata": {
    "collapsed": true
   },
   "outputs": [
    {
     "data": {
      "text/plain": [
       "0     13\n",
       "1     12\n",
       "2      1\n",
       "3      4\n",
       "4     28\n",
       "5     19\n",
       "6      6\n",
       "7      5\n",
       "8      8\n",
       "9      3\n",
       "10    21\n",
       "11    13\n",
       "12    17\n",
       "13     2\n",
       "14     3\n",
       "15     1\n",
       "16    69\n",
       "17     4\n",
       "18     0\n",
       "19     3\n",
       "20     4\n",
       "21     0\n",
       "22    15\n",
       "23    26\n",
       "24     9\n",
       "25     2\n",
       "26    32\n",
       "27     5\n",
       "28     1\n",
       "29    11\n",
       "30     7\n",
       "31     2\n",
       "32     2\n",
       "33     2\n",
       "34     3\n",
       "35    13\n",
       "36     3\n",
       "37     1\n",
       "38     7\n",
       "39     2\n",
       "40    11\n",
       "41     3\n",
       "42     4\n",
       "43     0\n",
       "44     2\n",
       "45    16\n",
       "46     2\n",
       "47     5\n",
       "48     0\n",
       "49     6\n",
       "Name: Score, dtype: int64"
      ]
     },
     "execution_count": 23,
     "metadata": {},
     "output_type": "execute_result"
    }
   ],
   "source": [
    "answers.Score"
   ]
  },
  {
   "cell_type": "code",
   "execution_count": 22,
   "id": "7878fe46",
   "metadata": {
    "scrolled": true
   },
   "outputs": [
    {
     "data": {
      "text/html": [
       "<div>\n",
       "<style scoped>\n",
       "    .dataframe tbody tr th:only-of-type {\n",
       "        vertical-align: middle;\n",
       "    }\n",
       "\n",
       "    .dataframe tbody tr th {\n",
       "        vertical-align: top;\n",
       "    }\n",
       "\n",
       "    .dataframe thead th {\n",
       "        text-align: right;\n",
       "    }\n",
       "</style>\n",
       "<table border=\"1\" class=\"dataframe\">\n",
       "  <thead>\n",
       "    <tr style=\"text-align: right;\">\n",
       "      <th></th>\n",
       "      <th>Id</th>\n",
       "      <th>OwnerUserId</th>\n",
       "      <th>CreationDate</th>\n",
       "      <th>ClosedDate</th>\n",
       "      <th>Score</th>\n",
       "      <th>Title</th>\n",
       "      <th>Body</th>\n",
       "    </tr>\n",
       "  </thead>\n",
       "  <tbody>\n",
       "    <tr>\n",
       "      <th>2</th>\n",
       "      <td>120</td>\n",
       "      <td>83.0</td>\n",
       "      <td>2008-08-01T15:50:08Z</td>\n",
       "      <td>NaN</td>\n",
       "      <td>21</td>\n",
       "      <td>ASP.NET Site Maps</td>\n",
       "      <td>&lt;p&gt;Has anyone got experience creating &lt;strong&gt;...</td>\n",
       "    </tr>\n",
       "    <tr>\n",
       "      <th>4</th>\n",
       "      <td>260</td>\n",
       "      <td>91.0</td>\n",
       "      <td>2008-08-01T23:22:08Z</td>\n",
       "      <td>NaN</td>\n",
       "      <td>49</td>\n",
       "      <td>Adding scripting functionality to .NET applica...</td>\n",
       "      <td>&lt;p&gt;I have a little game written in C#. It uses...</td>\n",
       "    </tr>\n",
       "    <tr>\n",
       "      <th>14</th>\n",
       "      <td>1160</td>\n",
       "      <td>120.0</td>\n",
       "      <td>2008-08-04T11:37:24Z</td>\n",
       "      <td>NaN</td>\n",
       "      <td>36</td>\n",
       "      <td>Use SVN Revision to label build in CCNET</td>\n",
       "      <td>&lt;p&gt;I am using CCNET on a sample project with S...</td>\n",
       "    </tr>\n",
       "    <tr>\n",
       "      <th>16</th>\n",
       "      <td>1300</td>\n",
       "      <td>91.0</td>\n",
       "      <td>2008-08-04T14:55:04Z</td>\n",
       "      <td>NaN</td>\n",
       "      <td>23</td>\n",
       "      <td>Is nAnt still supported and suitable for .net ...</td>\n",
       "      <td>&lt;p&gt;I am using MSBuild to build my stuff. I wan...</td>\n",
       "    </tr>\n",
       "    <tr>\n",
       "      <th>20</th>\n",
       "      <td>1760</td>\n",
       "      <td>234.0</td>\n",
       "      <td>2008-08-05T00:51:49Z</td>\n",
       "      <td>NaN</td>\n",
       "      <td>51</td>\n",
       "      <td>.NET Unit Testing packages?</td>\n",
       "      <td>&lt;p&gt;Getting back into a bit more .NET after a f...</td>\n",
       "    </tr>\n",
       "    <tr>\n",
       "      <th>28</th>\n",
       "      <td>2550</td>\n",
       "      <td>308.0</td>\n",
       "      <td>2008-08-05T16:39:04Z</td>\n",
       "      <td>NaN</td>\n",
       "      <td>16</td>\n",
       "      <td>What are effective options for embedding video...</td>\n",
       "      <td>&lt;p&gt;A quick glance at the present-day internet ...</td>\n",
       "    </tr>\n",
       "    <tr>\n",
       "      <th>47</th>\n",
       "      <td>4170</td>\n",
       "      <td>NaN</td>\n",
       "      <td>2008-08-07T00:25:03Z</td>\n",
       "      <td>NaN</td>\n",
       "      <td>9</td>\n",
       "      <td>How to learn ADO.NET</td>\n",
       "      <td>&lt;p&gt;I need to learn ADO.NET to build applicatio...</td>\n",
       "    </tr>\n",
       "    <tr>\n",
       "      <th>48</th>\n",
       "      <td>4230</td>\n",
       "      <td>392.0</td>\n",
       "      <td>2008-08-07T00:54:31Z</td>\n",
       "      <td>NaN</td>\n",
       "      <td>34</td>\n",
       "      <td>The Difference Between a DataGrid and a GridVi...</td>\n",
       "      <td>&lt;p&gt;I've been doing ASP.NET development for a l...</td>\n",
       "    </tr>\n",
       "    <tr>\n",
       "      <th>49</th>\n",
       "      <td>4320</td>\n",
       "      <td>1525924.0</td>\n",
       "      <td>2008-08-07T02:41:24Z</td>\n",
       "      <td>NaN</td>\n",
       "      <td>2</td>\n",
       "      <td>ASP.Net 2.0 Application without Business Logic...</td>\n",
       "      <td>&lt;p&gt;Is it \"acceptable\" to have an &lt;strong&gt;ASP.N...</td>\n",
       "    </tr>\n",
       "  </tbody>\n",
       "</table>\n",
       "</div>"
      ],
      "text/plain": [
       "      Id  OwnerUserId          CreationDate ClosedDate  Score  \\\n",
       "2    120         83.0  2008-08-01T15:50:08Z        NaN     21   \n",
       "4    260         91.0  2008-08-01T23:22:08Z        NaN     49   \n",
       "14  1160        120.0  2008-08-04T11:37:24Z        NaN     36   \n",
       "16  1300         91.0  2008-08-04T14:55:04Z        NaN     23   \n",
       "20  1760        234.0  2008-08-05T00:51:49Z        NaN     51   \n",
       "28  2550        308.0  2008-08-05T16:39:04Z        NaN     16   \n",
       "47  4170          NaN  2008-08-07T00:25:03Z        NaN      9   \n",
       "48  4230        392.0  2008-08-07T00:54:31Z        NaN     34   \n",
       "49  4320    1525924.0  2008-08-07T02:41:24Z        NaN      2   \n",
       "\n",
       "                                                Title  \\\n",
       "2                                   ASP.NET Site Maps   \n",
       "4   Adding scripting functionality to .NET applica...   \n",
       "14           Use SVN Revision to label build in CCNET   \n",
       "16  Is nAnt still supported and suitable for .net ...   \n",
       "20                        .NET Unit Testing packages?   \n",
       "28  What are effective options for embedding video...   \n",
       "47                               How to learn ADO.NET   \n",
       "48  The Difference Between a DataGrid and a GridVi...   \n",
       "49  ASP.Net 2.0 Application without Business Logic...   \n",
       "\n",
       "                                                 Body  \n",
       "2   <p>Has anyone got experience creating <strong>...  \n",
       "4   <p>I have a little game written in C#. It uses...  \n",
       "14  <p>I am using CCNET on a sample project with S...  \n",
       "16  <p>I am using MSBuild to build my stuff. I wan...  \n",
       "20  <p>Getting back into a bit more .NET after a f...  \n",
       "28  <p>A quick glance at the present-day internet ...  \n",
       "47  <p>I need to learn ADO.NET to build applicatio...  \n",
       "48  <p>I've been doing ASP.NET development for a l...  \n",
       "49  <p>Is it \"acceptable\" to have an <strong>ASP.N...  "
      ]
     },
     "execution_count": 22,
     "metadata": {},
     "output_type": "execute_result"
    }
   ],
   "source": [
    "questions.loc[questions['Title'].str.contains(\".NET\", case=False)]"
   ]
  },
  {
   "cell_type": "code",
   "execution_count": 55,
   "id": "8bdf9a4a",
   "metadata": {},
   "outputs": [
    {
     "data": {
      "text/html": [
       "<div>\n",
       "<style scoped>\n",
       "    .dataframe tbody tr th:only-of-type {\n",
       "        vertical-align: middle;\n",
       "    }\n",
       "\n",
       "    .dataframe tbody tr th {\n",
       "        vertical-align: top;\n",
       "    }\n",
       "\n",
       "    .dataframe thead th {\n",
       "        text-align: right;\n",
       "    }\n",
       "</style>\n",
       "<table border=\"1\" class=\"dataframe\">\n",
       "  <thead>\n",
       "    <tr style=\"text-align: right;\">\n",
       "      <th></th>\n",
       "      <th>Id_x</th>\n",
       "      <th>OwnerUserId_x</th>\n",
       "      <th>CreationDate_x</th>\n",
       "      <th>ClosedDate</th>\n",
       "      <th>Score_x</th>\n",
       "      <th>Title</th>\n",
       "      <th>Body_x</th>\n",
       "      <th>CreationDay</th>\n",
       "      <th>Id_y</th>\n",
       "      <th>OwnerUserId_y</th>\n",
       "      <th>CreationDate_y</th>\n",
       "      <th>ParentId</th>\n",
       "      <th>Score_y</th>\n",
       "      <th>Body_y</th>\n",
       "    </tr>\n",
       "  </thead>\n",
       "  <tbody>\n",
       "    <tr>\n",
       "      <th>0</th>\n",
       "      <td>80</td>\n",
       "      <td>26.0</td>\n",
       "      <td>2008-08-01T13:57:07Z</td>\n",
       "      <td>NaN</td>\n",
       "      <td>26</td>\n",
       "      <td>SQLStatement.execute() - multiple queries in o...</td>\n",
       "      <td>&lt;p&gt;I've written a database generation script i...</td>\n",
       "      <td>2008-08-01</td>\n",
       "      <td>124.0</td>\n",
       "      <td>26.0</td>\n",
       "      <td>2008-08-01T16:09:47Z</td>\n",
       "      <td>80.0</td>\n",
       "      <td>12.0</td>\n",
       "      <td>&lt;p&gt;I wound up using this. It is a kind of a ha...</td>\n",
       "    </tr>\n",
       "    <tr>\n",
       "      <th>1</th>\n",
       "      <td>90</td>\n",
       "      <td>58.0</td>\n",
       "      <td>2008-08-01T14:41:24Z</td>\n",
       "      <td>2012-12-26T03:45:49Z</td>\n",
       "      <td>144</td>\n",
       "      <td>Good branching and merging tutorials for Torto...</td>\n",
       "      <td>&lt;p&gt;Are there any really good tutorials explain...</td>\n",
       "      <td>2008-08-01</td>\n",
       "      <td>92.0</td>\n",
       "      <td>61.0</td>\n",
       "      <td>2008-08-01T14:45:37Z</td>\n",
       "      <td>90.0</td>\n",
       "      <td>13.0</td>\n",
       "      <td>&lt;p&gt;&lt;a href=\"http://svnbook.red-bean.com/\"&gt;Vers...</td>\n",
       "    </tr>\n",
       "    <tr>\n",
       "      <th>2</th>\n",
       "      <td>120</td>\n",
       "      <td>83.0</td>\n",
       "      <td>2008-08-01T15:50:08Z</td>\n",
       "      <td>NaN</td>\n",
       "      <td>21</td>\n",
       "      <td>ASP.NET Site Maps</td>\n",
       "      <td>&lt;p&gt;Has anyone got experience creating &lt;strong&gt;...</td>\n",
       "      <td>2008-08-01</td>\n",
       "      <td>NaN</td>\n",
       "      <td>NaN</td>\n",
       "      <td>NaN</td>\n",
       "      <td>NaN</td>\n",
       "      <td>NaN</td>\n",
       "      <td>NaN</td>\n",
       "    </tr>\n",
       "    <tr>\n",
       "      <th>3</th>\n",
       "      <td>180</td>\n",
       "      <td>2089740.0</td>\n",
       "      <td>2008-08-01T18:42:19Z</td>\n",
       "      <td>NaN</td>\n",
       "      <td>53</td>\n",
       "      <td>Function for creating color wheels</td>\n",
       "      <td>&lt;p&gt;This is something I've pseudo-solved many t...</td>\n",
       "      <td>2008-08-01</td>\n",
       "      <td>199.0</td>\n",
       "      <td>50.0</td>\n",
       "      <td>2008-08-01T19:36:46Z</td>\n",
       "      <td>180.0</td>\n",
       "      <td>1.0</td>\n",
       "      <td>&lt;p&gt;I've read somewhere the human eye can't dis...</td>\n",
       "    </tr>\n",
       "    <tr>\n",
       "      <th>4</th>\n",
       "      <td>180</td>\n",
       "      <td>2089740.0</td>\n",
       "      <td>2008-08-01T18:42:19Z</td>\n",
       "      <td>NaN</td>\n",
       "      <td>53</td>\n",
       "      <td>Function for creating color wheels</td>\n",
       "      <td>&lt;p&gt;This is something I've pseudo-solved many t...</td>\n",
       "      <td>2008-08-01</td>\n",
       "      <td>529.0</td>\n",
       "      <td>86.0</td>\n",
       "      <td>2008-08-02T18:16:07Z</td>\n",
       "      <td>180.0</td>\n",
       "      <td>3.0</td>\n",
       "      <td>&lt;p&gt;Isn't it also a factor which order you set ...</td>\n",
       "    </tr>\n",
       "    <tr>\n",
       "      <th>...</th>\n",
       "      <td>...</td>\n",
       "      <td>...</td>\n",
       "      <td>...</td>\n",
       "      <td>...</td>\n",
       "      <td>...</td>\n",
       "      <td>...</td>\n",
       "      <td>...</td>\n",
       "      <td>...</td>\n",
       "      <td>...</td>\n",
       "      <td>...</td>\n",
       "      <td>...</td>\n",
       "      <td>...</td>\n",
       "      <td>...</td>\n",
       "      <td>...</td>\n",
       "    </tr>\n",
       "    <tr>\n",
       "      <th>77</th>\n",
       "      <td>4080</td>\n",
       "      <td>235.0</td>\n",
       "      <td>2008-08-06T22:45:27Z</td>\n",
       "      <td>2012-05-05T13:39:59Z</td>\n",
       "      <td>92</td>\n",
       "      <td>What code analysis tools do you use for your J...</td>\n",
       "      <td>&lt;p&gt;What code analysis tools do you use on your...</td>\n",
       "      <td>2008-08-06</td>\n",
       "      <td>NaN</td>\n",
       "      <td>NaN</td>\n",
       "      <td>NaN</td>\n",
       "      <td>NaN</td>\n",
       "      <td>NaN</td>\n",
       "      <td>NaN</td>\n",
       "    </tr>\n",
       "    <tr>\n",
       "      <th>78</th>\n",
       "      <td>4110</td>\n",
       "      <td>369.0</td>\n",
       "      <td>2008-08-06T23:19:50Z</td>\n",
       "      <td>2014-12-30T11:43:01Z</td>\n",
       "      <td>7</td>\n",
       "      <td>What program can I use to generate diagrams of...</td>\n",
       "      <td>&lt;p&gt;I've been tasked with redesigning part of a...</td>\n",
       "      <td>2008-08-06</td>\n",
       "      <td>NaN</td>\n",
       "      <td>NaN</td>\n",
       "      <td>NaN</td>\n",
       "      <td>NaN</td>\n",
       "      <td>NaN</td>\n",
       "      <td>NaN</td>\n",
       "    </tr>\n",
       "    <tr>\n",
       "      <th>79</th>\n",
       "      <td>4170</td>\n",
       "      <td>NaN</td>\n",
       "      <td>2008-08-07T00:25:03Z</td>\n",
       "      <td>NaN</td>\n",
       "      <td>9</td>\n",
       "      <td>How to learn ADO.NET</td>\n",
       "      <td>&lt;p&gt;I need to learn ADO.NET to build applicatio...</td>\n",
       "      <td>2008-08-07</td>\n",
       "      <td>NaN</td>\n",
       "      <td>NaN</td>\n",
       "      <td>NaN</td>\n",
       "      <td>NaN</td>\n",
       "      <td>NaN</td>\n",
       "      <td>NaN</td>\n",
       "    </tr>\n",
       "    <tr>\n",
       "      <th>80</th>\n",
       "      <td>4230</td>\n",
       "      <td>392.0</td>\n",
       "      <td>2008-08-07T00:54:31Z</td>\n",
       "      <td>NaN</td>\n",
       "      <td>34</td>\n",
       "      <td>The Difference Between a DataGrid and a GridVi...</td>\n",
       "      <td>&lt;p&gt;I've been doing ASP.NET development for a l...</td>\n",
       "      <td>2008-08-07</td>\n",
       "      <td>NaN</td>\n",
       "      <td>NaN</td>\n",
       "      <td>NaN</td>\n",
       "      <td>NaN</td>\n",
       "      <td>NaN</td>\n",
       "      <td>NaN</td>\n",
       "    </tr>\n",
       "    <tr>\n",
       "      <th>81</th>\n",
       "      <td>4320</td>\n",
       "      <td>1525924.0</td>\n",
       "      <td>2008-08-07T02:41:24Z</td>\n",
       "      <td>NaN</td>\n",
       "      <td>2</td>\n",
       "      <td>ASP.Net 2.0 Application without Business Logic...</td>\n",
       "      <td>&lt;p&gt;Is it \"acceptable\" to have an &lt;strong&gt;ASP.N...</td>\n",
       "      <td>2008-08-07</td>\n",
       "      <td>NaN</td>\n",
       "      <td>NaN</td>\n",
       "      <td>NaN</td>\n",
       "      <td>NaN</td>\n",
       "      <td>NaN</td>\n",
       "      <td>NaN</td>\n",
       "    </tr>\n",
       "  </tbody>\n",
       "</table>\n",
       "<p>82 rows × 14 columns</p>\n",
       "</div>"
      ],
      "text/plain": [
       "    Id_x  OwnerUserId_x        CreationDate_x            ClosedDate  Score_x  \\\n",
       "0     80           26.0  2008-08-01T13:57:07Z                   NaN       26   \n",
       "1     90           58.0  2008-08-01T14:41:24Z  2012-12-26T03:45:49Z      144   \n",
       "2    120           83.0  2008-08-01T15:50:08Z                   NaN       21   \n",
       "3    180      2089740.0  2008-08-01T18:42:19Z                   NaN       53   \n",
       "4    180      2089740.0  2008-08-01T18:42:19Z                   NaN       53   \n",
       "..   ...            ...                   ...                   ...      ...   \n",
       "77  4080          235.0  2008-08-06T22:45:27Z  2012-05-05T13:39:59Z       92   \n",
       "78  4110          369.0  2008-08-06T23:19:50Z  2014-12-30T11:43:01Z        7   \n",
       "79  4170            NaN  2008-08-07T00:25:03Z                   NaN        9   \n",
       "80  4230          392.0  2008-08-07T00:54:31Z                   NaN       34   \n",
       "81  4320      1525924.0  2008-08-07T02:41:24Z                   NaN        2   \n",
       "\n",
       "                                                Title  \\\n",
       "0   SQLStatement.execute() - multiple queries in o...   \n",
       "1   Good branching and merging tutorials for Torto...   \n",
       "2                                   ASP.NET Site Maps   \n",
       "3                  Function for creating color wheels   \n",
       "4                  Function for creating color wheels   \n",
       "..                                                ...   \n",
       "77  What code analysis tools do you use for your J...   \n",
       "78  What program can I use to generate diagrams of...   \n",
       "79                               How to learn ADO.NET   \n",
       "80  The Difference Between a DataGrid and a GridVi...   \n",
       "81  ASP.Net 2.0 Application without Business Logic...   \n",
       "\n",
       "                                               Body_x CreationDay   Id_y  \\\n",
       "0   <p>I've written a database generation script i...  2008-08-01  124.0   \n",
       "1   <p>Are there any really good tutorials explain...  2008-08-01   92.0   \n",
       "2   <p>Has anyone got experience creating <strong>...  2008-08-01    NaN   \n",
       "3   <p>This is something I've pseudo-solved many t...  2008-08-01  199.0   \n",
       "4   <p>This is something I've pseudo-solved many t...  2008-08-01  529.0   \n",
       "..                                                ...         ...    ...   \n",
       "77  <p>What code analysis tools do you use on your...  2008-08-06    NaN   \n",
       "78  <p>I've been tasked with redesigning part of a...  2008-08-06    NaN   \n",
       "79  <p>I need to learn ADO.NET to build applicatio...  2008-08-07    NaN   \n",
       "80  <p>I've been doing ASP.NET development for a l...  2008-08-07    NaN   \n",
       "81  <p>Is it \"acceptable\" to have an <strong>ASP.N...  2008-08-07    NaN   \n",
       "\n",
       "    OwnerUserId_y        CreationDate_y  ParentId  Score_y  \\\n",
       "0            26.0  2008-08-01T16:09:47Z      80.0     12.0   \n",
       "1            61.0  2008-08-01T14:45:37Z      90.0     13.0   \n",
       "2             NaN                   NaN       NaN      NaN   \n",
       "3            50.0  2008-08-01T19:36:46Z     180.0      1.0   \n",
       "4            86.0  2008-08-02T18:16:07Z     180.0      3.0   \n",
       "..            ...                   ...       ...      ...   \n",
       "77            NaN                   NaN       NaN      NaN   \n",
       "78            NaN                   NaN       NaN      NaN   \n",
       "79            NaN                   NaN       NaN      NaN   \n",
       "80            NaN                   NaN       NaN      NaN   \n",
       "81            NaN                   NaN       NaN      NaN   \n",
       "\n",
       "                                               Body_y  \n",
       "0   <p>I wound up using this. It is a kind of a ha...  \n",
       "1   <p><a href=\"http://svnbook.red-bean.com/\">Vers...  \n",
       "2                                                 NaN  \n",
       "3   <p>I've read somewhere the human eye can't dis...  \n",
       "4   <p>Isn't it also a factor which order you set ...  \n",
       "..                                                ...  \n",
       "77                                                NaN  \n",
       "78                                                NaN  \n",
       "79                                                NaN  \n",
       "80                                                NaN  \n",
       "81                                                NaN  \n",
       "\n",
       "[82 rows x 14 columns]"
      ]
     },
     "execution_count": 55,
     "metadata": {},
     "output_type": "execute_result"
    }
   ],
   "source": [
    "pd.merge(questions,answers, how='left', left_on='Id', right_on='ParentId')"
   ]
  }
 ],
 "metadata": {
  "hide_input": false,
  "kernelspec": {
   "display_name": "Python 3",
   "language": "python",
   "name": "python3"
  },
  "language_info": {
   "codemirror_mode": {
    "name": "ipython",
    "version": 3
   },
   "file_extension": ".py",
   "mimetype": "text/x-python",
   "name": "python",
   "nbconvert_exporter": "python",
   "pygments_lexer": "ipython3",
   "version": "3.8.8"
  },
  "toc": {
   "base_numbering": 1,
   "nav_menu": {},
   "number_sections": true,
   "sideBar": true,
   "skip_h1_title": false,
   "title_cell": "Table of Contents",
   "title_sidebar": "Contents",
   "toc_cell": false,
   "toc_position": {},
   "toc_section_display": true,
   "toc_window_display": false
  }
 },
 "nbformat": 4,
 "nbformat_minor": 5
}
