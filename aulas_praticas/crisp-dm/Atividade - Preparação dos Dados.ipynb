{
 "cells": [
  {
   "cell_type": "markdown",
   "id": "d35424eb",
   "metadata": {},
   "source": [
    "# Preparação dos Dados "
   ]
  },
  {
   "cell_type": "markdown",
   "id": "34112785",
   "metadata": {},
   "source": [
    "Essa fase incluí 5 tarefas:\n",
    "    \n",
    "* Selecionar os dados\n",
    "* Limpar os dados\n",
    "* Construir os dados\n",
    "* Integrar os dados\n",
    "* Formatar os dados"
   ]
  },
  {
   "cell_type": "markdown",
   "id": "059a6613",
   "metadata": {},
   "source": [
    "## Selecionar os dados"
   ]
  },
  {
   "cell_type": "markdown",
   "id": "9dee69b4",
   "metadata": {},
   "source": [
    "Agora você decidirá qual parte dos dados que você possui será realmente usada para mineração de dados.\n",
    "\n",
    "A entrega para esta tarefa é a justificativa para inclusão e exclusão. Nele, você explicará quais dados serão e não serão usados para trabalhos adicionais de mineração de dados.\n",
    "\n",
    "Você explicará os motivos para incluir ou excluir cada parte dos dados que possui, com base na relevância para seus objetivos, qualidade dos dados e problemas técnicos, como limites para o número de campos ou linhas que suas ferramentas podem manipular ou a adequação dos formatos de dados às suas necessidades. Um dos critérios na seleção dos dados é que eles devem ser relevantes para a meta de ciência de dados que foi identificada na fase de Entendimento de Negócios."
   ]
  },
  {
   "cell_type": "markdown",
   "id": "e3d98902",
   "metadata": {},
   "source": [
    "* Quais as bases podem ser usadas aqui?\n",
    "* Quais variáveis fazem sentido ser usadas? "
   ]
  },
  {
   "cell_type": "markdown",
   "id": "535c981c",
   "metadata": {},
   "source": [
    "## Limpar os dados "
   ]
  },
  {
   "cell_type": "markdown",
   "id": "ea4c8970",
   "metadata": {},
   "source": [
    "É improvável que os dados que você escolheu usar sejam perfeitamente limpos (sem erros). Você fará alterações, talvez rastreando fontes para fazer correções de dados específicas, excluindo alguns casos ou células individuais (itens de dados) ou substituindo alguns itens de dados por valores padrão ou substituições selecionadas por uma técnica de modelagem mais sofisticada. Você pode optar por usar apenas subconjuntos de dados para todos ou alguns de seus trabalhos de mineração de dados.\n",
    "\n",
    "O resultado dessa tarefa é o relatório de limpeza de dados, que documenta, em detalhes excruciantes, todas as decisões e ações usadas para limpar seus dados. Este relatório deve abranger e referir-se a cada problema de qualidade de dados que foi identificado na tarefa de verificação de qualidade de dados na fase de compreensão de dados do processo. Seu relatório também deve abordar o impacto potencial nos resultados das escolhas feitas durante a limpeza de dados."
   ]
  },
  {
   "cell_type": "markdown",
   "id": "b1d2d4eb",
   "metadata": {},
   "source": [
    "* Existem outliers? Devem ser removidos?\n",
    "* Existem stopwords? \n",
    "* Existem lixos nos textos (emojis e caracteres especiais)? \n",
    "* Existem dados faltantes? E redundantes?\n",
    "* Existem dados que não fazem sentido (sem chaves ou valores que não conversam entre si?)?\n",
    "* Lematização e Steaming "
   ]
  },
  {
   "cell_type": "markdown",
   "id": "46e438fa",
   "metadata": {},
   "source": [
    "## Construir dados "
   ]
  },
  {
   "cell_type": "markdown",
   "id": "ddeff116",
   "metadata": {},
   "source": [
    "Pode ser necessário derivar alguns novos campos (por exemplo, usar a data de entrega e a data em que um cliente fez um pedido para calcular quanto tempo o cliente esperou para receber um pedido), agregar dados ou criar um novo formulário de dados.\n",
    "\n",
    "Entregáveis para esta tarefa incluem dois relatórios:\n",
    "\n",
    "Atributos derivados: um relatório que descreve quais novos campos (colunas) você construiu, como você fez isso e por quê.\n",
    "\n",
    "Registros gerados: um relatório que descreve quais novos casos (linhas) você construiu, como você fez isso e por quê."
   ]
  },
  {
   "cell_type": "markdown",
   "id": "56a34bfa",
   "metadata": {},
   "source": [
    "* Existem combinações de variáveis que podem ser construídas? \n",
    "* A variável resposta esta pronta? \n",
    "* Deltas normalmente são uma boa ideia\n",
    "* Bag of words? TFIDF? n-grams?\n",
    "* Tradução de textos\n",
    "* Podemos fazer alguma seleção de variáveis?"
   ]
  },
  {
   "cell_type": "markdown",
   "id": "393918aa",
   "metadata": {},
   "source": [
    "## Integrar dados "
   ]
  },
  {
   "cell_type": "markdown",
   "id": "001da50e",
   "metadata": {},
   "source": [
    "Seus dados agora podem estar em vários conjuntos de dados diferentes. Você precisará mesclar alguns ou todos esses conjuntos de dados diferentes para se preparar para a fase de modelagem.\n",
    "\n",
    "A entrega para esta tarefa são os dados mesclados. (E não faria mal documentar como a mesclagem foi realizada.)"
   ]
  },
  {
   "cell_type": "markdown",
   "id": "c6bc69c5",
   "metadata": {},
   "source": [
    "* Existem outras tabelas que serão utilizadas?"
   ]
  },
  {
   "cell_type": "markdown",
   "id": "b6fbd4c9",
   "metadata": {},
   "source": [
    "## Formatar os dados "
   ]
  },
  {
   "cell_type": "markdown",
   "id": "ed466d16",
   "metadata": {},
   "source": [
    "Os dados geralmente chegam a você em formatos diferentes dos mais convenientes para modelagem. (As alterações de formato geralmente são direcionadas pelo design de suas ferramentas.) Portanto, converta esses formatos agora.\n",
    "\n",
    "A entrega para esta tarefa são seus dados reformatados. (E um pequeno relatório descrevendo as mudanças que você fez seria uma coisa inteligente a incluir.)\n",
    "\n",
    "Você deve encerrar a fase de preparação de dados do processo de mineração de dados com um conjunto de dados pronto para modelagem e um relatório completo descrevendo o conjunto de dados."
   ]
  },
  {
   "cell_type": "markdown",
   "id": "ced55158",
   "metadata": {},
   "source": [
    "* Os dados estão no formato esperado?\n",
    "* Estão balanceados?"
   ]
  },
  {
   "cell_type": "markdown",
   "id": "4f5151c6",
   "metadata": {},
   "source": [
    "https://insightlab.ufc.br/pln-processamento-de-linguagem-natural-para-iniciantes"
   ]
  }
 ],
 "metadata": {
  "hide_input": false,
  "kernelspec": {
   "display_name": "Python 3",
   "language": "python",
   "name": "python3"
  },
  "language_info": {
   "codemirror_mode": {
    "name": "ipython",
    "version": 3
   },
   "file_extension": ".py",
   "mimetype": "text/x-python",
   "name": "python",
   "nbconvert_exporter": "python",
   "pygments_lexer": "ipython3",
   "version": "3.8.8"
  },
  "toc": {
   "base_numbering": 1,
   "nav_menu": {},
   "number_sections": true,
   "sideBar": true,
   "skip_h1_title": false,
   "title_cell": "Table of Contents",
   "title_sidebar": "Contents",
   "toc_cell": false,
   "toc_position": {},
   "toc_section_display": true,
   "toc_window_display": false
  }
 },
 "nbformat": 4,
 "nbformat_minor": 5
}
