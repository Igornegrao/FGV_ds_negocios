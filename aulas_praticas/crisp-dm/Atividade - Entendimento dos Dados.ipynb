{
 "cells": [
  {
   "cell_type": "markdown",
   "id": "03e2dd80",
   "metadata": {},
   "source": [
    "# Análise Exploratória dos dados"
   ]
  },
  {
   "cell_type": "markdown",
   "id": "a79b6e5b",
   "metadata": {},
   "source": [
    "## Apresentação dia 19/09 "
   ]
  },
  {
   "cell_type": "markdown",
   "id": "4c3f523c",
   "metadata": {},
   "source": [
    "Espera-se que nessa etapa sejam feitas tarefas de entendimento dos dados e análise de qualidade. Abaixo uma breve descrição do que é esperado. Para cada variável, faça perguntas e verifique se a hipotese se confirma. \n"
   ]
  },
  {
   "cell_type": "markdown",
   "id": "199a8003",
   "metadata": {},
   "source": [
    "**Entendimento**\n",
    "\n",
    "Nesta tarefa, você examina os dados mais de perto. Para cada variável, você observa o intervalo de valores e suas distribuições. Você usará manipulação de dados simples e técnicas estatísticas básicas para verificações adicionais dos dados. A exploração de dados suporta vários propósitos:\n",
    "\n",
    "* Familiarize-se com os dados.\n",
    "\n",
    "* Identifique sinais de problemas de qualidade de dados.\n",
    "\n",
    "* Defina o cenário para as etapas de preparação de dados.\n",
    "\n",
    "A entrega para esta tarefa é o relatório de exploração de dados. É o lugar para documentar quaisquer hipóteses ou descobertas iniciais que você desenvolveu durante a exploração de dados. Este relatório deve incluir uma descrição mais detalhada dos dados do que o relatório de descrição de dados, incluindo distribuições, resumos e quaisquer sinais de problemas de qualidade de dados.\n"
   ]
  },
  {
   "cell_type": "markdown",
   "id": "1798ad66",
   "metadata": {},
   "source": [
    "**Qualidade**\n",
    "\n",
    "Você tem os dados e os examinou, e agora precisa determinar se são bons o suficiente para apoiar seus objetivos. Muitas vezes, você terá algum problema de qualidade para resolver, mas ainda poderá avançar, mas às vezes a qualidade dos dados é tão ruim que não pode suportar seu plano e você terá que procurar alternativas. Alguns dos piores problemas de dados incluem: \n",
    "\n",
    "* Os dados que você precisa não existem. (Nunca existiu ou foi descartado? Esses dados podem ser coletados e salvos para uso futuro?)\n",
    "\n",
    "* Ele existe, mas você não pode tê-lo. (Essa restrição pode ser superada?)\n",
    "\n",
    "* Você encontra problemas graves de qualidade de dados (muitos valores ausentes ou incorretos que não podem ser corrigidos).\n",
    "\n",
    "A entrega para esta tarefa é o relatório de qualidade de dados. Isso resume os dados que você possui, problemas de qualidade menores e maiores que você encontrou e possíveis soluções para problemas de qualidade ou alternativas (como usar um recurso de dados alternativo). Se você estiver enfrentando problemas realmente sérios de qualidade de dados e não conseguir identificar uma solução adequada, talvez seja necessário recomendar a reconsideração de metas ou planos."
   ]
  }
 ],
 "metadata": {
  "hide_input": false,
  "kernelspec": {
   "display_name": "Python 3",
   "language": "python",
   "name": "python3"
  },
  "language_info": {
   "codemirror_mode": {
    "name": "ipython",
    "version": 3
   },
   "file_extension": ".py",
   "mimetype": "text/x-python",
   "name": "python",
   "nbconvert_exporter": "python",
   "pygments_lexer": "ipython3",
   "version": "3.8.8"
  },
  "toc": {
   "base_numbering": 1,
   "nav_menu": {},
   "number_sections": true,
   "sideBar": true,
   "skip_h1_title": false,
   "title_cell": "Table of Contents",
   "title_sidebar": "Contents",
   "toc_cell": false,
   "toc_position": {},
   "toc_section_display": true,
   "toc_window_display": false
  }
 },
 "nbformat": 4,
 "nbformat_minor": 5
}
